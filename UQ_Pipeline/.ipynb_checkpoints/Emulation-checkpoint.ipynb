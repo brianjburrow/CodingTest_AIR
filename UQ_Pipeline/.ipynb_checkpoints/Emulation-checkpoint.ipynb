{
 "cells": [
  {
   "cell_type": "markdown",
   "metadata": {},
   "source": [
    "# Emulation"
   ]
  },
  {
   "cell_type": "code",
   "execution_count": 2,
   "metadata": {},
   "outputs": [],
   "source": [
    "import numpy as np\n",
    "\n",
    "import numpy as np \n",
    "\n",
    "from matplotlib import pyplot as plt\n",
    "\n",
    "from sklearn.gaussian_process import GaussianProcessRegressor\n",
    "from sklearn.gaussian_process.kernels import RBF, ConstantKernel\n",
    "from sklearn.gaussian_process.kernels import Matern, WhiteKernel\n",
    "\n",
    "np.random.seed(1)\n",
    "\n",
    "import matplotlib.pyplot as plt\n",
    "%matplotlib inline\n",
    "\n",
    "import seaborn as sns\n",
    "\n",
    "sns.set(color_codes = True)\n",
    "\n"
   ]
  },
  {
   "cell_type": "code",
   "execution_count": 1,
   "metadata": {},
   "outputs": [],
   "source": [
    "# Let's define our system of interest\n",
    "def FEM_Model_gable_roof(x):\n",
    "    ## FEM_MODEL_gable_roof\n",
    "    # creates a scalar valued damage estimate with range [0, Inf]\n",
    "    # from a four dimensional input space\n",
    "    ## x[:,0] = building aspect ratio (height / width): unitless.  Range [0, 2]\n",
    "    ## x[:,1] = wind speed : miles per hour.  Range [0, 300]\n",
    "    ## x[:,2] = wind angle : radians.  Range [0, pi/2]\n",
    "    ## x[:,3] = design_speed : mile per hour. Range [0, 300]\n",
    "    adjustment_factor = 1\n",
    "    return np.cos(x[:,2])*x[:,1]*x[:,1]*x[:,0]/(adjustment_factor*x[:,3]*x[:,3])"
   ]
  },
  {
   "cell_type": "markdown",
   "metadata": {},
   "source": [
    "## Regression or Interpolation-Based Models"
   ]
  },
  {
   "cell_type": "markdown",
   "metadata": {},
   "source": [
    "### Algebraic Models"
   ]
  },
  {
   "cell_type": "markdown",
   "metadata": {},
   "source": [
    "#### Quadratic Response Surface Model\n",
    "\n",
    "In this section, we will construct a quadratic emulator of the form:\n",
    "$\\tilde{f}(q, \\beta) = \\beta_0 + \\sum_{i = 1}^p \\beta_i q_i + \\sum_{i = 1}^p \\beta_{ii} q_i^2 + \\sum_{i = 1}^p\\sum_{j > i}^p \\beta_{ij}q_iq_j$\n",
    "\n",
    "Since there are $P = \\frac{(p + 1)(p +2)}{2}$ coefficients, we need $M > P$ samples from our high-fidelity simulation code or experimental measurements.  From linear regression theory, the reast squares estimate is\n",
    "\n",
    "$\\beta = [X^TX]^{-1}X^Ty_s$"
   ]
  },
  {
   "cell_type": "code",
   "execution_count": null,
   "metadata": {},
   "outputs": [],
   "source": []
  },
  {
   "cell_type": "markdown",
   "metadata": {},
   "source": [
    "#### Kriging Model\n",
    "\n",
    "Issues associated with Gaussian process or kriging representations include ill-conditioning of $\\mathcal{R}$, exponential growth in the number of hyperparameters for large parameter dimensions $p$, multiple local maximum, and ridges near maximum values."
   ]
  },
  {
   "cell_type": "code",
   "execution_count": 51,
   "metadata": {},
   "outputs": [
    {
     "name": "stdout",
     "output_type": "stream",
     "text": [
      "initial params\n",
      "{'alpha': 1e-10, 'copy_X_train': True, 'kernel__k1': 1**2 + RBF(length_scale=[0.5, 300, 0.5, 300]), 'kernel__k2': WhiteKernel(noise_level=0.01), 'kernel__k1__k1': 1**2, 'kernel__k1__k2': RBF(length_scale=[0.5, 300, 0.5, 300]), 'kernel__k1__k1__constant_value': 1.0, 'kernel__k1__k1__constant_value_bounds': (1e-05, 100000.0), 'kernel__k1__k2__length_scale': [0.5, 300, 0.5, 300], 'kernel__k1__k2__length_scale_bounds': (1e-05, 100000.0), 'kernel__k2__noise_level': 0.01, 'kernel__k2__noise_level_bounds': (1e-05, 100000.0), 'kernel': 1**2 + RBF(length_scale=[0.5, 300, 0.5, 300]) + WhiteKernel(noise_level=0.01), 'n_restarts_optimizer': 1000, 'normalize_y': False, 'optimizer': 'fmin_l_bfgs_b', 'random_state': None}\n",
      "Training\n",
      "29.089340209960938\n",
      "-0.0014461747532314997\n",
      "learned kernel params\n",
      "{'k1': 44.9**2 + RBF(length_scale=[625, 156, 2.72, 30.5]), 'k2': WhiteKernel(noise_level=1e+05), 'k1__k1': 44.9**2, 'k1__k2': RBF(length_scale=[625, 156, 2.72, 30.5]), 'k1__k1__constant_value': 2012.3145739795018, 'k1__k1__constant_value_bounds': (1e-05, 100000.0), 'k1__k2__length_scale': array([624.68989865, 155.98322186,   2.72120297,  30.50944718]), 'k1__k2__length_scale_bounds': (1e-05, 100000.0), 'k2__noise_level': 100000.00000000001, 'k2__noise_level_bounds': (1e-05, 100000.0)}\n"
     ]
    }
   ],
   "source": [
    "import time\n",
    "nPoints = 100\n",
    "training_input = np.zeros([nPoints, 4])\n",
    "training_input[:, 0] = np.random.uniform(low = 0, high = 2, size = nPoints)\n",
    "training_input[:, 1] = np.random.uniform(low = 0, high = 300, size = nPoints)\n",
    "training_input[:, 2] = np.random.uniform(low = 0,  high = np.pi/2, size = nPoints)\n",
    "training_input[:, 3] = np.random.uniform(low = 0,  high = 300, size = nPoints)\n",
    "\n",
    "training_out = FEM_Model_gable_roof(training_input)\n",
    "\n",
    "len_scale = [0.5, 300, 0.5, 300]\n",
    "\n",
    "\n",
    "kernel = ConstantKernel() + RBF(length_scale = len_scale) + WhiteKernel(noise_level=0.01)\n",
    "\n",
    "gp = GaussianProcessRegressor(kernel = kernel, n_restarts_optimizer = 1000)\n",
    "\n",
    "print(\"initial params\")\n",
    "params = gp.get_params()\n",
    "print(params)\n",
    "\n",
    "print('Training')\n",
    "t = time.time()\n",
    "gp = gp.fit(training_input, training_out)\n",
    "elapsed = time.time() - t\n",
    "print(elapsed)\n",
    "\n",
    "score = gp.score(training_input, training_out)\n",
    "print(score)\n",
    "\n",
    "print(\"learned kernel params\")\n",
    "print(gp.kernel_.get_params())"
   ]
  },
  {
   "cell_type": "code",
   "execution_count": 50,
   "metadata": {},
   "outputs": [
    {
     "data": {
      "text/plain": [
       "<ErrorbarContainer object of 3 artists>"
      ]
     },
     "execution_count": 50,
     "metadata": {},
     "output_type": "execute_result"
    },
    {
     "data": {
      "image/png": "[encoded data removed]",
      "text/plain": [
       "<Figure size 864x576 with 1 Axes>"
      ]
     },
     "metadata": {
      "needs_background": "light"
     },
     "output_type": "display_data"
    }
   ],
   "source": [
    "test_set = np.zeros([nPoints, 4])\n",
    "test_set[:,0] = 1.\n",
    "test_set[:,1] = np.linspace(0, 300, num = nPoints)\n",
    "test_set[:,2] = np.pi/4.\n",
    "test_set[:,3] = 160\n",
    "\n",
    "actual_output = FEM_Model_gable_roof(test_set)\n",
    "\n",
    "approx_output, approx_err = gp.predict(test_set, return_std = True)\n",
    "\n",
    "plt.figure(figsize = [12, 8])\n",
    "plt.plot(test_set[:,1], actual_output)\n",
    "plt.errorbar(test_set[:,1], approx_output, yerr = approx_err*2.)"
   ]
  },
  {
   "cell_type": "code",
   "execution_count": null,
   "metadata": {},
   "outputs": [],
   "source": []
  },
  {
   "cell_type": "markdown",
   "metadata": {},
   "source": [
    "### Evolutionary PDEs"
   ]
  },
  {
   "cell_type": "markdown",
   "metadata": {},
   "source": [
    "## Projection-Based Models"
   ]
  },
  {
   "cell_type": "markdown",
   "metadata": {},
   "source": [
    "### Initial Conditions"
   ]
  },
  {
   "cell_type": "markdown",
   "metadata": {},
   "source": [
    "### Reduced-Order States and Snapshot Sets"
   ]
  },
  {
   "cell_type": "markdown",
   "metadata": {},
   "source": [
    "## Eigenfunction or Modal Expansions"
   ]
  },
  {
   "cell_type": "markdown",
   "metadata": {},
   "source": [
    "## Snapshot-Based Methods including POD"
   ]
  },
  {
   "cell_type": "markdown",
   "metadata": {},
   "source": [
    "### POD with Distributed Observations"
   ]
  },
  {
   "cell_type": "markdown",
   "metadata": {},
   "source": [
    "### POD with Discrete Observations"
   ]
  },
  {
   "cell_type": "markdown",
   "metadata": {},
   "source": [
    "## High-Dimensional Model Representation (HMDR) Techniques"
   ]
  },
  {
   "cell_type": "markdown",
   "metadata": {},
   "source": [
    "### ANOVA-HDMR"
   ]
  },
  {
   "cell_type": "markdown",
   "metadata": {},
   "source": [
    "### RS-HDMR"
   ]
  },
  {
   "cell_type": "markdown",
   "metadata": {},
   "source": [
    "### Cut-HDMR"
   ]
  },
  {
   "cell_type": "markdown",
   "metadata": {},
   "source": [
    "### ANOVA-HDMR Based on Cut-HDMR Expansions"
   ]
  },
  {
   "cell_type": "markdown",
   "metadata": {},
   "source": [
    "## Surrogate-Based Bayesian Model Calibration"
   ]
  },
  {
   "cell_type": "code",
   "execution_count": null,
   "metadata": {},
   "outputs": [],
   "source": []
  }
 ],
 "metadata": {
  "kernelspec": {
   "display_name": "Python 3",
   "language": "python",
   "name": "python3"
  },
  "language_info": {
   "codemirror_mode": {
    "name": "ipython",
    "version": 3
   },
   "file_extension": ".py",
   "mimetype": "text/x-python",
   "name": "python",
   "nbconvert_exporter": "python",
   "pygments_lexer": "ipython3",
   "version": "3.7.4"
  }
 },
 "nbformat": 4,
 "nbformat_minor": 2
}
