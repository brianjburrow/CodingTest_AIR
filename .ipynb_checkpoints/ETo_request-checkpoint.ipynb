{
 "cells": [
  {
   "cell_type": "code",
   "execution_count": 8,
   "metadata": {},
   "outputs": [],
   "source": [
    "import scipy as sp\n",
    "import numpy as np\n",
    "import pandas as pd\n",
    "\n",
    "import requests"
   ]
  },
  {
   "cell_type": "code",
   "execution_count": 22,
   "metadata": {},
   "outputs": [
    {
     "name": "stdout",
     "output_type": "stream",
     "text": [
      "HTTPSConnectionPool(host='et.water.ca.gov', port=443): Max retries exceeded with url: /api/data?appKey=ae04592f-7178-4b77-84f2-b8bd20e3214e&targets=2,8,127&startDate=2010-01-01&endDate=2010-01-05 (Caused by SSLError(SSLError(\"bad handshake: Error([('SSL routines', 'tls_process_server_certificate', 'certificate verify failed')])\")))\n"
     ]
    }
   ],
   "source": [
    "params = {\n",
    "         \"appKey\": \"fakeKey\",\n",
    "         \"targets\": ['2', '8', '127'],\n",
    "         \"startDate\":\"2010-01-01\",\n",
    "         \"endDate\":\"2010-01-05\"}\n",
    "\n",
    "try:\n",
    "    result = requests.get(\"https://et.water.ca.gov/api/data?appKey=fakeKey&targets=2,8,127&startDate=2010-01-01&endDate=2010-01-05\")\n",
    "except Exception as e:\n",
    "    print(e)"
   ]
  },
  {
   "cell_type": "code",
   "execution_count": 42,
   "metadata": {},
   "outputs": [],
   "source": [
    "import xml.etree.ElementTree as et\n",
    "\n",
    "xtree = et.parse(\"data\")\n",
    "root = xtree.getroot()"
   ]
  },
  {
   "cell_type": "code",
   "execution_count": 43,
   "metadata": {},
   "outputs": [
    {
     "data": {
      "text/plain": [
       "<Element 'et-xml' at 0x0000015F109EFF98>"
      ]
     },
     "execution_count": 43,
     "metadata": {},
     "output_type": "execute_result"
    }
   ],
   "source": [
    "xroot"
   ]
  },
  {
   "cell_type": "code",
   "execution_count": 56,
   "metadata": {},
   "outputs": [
    {
     "name": "stdout",
     "output_type": "stream",
     "text": [
      "{'record', 'provider', 'et-xml', 'day-asce-eto', 'data', 'hly-asce-eto'}\n"
     ]
    }
   ],
   "source": [
    "tag_set = set()\n",
    "\n",
    "for child in root.iter():\n",
    "    tag_set.add(child.tag)\n",
    "print(tag_set)  "
   ]
  },
  {
   "cell_type": "code",
   "execution_count": 92,
   "metadata": {},
   "outputs": [
    {
     "data": {
      "text/plain": [
       "'data'"
      ]
     },
     "execution_count": 92,
     "metadata": {},
     "output_type": "execute_result"
    }
   ],
   "source": [
    "xroot[0].attrib\n",
    "xroot[0].tag"
   ]
  },
  {
   "cell_type": "code",
   "execution_count": 98,
   "metadata": {},
   "outputs": [
    {
     "data": {
      "text/plain": [
       "[<Element 'record' at 0x0000015F10A08958>,\n",
       " <Element 'record' at 0x0000015F10A02F98>,\n",
       " <Element 'record' at 0x0000015F10A02DB8>,\n",
       " <Element 'record' at 0x0000015F10A02BD8>,\n",
       " <Element 'record' at 0x0000015F10A029F8>,\n",
       " <Element 'record' at 0x0000015F10A02688>,\n",
       " <Element 'record' at 0x0000015F10A02598>,\n",
       " <Element 'record' at 0x0000015F10A02868>,\n",
       " <Element 'record' at 0x0000015F10A025E8>,\n",
       " <Element 'record' at 0x0000015F10A02368>,\n",
       " <Element 'record' at 0x0000015F10A02228>,\n",
       " <Element 'record' at 0x0000015F10A020E8>,\n",
       " <Element 'record' at 0x0000015F10A02048>,\n",
       " <Element 'record' at 0x0000015F10A05188>,\n",
       " <Element 'record' at 0x0000015F10A3A638>,\n",
       " <Element 'record' at 0x0000015F10A3A1D8>,\n",
       " <Element 'record' at 0x0000015F10A3A6D8>,\n",
       " <Element 'record' at 0x0000015F10A3A7C8>,\n",
       " <Element 'record' at 0x0000015F10A3A8B8>,\n",
       " <Element 'record' at 0x0000015F10A3A9A8>,\n",
       " <Element 'record' at 0x0000015F10A3AA98>,\n",
       " <Element 'record' at 0x0000015F10A3AB88>,\n",
       " <Element 'record' at 0x0000015F10A3AC78>,\n",
       " <Element 'record' at 0x0000015F10A3AE08>,\n",
       " <Element 'record' at 0x0000015F10A3AF98>]"
      ]
     },
     "execution_count": 98,
     "metadata": {},
     "output_type": "execute_result"
    }
   ],
   "source": [
    "xroot[0][0][:]"
   ]
  },
  {
   "cell_type": "code",
   "execution_count": 149,
   "metadata": {},
   "outputs": [
    {
     "name": "stdout",
     "output_type": "stream",
     "text": [
      "<Element 'day-asce-eto' at 0x0000015F10A08908>\n",
      "<Element 'hly-asce-eto' at 0x0000015F10A02EF8>\n",
      "<Element 'hly-asce-eto' at 0x0000015F10A02D18>\n",
      "<Element 'hly-asce-eto' at 0x0000015F10A02AE8>\n",
      "<Element 'hly-asce-eto' at 0x0000015F10A029A8>\n",
      "<Element 'hly-asce-eto' at 0x0000015F10A026D8>\n",
      "<Element 'hly-asce-eto' at 0x0000015F10A028B8>\n",
      "<Element 'hly-asce-eto' at 0x0000015F10A02728>\n",
      "<Element 'hly-asce-eto' at 0x0000015F10A02638>\n",
      "<Element 'hly-asce-eto' at 0x0000015F10A02318>\n",
      "<Element 'hly-asce-eto' at 0x0000015F10A02278>\n",
      "<Element 'hly-asce-eto' at 0x0000015F10A02138>\n",
      "<Element 'hly-asce-eto' at 0x0000015F109F75E8>\n",
      "<Element 'hly-asce-eto' at 0x0000015F109F49A8>\n",
      "<Element 'hly-asce-eto' at 0x0000015F10A3A048>\n",
      "<Element 'hly-asce-eto' at 0x0000015F10A3A278>\n",
      "<Element 'hly-asce-eto' at 0x0000015F10A3A728>\n",
      "<Element 'hly-asce-eto' at 0x0000015F10A3A818>\n",
      "<Element 'hly-asce-eto' at 0x0000015F10A3A908>\n",
      "<Element 'hly-asce-eto' at 0x0000015F10A3A9F8>\n",
      "<Element 'hly-asce-eto' at 0x0000015F10A3AAE8>\n",
      "<Element 'hly-asce-eto' at 0x0000015F10A3ABD8>\n",
      "<Element 'hly-asce-eto' at 0x0000015F10A3AD18>\n",
      "<Element 'hly-asce-eto' at 0x0000015F10A3AEA8>\n",
      "<Element 'hly-asce-eto' at 0x0000015F10A3D098>\n"
     ]
    }
   ],
   "source": [
    "for record in xroot.iter('record'):\n",
    "    try:\n",
    "        print(record[0])\n",
    "    except:\n",
    "        print(None)"
   ]
  },
  {
   "cell_type": "code",
   "execution_count": 148,
   "metadata": {},
   "outputs": [
    {
     "name": "stdout",
     "output_type": "stream",
     "text": [
      "{'qc': ' ', 'unit': '(in)'}\n",
      "{'qc': ' ', 'unit': '(in)'}\n",
      "{'qc': ' ', 'unit': '(in)'}\n",
      "{'qc': ' ', 'unit': '(in)'}\n",
      "{'qc': ' ', 'unit': '(in)'}\n",
      "{'qc': ' ', 'unit': '(in)'}\n",
      "{'qc': ' ', 'unit': '(in)'}\n",
      "{'qc': ' ', 'unit': '(in)'}\n",
      "{'qc': ' ', 'unit': '(in)'}\n",
      "{'qc': ' ', 'unit': '(in)'}\n",
      "{'qc': ' ', 'unit': '(in)'}\n",
      "{'qc': ' ', 'unit': '(in)'}\n",
      "{'qc': ' ', 'unit': '(in)'}\n",
      "{'qc': ' ', 'unit': '(in)'}\n",
      "{'qc': ' ', 'unit': '(in)'}\n",
      "{'qc': ' ', 'unit': '(in)'}\n",
      "{'qc': ' ', 'unit': '(in)'}\n",
      "{'qc': ' ', 'unit': '(in)'}\n",
      "{'qc': ' ', 'unit': '(in)'}\n",
      "{'qc': ' ', 'unit': '(in)'}\n",
      "{'qc': ' ', 'unit': '(in)'}\n",
      "{'qc': ' ', 'unit': '(in)'}\n",
      "{'qc': ' ', 'unit': '(in)'}\n",
      "{'qc': ' ', 'unit': '(in)'}\n",
      "{'qc': ' ', 'unit': '(in)'}\n"
     ]
    }
   ],
   "source": [
    "for record in xroot.iter('record'):\n",
    "    try:\n",
    "        print(record[0].attrib)\n",
    "    except:\n",
    "        print(None)"
   ]
  },
  {
   "cell_type": "code",
   "execution_count": 144,
   "metadata": {},
   "outputs": [],
   "source": [
    "def process_CIMIS_ETo_xml_file(xml_file):\n",
    "    import xml.etree.ElementTree as ET\n",
    "    tree = ET.parse(xml_file)\n",
    "    root = tree.getroot()\n",
    "    num_elem = len(root.findall('data/provider/record')) ## Assuming XML Formatting is consistent.  record is a child of provider which is a child of data.\n",
    "    \n",
    "    df_list = [None]*num_elem\n",
    "    \n",
    "    for iRecord, record in enumerate(root.iter('record')):\n",
    "        temp_dict = record.attrib\n",
    "        try:\n",
    "            hly_asce_eto_value = record.find(\"hly-asce-eto\").text\n",
    "            temp_dict[\"hly_asce_eto\"] = hly_asce_eto_value\n",
    "        except:\n",
    "            try:\n",
    "                daily_asce_eto_value = record.find('day-asce-eto').text\n",
    "                temp_dict[\"day_asce_eto\"] = daily_asce_eto_value\n",
    "            except:\n",
    "                print(\"Neither Hourly or Daily ASCE ETo data found for record\", temp_dict)\n",
    "                \n",
    "        df_list[iRecord] = temp_dict\n",
    "    df = pd.DataFrame(df_list)\n",
    "    \n",
    "    return df\n",
    "\n",
    "xmlfile = \"data\"\n",
    "dataframe = process_CIMIS_ETo_xml_file(xmlfile)"
   ]
  },
  {
   "cell_type": "code",
   "execution_count": 145,
   "metadata": {},
   "outputs": [
    {
     "data": {
      "text/html": [
       "<div>\n",
       "<style scoped>\n",
       "    .dataframe tbody tr th:only-of-type {\n",
       "        vertical-align: middle;\n",
       "    }\n",
       "\n",
       "    .dataframe tbody tr th {\n",
       "        vertical-align: top;\n",
       "    }\n",
       "\n",
       "    .dataframe thead th {\n",
       "        text-align: right;\n",
       "    }\n",
       "</style>\n",
       "<table border=\"1\" class=\"dataframe\">\n",
       "  <thead>\n",
       "    <tr style=\"text-align: right;\">\n",
       "      <th></th>\n",
       "      <th>date</th>\n",
       "      <th>julian</th>\n",
       "      <th>station</th>\n",
       "      <th>standard</th>\n",
       "      <th>zip-code</th>\n",
       "      <th>scope</th>\n",
       "      <th>day_asce_eto</th>\n",
       "      <th>hour</th>\n",
       "      <th>hly_asce_eto</th>\n",
       "    </tr>\n",
       "  </thead>\n",
       "  <tbody>\n",
       "    <tr>\n",
       "      <td>0</td>\n",
       "      <td>2010-01-01</td>\n",
       "      <td>1</td>\n",
       "      <td>5</td>\n",
       "      <td>english</td>\n",
       "      <td>93263, 93280, 93388</td>\n",
       "      <td>daily</td>\n",
       "      <td>0.03</td>\n",
       "      <td>NaN</td>\n",
       "      <td>NaN</td>\n",
       "    </tr>\n",
       "    <tr>\n",
       "      <td>1</td>\n",
       "      <td>2010-01-01</td>\n",
       "      <td>1</td>\n",
       "      <td>5</td>\n",
       "      <td>english</td>\n",
       "      <td>93263, 93280, 93388</td>\n",
       "      <td>hourly</td>\n",
       "      <td>NaN</td>\n",
       "      <td>0100</td>\n",
       "      <td>0</td>\n",
       "    </tr>\n",
       "    <tr>\n",
       "      <td>2</td>\n",
       "      <td>2010-01-01</td>\n",
       "      <td>1</td>\n",
       "      <td>5</td>\n",
       "      <td>english</td>\n",
       "      <td>93263, 93280, 93388</td>\n",
       "      <td>hourly</td>\n",
       "      <td>NaN</td>\n",
       "      <td>0200</td>\n",
       "      <td>0</td>\n",
       "    </tr>\n",
       "    <tr>\n",
       "      <td>3</td>\n",
       "      <td>2010-01-01</td>\n",
       "      <td>1</td>\n",
       "      <td>5</td>\n",
       "      <td>english</td>\n",
       "      <td>93263, 93280, 93388</td>\n",
       "      <td>hourly</td>\n",
       "      <td>NaN</td>\n",
       "      <td>0300</td>\n",
       "      <td>0</td>\n",
       "    </tr>\n",
       "    <tr>\n",
       "      <td>4</td>\n",
       "      <td>2010-01-01</td>\n",
       "      <td>1</td>\n",
       "      <td>5</td>\n",
       "      <td>english</td>\n",
       "      <td>93263, 93280, 93388</td>\n",
       "      <td>hourly</td>\n",
       "      <td>NaN</td>\n",
       "      <td>0400</td>\n",
       "      <td>0</td>\n",
       "    </tr>\n",
       "  </tbody>\n",
       "</table>\n",
       "</div>"
      ],
      "text/plain": [
       "         date julian station standard             zip-code   scope  \\\n",
       "0  2010-01-01      1       5  english  93263, 93280, 93388   daily   \n",
       "1  2010-01-01      1       5  english  93263, 93280, 93388  hourly   \n",
       "2  2010-01-01      1       5  english  93263, 93280, 93388  hourly   \n",
       "3  2010-01-01      1       5  english  93263, 93280, 93388  hourly   \n",
       "4  2010-01-01      1       5  english  93263, 93280, 93388  hourly   \n",
       "\n",
       "  day_asce_eto  hour hly_asce_eto  \n",
       "0         0.03   NaN          NaN  \n",
       "1          NaN  0100            0  \n",
       "2          NaN  0200            0  \n",
       "3          NaN  0300            0  \n",
       "4          NaN  0400            0  "
      ]
     },
     "execution_count": 145,
     "metadata": {},
     "output_type": "execute_result"
    }
   ],
   "source": [
    "dataframe.head()"
   ]
  },
  {
   "cell_type": "code",
   "execution_count": 147,
   "metadata": {},
   "outputs": [
    {
     "name": "stdout",
     "output_type": "stream",
     "text": [
      "<class 'pandas.core.frame.DataFrame'>\n",
      "RangeIndex: 25 entries, 0 to 24\n",
      "Data columns (total 9 columns):\n",
      "date            25 non-null object\n",
      "julian          25 non-null object\n",
      "station         25 non-null object\n",
      "standard        25 non-null object\n",
      "zip-code        25 non-null object\n",
      "scope           25 non-null object\n",
      "day_asce_eto    1 non-null object\n",
      "hour            24 non-null object\n",
      "hly_asce_eto    24 non-null object\n",
      "dtypes: object(9)\n",
      "memory usage: 13.5 KB\n"
     ]
    }
   ],
   "source": [
    "dataframe.info(memory_usage=\"deep\")"
   ]
  },
  {
   "cell_type": "code",
   "execution_count": 150,
   "metadata": {},
   "outputs": [],
   "source": [
    "for col in dataframe.columns:\n",
    "    try:\n",
    "        dataframe[col] = pd.to_numeric(dataframe[col], downcast = 'unsigned')\n",
    "    except:\n",
    "        dataframe[col] = dataframe[col].astype('category')\n"
   ]
  },
  {
   "cell_type": "code",
   "execution_count": 151,
   "metadata": {},
   "outputs": [
    {
     "name": "stdout",
     "output_type": "stream",
     "text": [
      "<class 'pandas.core.frame.DataFrame'>\n",
      "RangeIndex: 25 entries, 0 to 24\n",
      "Data columns (total 9 columns):\n",
      "date            25 non-null category\n",
      "julian          25 non-null uint8\n",
      "station         25 non-null uint8\n",
      "standard        25 non-null category\n",
      "zip-code        25 non-null category\n",
      "scope           25 non-null category\n",
      "day_asce_eto    1 non-null float64\n",
      "hour            24 non-null float64\n",
      "hly_asce_eto    24 non-null float64\n",
      "dtypes: category(4), float64(3), uint8(2)\n",
      "memory usage: 1.5 KB\n"
     ]
    }
   ],
   "source": [
    "dataframe.info(memory_usage='deep')"
   ]
  },
  {
   "cell_type": "code",
   "execution_count": 195,
   "metadata": {},
   "outputs": [],
   "source": [
    "def process_CIMIS_ETo_xml_file_set_with_downcast(xml_file_set):\n",
    "    import xml.etree.ElementTree as ET\n",
    "    nFiles = len(xml_file_set)\n",
    "    total_df_list = [None]*nFiles\n",
    "    \n",
    "    for iFile, xml_file in enumerate(xml_file_set):\n",
    "        tree = ET.parse(xml_file)\n",
    "        root = tree.getroot()\n",
    "        num_elem = len(root.findall('data/provider/record')) ## Assuming XML Formatting is consistent.  record is a child of provider which is a child of data.\n",
    "\n",
    "        df_list = [None]*num_elem\n",
    "\n",
    "        for iRecord, record in enumerate(root.iter('record')):\n",
    "            temp_dict = record.attrib\n",
    "            try:\n",
    "                hly_asce_eto_value = record.find(\"hly-asce-eto\").text\n",
    "                temp_dict[\"hly_asce_eto\"] = hly_asce_eto_value\n",
    "            except:\n",
    "                try:\n",
    "                    daily_asce_eto_value = record.find('day-asce-eto').text\n",
    "                    temp_dict[\"day_asce_eto\"] = daily_asce_eto_value\n",
    "                except:\n",
    "                    print(\"Neither Hourly or Daily ASCE ETo data found for record\", temp_dict)\n",
    "\n",
    "            df_list[iRecord] = temp_dict\n",
    "        df = pd.DataFrame(df_list)\n",
    "        for col in df.columns:\n",
    "            if col == 'date':\n",
    "                df[col] = pd.to_datetime(df[col]) # downcast to datetime object\n",
    "            else:\n",
    "                try:\n",
    "                    df[col] = pd.to_numeric(df[col], downcast = 'unsigned') # try to downcast to smallest unsigned int\n",
    "                    if type(df[col].iloc[0]) == np.float64: # if successfully downcast to float64 from object\n",
    "                        df[col] = pd.to_numeric(df[col], downcast = 'float') # try to downcast to float 32\n",
    "                except:\n",
    "                    df[col] = df[col].astype('category')\n",
    "        total_df_list[iFile] = df\n",
    "    \n",
    "    output = pd.concat(total_df_list)\n",
    "    return output"
   ]
  },
  {
   "cell_type": "code",
   "execution_count": 196,
   "metadata": {},
   "outputs": [
    {
     "name": "stdout",
     "output_type": "stream",
     "text": [
      "['data_01_to_03', 'data_03_05', 'data_05_07', 'data_07_09', 'data_09_11', 'data_11_01']\n"
     ]
    }
   ],
   "source": [
    "import glob\n",
    "xml_file_setlist = glob.glob(\"data_*\")\n",
    "print(xml_file_setlist)"
   ]
  },
  {
   "cell_type": "code",
   "execution_count": 197,
   "metadata": {},
   "outputs": [],
   "source": [
    "dataframe = process_CIMIS_ETo_xml_file_set_with_downcast(xml_file_setlist)"
   ]
  },
  {
   "cell_type": "code",
   "execution_count": 198,
   "metadata": {},
   "outputs": [
    {
     "name": "stdout",
     "output_type": "stream",
     "text": [
      "<class 'pandas.core.frame.DataFrame'>\n",
      "Int64Index: 9225 entries, 0 to 1499\n",
      "Data columns (total 9 columns):\n",
      "date            9225 non-null datetime64[ns]\n",
      "julian          9225 non-null uint16\n",
      "station         9225 non-null uint8\n",
      "standard        9225 non-null category\n",
      "zip-code        9225 non-null category\n",
      "scope           9225 non-null category\n",
      "day_asce_eto    369 non-null float32\n",
      "hour            8856 non-null float32\n",
      "hly_asce_eto    8855 non-null float32\n",
      "dtypes: category(3), datetime64[ns](1), float32(3), uint16(1), uint8(1)\n",
      "memory usage: 306.8 KB\n"
     ]
    }
   ],
   "source": [
    "dataframe.info(memory_usage='deep', verbose=True)"
   ]
  },
  {
   "cell_type": "code",
   "execution_count": 194,
   "metadata": {},
   "outputs": [
    {
     "data": {
      "text/html": [
       "<div>\n",
       "<style scoped>\n",
       "    .dataframe tbody tr th:only-of-type {\n",
       "        vertical-align: middle;\n",
       "    }\n",
       "\n",
       "    .dataframe tbody tr th {\n",
       "        vertical-align: top;\n",
       "    }\n",
       "\n",
       "    .dataframe thead th {\n",
       "        text-align: right;\n",
       "    }\n",
       "</style>\n",
       "<table border=\"1\" class=\"dataframe\">\n",
       "  <thead>\n",
       "    <tr style=\"text-align: right;\">\n",
       "      <th></th>\n",
       "      <th>date</th>\n",
       "      <th>julian</th>\n",
       "      <th>station</th>\n",
       "      <th>standard</th>\n",
       "      <th>zip-code</th>\n",
       "      <th>scope</th>\n",
       "      <th>day_asce_eto</th>\n",
       "      <th>hour</th>\n",
       "      <th>hly_asce_eto</th>\n",
       "    </tr>\n",
       "  </thead>\n",
       "  <tbody>\n",
       "    <tr>\n",
       "      <td>0</td>\n",
       "      <td>2006-01-01</td>\n",
       "      <td>1</td>\n",
       "      <td>5</td>\n",
       "      <td>english</td>\n",
       "      <td>93263, 93280, 93388</td>\n",
       "      <td>daily</td>\n",
       "      <td>0.00</td>\n",
       "      <td>NaN</td>\n",
       "      <td>NaN</td>\n",
       "    </tr>\n",
       "    <tr>\n",
       "      <td>1</td>\n",
       "      <td>2006-01-02</td>\n",
       "      <td>2</td>\n",
       "      <td>5</td>\n",
       "      <td>english</td>\n",
       "      <td>93263, 93280, 93388</td>\n",
       "      <td>daily</td>\n",
       "      <td>0.05</td>\n",
       "      <td>NaN</td>\n",
       "      <td>NaN</td>\n",
       "    </tr>\n",
       "    <tr>\n",
       "      <td>2</td>\n",
       "      <td>2006-01-03</td>\n",
       "      <td>3</td>\n",
       "      <td>5</td>\n",
       "      <td>english</td>\n",
       "      <td>93263, 93280, 93388</td>\n",
       "      <td>daily</td>\n",
       "      <td>0.05</td>\n",
       "      <td>NaN</td>\n",
       "      <td>NaN</td>\n",
       "    </tr>\n",
       "    <tr>\n",
       "      <td>3</td>\n",
       "      <td>2006-01-04</td>\n",
       "      <td>4</td>\n",
       "      <td>5</td>\n",
       "      <td>english</td>\n",
       "      <td>93263, 93280, 93388</td>\n",
       "      <td>daily</td>\n",
       "      <td>0.05</td>\n",
       "      <td>NaN</td>\n",
       "      <td>NaN</td>\n",
       "    </tr>\n",
       "    <tr>\n",
       "      <td>4</td>\n",
       "      <td>2006-01-05</td>\n",
       "      <td>5</td>\n",
       "      <td>5</td>\n",
       "      <td>english</td>\n",
       "      <td>93263, 93280, 93388</td>\n",
       "      <td>daily</td>\n",
       "      <td>0.06</td>\n",
       "      <td>NaN</td>\n",
       "      <td>NaN</td>\n",
       "    </tr>\n",
       "  </tbody>\n",
       "</table>\n",
       "</div>"
      ],
      "text/plain": [
       "        date  julian  station standard             zip-code  scope  \\\n",
       "0 2006-01-01       1        5  english  93263, 93280, 93388  daily   \n",
       "1 2006-01-02       2        5  english  93263, 93280, 93388  daily   \n",
       "2 2006-01-03       3        5  english  93263, 93280, 93388  daily   \n",
       "3 2006-01-04       4        5  english  93263, 93280, 93388  daily   \n",
       "4 2006-01-05       5        5  english  93263, 93280, 93388  daily   \n",
       "\n",
       "   day_asce_eto  hour  hly_asce_eto  \n",
       "0          0.00   NaN           NaN  \n",
       "1          0.05   NaN           NaN  \n",
       "2          0.05   NaN           NaN  \n",
       "3          0.05   NaN           NaN  \n",
       "4          0.06   NaN           NaN  "
      ]
     },
     "execution_count": 194,
     "metadata": {},
     "output_type": "execute_result"
    }
   ],
   "source": [
    "dataframe.head()"
   ]
  },
  {
   "cell_type": "code",
   "execution_count": 199,
   "metadata": {},
   "outputs": [
    {
     "data": {
      "text/html": [
       "<div>\n",
       "<style scoped>\n",
       "    .dataframe tbody tr th:only-of-type {\n",
       "        vertical-align: middle;\n",
       "    }\n",
       "\n",
       "    .dataframe tbody tr th {\n",
       "        vertical-align: top;\n",
       "    }\n",
       "\n",
       "    .dataframe thead th {\n",
       "        text-align: right;\n",
       "    }\n",
       "</style>\n",
       "<table border=\"1\" class=\"dataframe\">\n",
       "  <thead>\n",
       "    <tr style=\"text-align: right;\">\n",
       "      <th></th>\n",
       "      <th>julian</th>\n",
       "      <th>station</th>\n",
       "      <th>day_asce_eto</th>\n",
       "      <th>hour</th>\n",
       "      <th>hly_asce_eto</th>\n",
       "    </tr>\n",
       "  </thead>\n",
       "  <tbody>\n",
       "    <tr>\n",
       "      <td>count</td>\n",
       "      <td>9225.000000</td>\n",
       "      <td>9225.0</td>\n",
       "      <td>369.000000</td>\n",
       "      <td>8856.000000</td>\n",
       "      <td>8855.000000</td>\n",
       "    </tr>\n",
       "    <tr>\n",
       "      <td>mean</td>\n",
       "      <td>182.498645</td>\n",
       "      <td>5.0</td>\n",
       "      <td>0.150542</td>\n",
       "      <td>1250.000000</td>\n",
       "      <td>0.006056</td>\n",
       "    </tr>\n",
       "    <tr>\n",
       "      <td>std</td>\n",
       "      <td>104.855457</td>\n",
       "      <td>0.0</td>\n",
       "      <td>0.084027</td>\n",
       "      <td>692.261169</td>\n",
       "      <td>0.009354</td>\n",
       "    </tr>\n",
       "    <tr>\n",
       "      <td>min</td>\n",
       "      <td>1.000000</td>\n",
       "      <td>5.0</td>\n",
       "      <td>0.000000</td>\n",
       "      <td>100.000000</td>\n",
       "      <td>0.000000</td>\n",
       "    </tr>\n",
       "    <tr>\n",
       "      <td>25%</td>\n",
       "      <td>92.000000</td>\n",
       "      <td>5.0</td>\n",
       "      <td>0.070000</td>\n",
       "      <td>675.000000</td>\n",
       "      <td>0.000000</td>\n",
       "    </tr>\n",
       "    <tr>\n",
       "      <td>50%</td>\n",
       "      <td>182.000000</td>\n",
       "      <td>5.0</td>\n",
       "      <td>0.130000</td>\n",
       "      <td>1250.000000</td>\n",
       "      <td>0.000000</td>\n",
       "    </tr>\n",
       "    <tr>\n",
       "      <td>75%</td>\n",
       "      <td>273.000000</td>\n",
       "      <td>5.0</td>\n",
       "      <td>0.230000</td>\n",
       "      <td>1825.000000</td>\n",
       "      <td>0.010000</td>\n",
       "    </tr>\n",
       "    <tr>\n",
       "      <td>max</td>\n",
       "      <td>364.000000</td>\n",
       "      <td>5.0</td>\n",
       "      <td>0.300000</td>\n",
       "      <td>2400.000000</td>\n",
       "      <td>0.030000</td>\n",
       "    </tr>\n",
       "  </tbody>\n",
       "</table>\n",
       "</div>"
      ],
      "text/plain": [
       "            julian  station  day_asce_eto         hour  hly_asce_eto\n",
       "count  9225.000000   9225.0    369.000000  8856.000000   8855.000000\n",
       "mean    182.498645      5.0      0.150542  1250.000000      0.006056\n",
       "std     104.855457      0.0      0.084027   692.261169      0.009354\n",
       "min       1.000000      5.0      0.000000   100.000000      0.000000\n",
       "25%      92.000000      5.0      0.070000   675.000000      0.000000\n",
       "50%     182.000000      5.0      0.130000  1250.000000      0.000000\n",
       "75%     273.000000      5.0      0.230000  1825.000000      0.010000\n",
       "max     364.000000      5.0      0.300000  2400.000000      0.030000"
      ]
     },
     "execution_count": 199,
     "metadata": {},
     "output_type": "execute_result"
    }
   ],
   "source": [
    "dataframe.describe()"
   ]
  },
  {
   "cell_type": "markdown",
   "metadata": {},
   "source": [
    "We have 369 days instead of 365.  We imported 6 files, with some potential for overlapping dates"
   ]
  },
  {
   "cell_type": "code",
   "execution_count": 200,
   "metadata": {},
   "outputs": [
    {
     "data": {
      "text/html": [
       "<div>\n",
       "<style scoped>\n",
       "    .dataframe tbody tr th:only-of-type {\n",
       "        vertical-align: middle;\n",
       "    }\n",
       "\n",
       "    .dataframe tbody tr th {\n",
       "        vertical-align: top;\n",
       "    }\n",
       "\n",
       "    .dataframe thead th {\n",
       "        text-align: right;\n",
       "    }\n",
       "</style>\n",
       "<table border=\"1\" class=\"dataframe\">\n",
       "  <thead>\n",
       "    <tr style=\"text-align: right;\">\n",
       "      <th></th>\n",
       "      <th>julian</th>\n",
       "      <th>station</th>\n",
       "      <th>day_asce_eto</th>\n",
       "      <th>hour</th>\n",
       "      <th>hly_asce_eto</th>\n",
       "    </tr>\n",
       "  </thead>\n",
       "  <tbody>\n",
       "    <tr>\n",
       "      <td>count</td>\n",
       "      <td>9100.000000</td>\n",
       "      <td>9100.0</td>\n",
       "      <td>364.000000</td>\n",
       "      <td>8736.00000</td>\n",
       "      <td>8735.000000</td>\n",
       "    </tr>\n",
       "    <tr>\n",
       "      <td>mean</td>\n",
       "      <td>182.500000</td>\n",
       "      <td>5.0</td>\n",
       "      <td>0.150000</td>\n",
       "      <td>1250.00000</td>\n",
       "      <td>0.006034</td>\n",
       "    </tr>\n",
       "    <tr>\n",
       "      <td>std</td>\n",
       "      <td>105.083126</td>\n",
       "      <td>0.0</td>\n",
       "      <td>0.084067</td>\n",
       "      <td>692.26178</td>\n",
       "      <td>0.009335</td>\n",
       "    </tr>\n",
       "    <tr>\n",
       "      <td>min</td>\n",
       "      <td>1.000000</td>\n",
       "      <td>5.0</td>\n",
       "      <td>0.000000</td>\n",
       "      <td>100.00000</td>\n",
       "      <td>0.000000</td>\n",
       "    </tr>\n",
       "    <tr>\n",
       "      <td>25%</td>\n",
       "      <td>91.750000</td>\n",
       "      <td>5.0</td>\n",
       "      <td>0.070000</td>\n",
       "      <td>675.00000</td>\n",
       "      <td>0.000000</td>\n",
       "    </tr>\n",
       "    <tr>\n",
       "      <td>50%</td>\n",
       "      <td>182.500000</td>\n",
       "      <td>5.0</td>\n",
       "      <td>0.130000</td>\n",
       "      <td>1250.00000</td>\n",
       "      <td>0.000000</td>\n",
       "    </tr>\n",
       "    <tr>\n",
       "      <td>75%</td>\n",
       "      <td>273.250000</td>\n",
       "      <td>5.0</td>\n",
       "      <td>0.230000</td>\n",
       "      <td>1825.00000</td>\n",
       "      <td>0.010000</td>\n",
       "    </tr>\n",
       "    <tr>\n",
       "      <td>max</td>\n",
       "      <td>364.000000</td>\n",
       "      <td>5.0</td>\n",
       "      <td>0.300000</td>\n",
       "      <td>2400.00000</td>\n",
       "      <td>0.030000</td>\n",
       "    </tr>\n",
       "  </tbody>\n",
       "</table>\n",
       "</div>"
      ],
      "text/plain": [
       "            julian  station  day_asce_eto        hour  hly_asce_eto\n",
       "count  9100.000000   9100.0    364.000000  8736.00000   8735.000000\n",
       "mean    182.500000      5.0      0.150000  1250.00000      0.006034\n",
       "std     105.083126      0.0      0.084067   692.26178      0.009335\n",
       "min       1.000000      5.0      0.000000   100.00000      0.000000\n",
       "25%      91.750000      5.0      0.070000   675.00000      0.000000\n",
       "50%     182.500000      5.0      0.130000  1250.00000      0.000000\n",
       "75%     273.250000      5.0      0.230000  1825.00000      0.010000\n",
       "max     364.000000      5.0      0.300000  2400.00000      0.030000"
      ]
     },
     "execution_count": 200,
     "metadata": {},
     "output_type": "execute_result"
    }
   ],
   "source": [
    "dataframe.drop_duplicates().describe()"
   ]
  },
  {
   "cell_type": "markdown",
   "metadata": {},
   "source": [
    "This appears that it has corrected our issue from a sanity perspective.  I left off December 31 whenever I downloaded the dataset.  So that would explain the 364 instead of 365 days.  This is a simple sanity check on the dataset. "
   ]
  },
  {
   "cell_type": "code",
   "execution_count": 201,
   "metadata": {},
   "outputs": [],
   "source": [
    "dataset = dataframe.drop_duplicates()"
   ]
  },
  {
   "cell_type": "code",
   "execution_count": 202,
   "metadata": {},
   "outputs": [],
   "source": [
    "dataset.index = dataset[\"date\"]"
   ]
  },
  {
   "cell_type": "code",
   "execution_count": 205,
   "metadata": {},
   "outputs": [
    {
     "data": {
      "text/plain": [
       "<matplotlib.axes._subplots.AxesSubplot at 0x15f1238eb48>"
      ]
     },
     "execution_count": 205,
     "metadata": {},
     "output_type": "execute_result"
    },
    {
     "data": {
      "image/png": "[encoded data removed]",
      "text/plain": [
       "<Figure size 432x288 with 1 Axes>"
      ]
     },
     "metadata": {
      "needs_background": "light"
     },
     "output_type": "display_data"
    }
   ],
   "source": [
    "dataset[\"hly_asce_eto\"].plot()"
   ]
  },
  {
   "cell_type": "code",
   "execution_count": 206,
   "metadata": {},
   "outputs": [
    {
     "data": {
      "text/plain": [
       "<matplotlib.axes._subplots.AxesSubplot at 0x15f127a2dc8>"
      ]
     },
     "execution_count": 206,
     "metadata": {},
     "output_type": "execute_result"
    },
    {
     "data": {
      "image/png": "[encoded data removed]",
      "text/plain": [
       "<Figure size 432x288 with 1 Axes>"
      ]
     },
     "metadata": {
      "needs_background": "light"
     },
     "output_type": "display_data"
    }
   ],
   "source": [
    "dataset[\"day_asce_eto\"].plot()"
   ]
  },
  {
   "cell_type": "code",
   "execution_count": 208,
   "metadata": {},
   "outputs": [
    {
     "data": {
      "text/plain": [
       "<matplotlib.axes._subplots.AxesSubplot at 0x15f127dadc8>"
      ]
     },
     "execution_count": 208,
     "metadata": {},
     "output_type": "execute_result"
    },
    {
     "data": {
      "image/png": "[encoded data removed]",
      "text/plain": [
       "<Figure size 432x288 with 1 Axes>"
      ]
     },
     "metadata": {
      "needs_background": "light"
     },
     "output_type": "display_data"
    }
   ],
   "source": [
    "dataset.plot(x = 'date', y = 'day_asce_eto')"
   ]
  },
  {
   "cell_type": "code",
   "execution_count": 212,
   "metadata": {},
   "outputs": [
    {
     "data": {
      "text/plain": [
       "date\n",
       "2006-01-01    0.00\n",
       "2006-01-02    0.05\n",
       "2006-01-03    0.05\n",
       "2006-01-04    0.05\n",
       "2006-01-05    0.06\n",
       "2006-01-06    0.03\n",
       "2006-01-07    0.04\n",
       "2006-01-08    0.02\n",
       "2006-01-09    0.06\n",
       "2006-01-10    0.04\n",
       "2006-01-11    0.03\n",
       "2006-01-12    0.04\n",
       "2006-01-13    0.03\n",
       "2006-01-14    0.06\n",
       "2006-01-15    0.06\n",
       "2006-01-16    0.06\n",
       "2006-01-17    0.05\n",
       "2006-01-18    0.04\n",
       "2006-01-19    0.05\n",
       "2006-01-20    0.04\n",
       "Name: day_asce_eto, dtype: float32"
      ]
     },
     "execution_count": 212,
     "metadata": {},
     "output_type": "execute_result"
    }
   ],
   "source": [
    "dataset['day_asce_eto'].head(20)"
   ]
  },
  {
   "cell_type": "code",
   "execution_count": 213,
   "metadata": {},
   "outputs": [
    {
     "data": {
      "text/plain": [
       "date\n",
       "2006-12-30   NaN\n",
       "2006-12-30   NaN\n",
       "2006-12-30   NaN\n",
       "2006-12-30   NaN\n",
       "2006-12-30   NaN\n",
       "2006-12-30   NaN\n",
       "2006-12-30   NaN\n",
       "2006-12-30   NaN\n",
       "2006-12-30   NaN\n",
       "2006-12-30   NaN\n",
       "2006-12-30   NaN\n",
       "2006-12-30   NaN\n",
       "2006-12-30   NaN\n",
       "2006-12-30   NaN\n",
       "2006-12-30   NaN\n",
       "2006-12-30   NaN\n",
       "2006-12-30   NaN\n",
       "2006-12-30   NaN\n",
       "2006-12-30   NaN\n",
       "2006-12-30   NaN\n",
       "Name: day_asce_eto, dtype: float32"
      ]
     },
     "execution_count": 213,
     "metadata": {},
     "output_type": "execute_result"
    }
   ],
   "source": [
    "dataset['day_asce_eto'].tail(20)"
   ]
  },
  {
   "cell_type": "code",
   "execution_count": 214,
   "metadata": {},
   "outputs": [],
   "source": [
    "dataset[['date', 'day_asce_eto']].to_csv('test_data.csv')"
   ]
  },
  {
   "cell_type": "code",
   "execution_count": 222,
   "metadata": {},
   "outputs": [],
   "source": [
    "mask = ~np.isnan(dataset[\"day_asce_eto\"])\n",
    "\n",
    "reduced_data = dataset[mask]"
   ]
  },
  {
   "cell_type": "code",
   "execution_count": 223,
   "metadata": {},
   "outputs": [
    {
     "data": {
      "text/plain": [
       "<matplotlib.axes._subplots.AxesSubplot at 0x15f12b635c8>"
      ]
     },
     "execution_count": 223,
     "metadata": {},
     "output_type": "execute_result"
    },
    {
     "data": {
      "image/png": "[encoded data removed]",
      "text/plain": [
       "<Figure size 432x288 with 1 Axes>"
      ]
     },
     "metadata": {
      "needs_background": "light"
     },
     "output_type": "display_data"
    }
   ],
   "source": [
    "reduced_data.plot(x = 'date', y = 'day_asce_eto')"
   ]
  },
  {
   "cell_type": "code",
   "execution_count": null,
   "metadata": {},
   "outputs": [],
   "source": []
  }
 ],
 "metadata": {
  "kernelspec": {
   "display_name": "Python 3",
   "language": "python",
   "name": "python3"
  },
  "language_info": {
   "codemirror_mode": {
    "name": "ipython",
    "version": 3
   },
   "file_extension": ".py",
   "mimetype": "text/x-python",
   "name": "python",
   "nbconvert_exporter": "python",
   "pygments_lexer": "ipython3",
   "version": "3.7.4"
  }
 },
 "nbformat": 4,
 "nbformat_minor": 2
}
