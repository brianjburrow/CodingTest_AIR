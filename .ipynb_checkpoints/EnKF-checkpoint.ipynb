{
 "cells": [
  {
   "cell_type": "markdown",
   "metadata": {},
   "source": [
    "# Ensemble Kalman Filtering\n",
    "\n",
    "## Goals\n",
    "### Understand the Ensemble Kalman Filtering Algorithm (EnKF)\n",
    "### Understand the computational bottlenecks of EnKF\n",
    "### Understand the special cases for accelerating EnKF, and limitations of those approaches\n",
    "### Understand the numerical tricks for accelerating EnKF\n",
    "### Understand how to implement the EnKF and variants in Python"
   ]
  },
  {
   "cell_type": "code",
   "execution_count": 64,
   "metadata": {},
   "outputs": [],
   "source": [
    "import numpy as np\n",
    "import matplotlib.pyplot as plt\n",
    "\n",
    "%matplotlib inline"
   ]
  },
  {
   "cell_type": "code",
   "execution_count": 357,
   "metadata": {},
   "outputs": [],
   "source": [
    "# Basic EnKF algorithm\n",
    "class ensemble_kalman_filter:\n",
    "    def __init__(self):\n",
    "        # Problem Dimensions\n",
    "        self._num_ensemble_members = None\n",
    "        self._num_state_dimensions = None\n",
    "        self._num_measurement_dimensions = None\n",
    "        \n",
    "        # State Estimate\n",
    "        self._current_state_estimate = None\n",
    "        \n",
    "        self._current_measurement_estimate = None\n",
    "        \n",
    "        self._current_state_covariance = None\n",
    "        \n",
    "        self._current_cross_covariance = None\n",
    "        \n",
    "        self._current_kalman_gain = None\n",
    "        \n",
    "        self._current_time = 1\n",
    "        # Ensemble\n",
    "        self._current_ensemble = None\n",
    "        self._current_ensemble_measurements = None\n",
    "        \n",
    "        # Operators\n",
    "        self._evolution_operator = None\n",
    "        self._forward_operator = None\n",
    "        self._evolution_covariance = None\n",
    "        self._forward_covariance = None\n",
    "        pass\n",
    "    \n",
    "    def set_ensemble_size(self, nPoints):\n",
    "        self._num_ensemble_members = nPoints\n",
    "        pass\n",
    "    \n",
    "    def set_state_evolution_model(self, function_handle):\n",
    "        self._evolution_operator = function_handle\n",
    "        pass\n",
    "    \n",
    "    def set_state_evolution_model_covariance(self, covariance_matrix):\n",
    "        self._evolution_covariance = covariance_matrix\n",
    "        pass\n",
    "    \n",
    "    def set_forward_model(self, function_handle):\n",
    "        self._forward_operator = function_handle\n",
    "        pass\n",
    "    \n",
    "    def set_forward_model_covariance(self, covariance_matrix):\n",
    "        self._forward_covariance = covariance_matrix\n",
    "        pass\n",
    "    \n",
    "    def _generate_ensemble(self):\n",
    "        self._current_ensemble = np.random.normal(self._current_state_estimate, \\\n",
    "                                                  self._current_state_covariance, \\\n",
    "                                                  size = [self._num_state_dimensions, self._num_ensemble_members])\n",
    "        pass\n",
    "    def _evolve_system(self, time_step):\n",
    "        self._current_ensemble = self._evolution_operator(self._current_ensemble, self._current_time, time_step)\n",
    "        self._current_time += time_step\n",
    "        pass\n",
    "    \n",
    "    def _simulate_measurements(self):\n",
    "        self._current_ensemble_measurements = self._forward_operator(self._current_ensemble)\n",
    "        pass\n",
    "    \n",
    "    def _forecast_expected_state(self):\n",
    "        self._current_state_estimate = np.mean(self._current_ensemble)\n",
    "        pass\n",
    "    \n",
    "    def _forecast_expected_state_covariance(self):\n",
    "        self._current_state_covariance = np.cov(self._current_ensemble)\n",
    "        pass\n",
    "    \n",
    "    def _forecast_expected_measurement(self):\n",
    "        self._current_measurement_estimate = np.mean(self._current_ensemble_measurements)\n",
    "        pass\n",
    "    \n",
    "    def _forecast_expected_measurement_covariance(self):\n",
    "        self._current_measurement_covariance = np.cov(self._current_ensemble_measurements)\n",
    "        pass\n",
    "    \n",
    "    def _estimate_cross_covariance(self):\n",
    "        self._current_cross_covariance  = np.zeros([self._num_state_dimensions, self._num_measurement_dimensions])\n",
    "        for i in range(self._current_ensemble.shape[0]):\n",
    "            print(self._current_ensemble[:,i].reshape([self._num_state_dimensions, 1]))\n",
    "            print(self._current_ensemble_measurements[:,i].reshape([1,self._num_measurement_dimensions]))\n",
    "            self._current_cross_covariance  += self._current_ensemble[:,i].reshape([self._num_state_dimensions, 1])@self._current_ensemble_measurements[:,i].reshape([1,self._num_measurement_dimensions])\n",
    "        print(self._current_cross_covariance)\n",
    "        self._current_cross_covariance /= self._num_ensemble_members\n",
    "        \n",
    "        self._current_cross_covariance -= np.mean(self._current_ensemble, axis = 1)@np.mean(self._current_ensemble_measurements)\n",
    "        pass\n",
    "    \n",
    "    def _estimate_kalman_gain(self):\n",
    "        self._current_kalman_gain = self.cross_covariance @ np.linalg.inv(self._current_state_covariance)\n",
    "        pass\n",
    "    def _update_state_and_covariance_using_measurement(self, measurement):\n",
    "        \n",
    "        self.current_state_estimate += self._current_kalman_gain*(measurement - self._current_measurement_estimate)\n",
    "        \n",
    "        self.current_state_covariance -= self.current_kalman_gain @ self.current_measurement_covariance @ self.current_kalman_gain.T\n",
    "        pass\n",
    "    \n",
    "    \n",
    "    def assimilate_data(self, measurment, time_step):\n",
    "        self._generate_ensemble()\n",
    "        print(self._current_ensemble)\n",
    "        self._evolve_system(time_step)\n",
    "        self._simulate_measurements()\n",
    "        self._forecast_expected_state()\n",
    "        self._forecast_expected_state_covariance()\n",
    "        self._forecast_expected_measurement()\n",
    "        self._forecast_expected_measurement_covariance()\n",
    "        self._estimate_cross_covariance()\n",
    "        self._estimate_kalman_gain()\n",
    "        self._update_state_and_covariance_using_measurment(measurment)\n",
    "        return self.current_state_estimate\n",
    "    \n",
    "    def initialize_problem(self, initial_state, \\\n",
    "                           initial_error, \\\n",
    "                           base_time_step, \\\n",
    "                           num_measurement_dimensions, \\\n",
    "                           ensemble_size, \\\n",
    "                           options = None):\n",
    "        # set the problem dimensions\n",
    "        self._num_ensemble_members = ensemble_size\n",
    "        self._current_state_estimate = initial_state\n",
    "        self._current_state_covariance = initial_error\n",
    "        self._num_measurement_dimensions = num_measurement_dimensions\n",
    "        assert initial_state.shape[0] >= initial_state.shape[1], \"The state vector must be a numpy nDarray as a 2-D column vector.\"\n",
    "        \n",
    "        self._num_state_dimensions = initial_state.shape[0]\n",
    "        print(self._num_state_dimensions)\n",
    "        if self._num_state_dimensions > ensemble_size:\n",
    "            import time\n",
    "            print(\"The dimensionality of the state is larger than the ensemble size.\")\n",
    "            print(\"This may lead to rank deficient covariance matrices.\")\n",
    "            print(\"Consider using Localization option, or increasing the number of ensemble members\")\n",
    "            time.sleep(5)    \n",
    "        pass"
   ]
  },
  {
   "cell_type": "code",
   "execution_count": 358,
   "metadata": {},
   "outputs": [],
   "source": [
    "enkf = ensemble_kalman_filter()"
   ]
  },
  {
   "cell_type": "code",
   "execution_count": 359,
   "metadata": {},
   "outputs": [],
   "source": [
    "def evolution(state, previous_time, time_step):\n",
    "\n",
    "    time = previous_time + time_step\n",
    "    new_state = state/2.0 + 25.0*state/(1 + state**2) + 8.0*np.cos(1.2 * time)\n",
    "    noise = np.random.normal(0, 10, size = state.shape)\n",
    "\n",
    "    return new_state + noise"
   ]
  },
  {
   "cell_type": "code",
   "execution_count": 360,
   "metadata": {},
   "outputs": [],
   "source": [
    "def measurement_model(state, noise = True, n_measurement_dims = 1):\n",
    "\n",
    "    nSamples = state.shape[1]\n",
    "    precise_measurement = (state**2.0) / 20.0\n",
    "    if noise:\n",
    "        precise_measurement += np.random.normal(0, 1, size = state.shape)\n",
    "\n",
    "    return precise_measurement.reshape([n_measurement_dims, nSamples])"
   ]
  },
  {
   "cell_type": "code",
   "execution_count": 361,
   "metadata": {},
   "outputs": [],
   "source": [
    "enkf.set_forward_model(measurement_model)\n",
    "enkf.set_forward_model_covariance(np.array([[1]])) \n",
    "\n",
    "enkf.set_ensemble_size(100)\n",
    "\n",
    "enkf.set_state_evolution_model(evolution)\n",
    "enkf.set_state_evolution_model_covariance(np.array([[10]])) \n"
   ]
  },
  {
   "cell_type": "code",
   "execution_count": 362,
   "metadata": {},
   "outputs": [
    {
     "name": "stdout",
     "output_type": "stream",
     "text": [
      "1\n"
     ]
    }
   ],
   "source": [
    "times = np.array(range(1, 51))\n",
    "initial_state = np.array([[0]])\n",
    "initial_state_covariance = np.array([[10]])\n",
    "states = np.zeros([1, 50])\n",
    "measurements = np.zeros_like(states)\n",
    "estimate = np.zeros_like(states)\n",
    "\n",
    "enkf.initialize_problem(initial_state, initial_state_covariance, 1, 1, 100)"
   ]
  },
  {
   "cell_type": "code",
   "execution_count": 363,
   "metadata": {},
   "outputs": [
    {
     "name": "stdout",
     "output_type": "stream",
     "text": [
      "[[ 2.55932258e+00 -7.88797453e+00 -4.55634636e+00 -4.54805145e+00\n",
      "   7.85315094e+00 -3.25043658e+00  1.33538839e+01  1.01527586e+01\n",
      "  -7.61290271e+00  2.36684962e+00 -2.63652648e+00 -2.26988282e+01\n",
      "   1.08922619e+01 -1.07985715e+01 -1.20502393e+01 -1.87194821e+00\n",
      "  -3.19981766e+00 -2.76374860e+00 -2.28352674e-02 -8.20867723e+00\n",
      "   1.35437211e+01  8.69193720e-01  1.09020431e+01  2.29851996e+01\n",
      "  -8.54902641e+00 -1.76432662e+01  1.10663929e+01  4.63492055e+00\n",
      "  -5.59236040e+00 -7.50429988e+00 -4.93534618e+00  9.54143873e-01\n",
      "   1.44639874e+01 -2.41720429e+00  1.35185805e+01 -1.68841844e+01\n",
      "   1.23403390e+00 -8.40879366e+00 -3.70437718e-01 -1.16149268e+01\n",
      "  -2.76797091e+00  7.29167395e+00 -8.24893524e+00  8.52689952e+00\n",
      "  -2.10929230e+00 -4.12911283e+00  4.60176687e+00 -1.27503024e-01\n",
      "   7.70601560e+00 -1.52519577e+01 -7.03686381e+00 -1.42362927e+01\n",
      "  -1.39348673e+01  6.39633590e+00 -2.24007459e+00  6.42295577e+00\n",
      "   5.55273472e+00  1.09182988e+00 -2.86260263e+00 -2.68673482e+01\n",
      "  -2.32643587e+01  2.11349453e+01  7.49252056e-01 -2.08319796e+01\n",
      "  -3.14286185e+00  2.26335364e+01  7.97453755e-01  3.50069694e+00\n",
      "  -7.25777093e+00  1.57807745e+01 -1.31949147e+01 -4.91116215e+00\n",
      "   9.64255952e+00  8.26414353e+00 -1.14203817e+01 -8.81526397e+00\n",
      "  -3.63715803e+00 -2.98710293e+00 -3.24041727e+00  1.39556796e+01\n",
      "   1.03306753e+00  1.82273887e+00 -1.23055040e+00  2.05253526e+00\n",
      "  -1.59001494e+01 -3.90689529e+00  7.78074011e+00  3.43210199e-01\n",
      "   1.05206155e+01  9.90635930e+00 -1.13720280e+01  5.17040463e+00\n",
      "   6.44041158e+00  1.18923909e+01 -3.15145902e+00  1.16146369e+01\n",
      "   2.70338316e+01  3.57556536e+00  2.74357998e+00  2.54676812e+01]]\n",
      "[[8.12584722]]\n",
      "[[4.7626249]]\n",
      "[[38.70036228]]\n"
     ]
    },
    {
     "ename": "ValueError",
     "evalue": "matmul: Input operand 1 does not have enough dimensions (has 0, gufunc core with signature (n?,k),(k,m?)->(n?,m?) requires 1)",
     "output_type": "error",
     "traceback": [
      "\u001b[1;31m---------------------------------------------------------------------------\u001b[0m",
      "\u001b[1;31mValueError\u001b[0m                                Traceback (most recent call last)",
      "\u001b[1;32m<ipython-input-363-710bb46f660f>\u001b[0m in \u001b[0;36m<module>\u001b[1;34m\u001b[0m\n\u001b[0;32m      6\u001b[0m         \u001b[0mstates\u001b[0m\u001b[1;33m[\u001b[0m\u001b[1;33m:\u001b[0m\u001b[1;33m,\u001b[0m \u001b[0miTime\u001b[0m\u001b[1;33m]\u001b[0m \u001b[1;33m=\u001b[0m \u001b[0mevolution\u001b[0m\u001b[1;33m(\u001b[0m\u001b[0mstates\u001b[0m\u001b[1;33m[\u001b[0m\u001b[1;33m:\u001b[0m\u001b[1;33m,\u001b[0m \u001b[0miTime\u001b[0m \u001b[1;33m-\u001b[0m \u001b[1;36m1\u001b[0m\u001b[1;33m]\u001b[0m\u001b[1;33m,\u001b[0m \u001b[0mtime\u001b[0m\u001b[1;33m)\u001b[0m\u001b[1;33m\u001b[0m\u001b[1;33m\u001b[0m\u001b[0m\n\u001b[0;32m      7\u001b[0m     \u001b[0mmeasurements\u001b[0m\u001b[1;33m[\u001b[0m\u001b[1;33m:\u001b[0m\u001b[1;33m,\u001b[0m \u001b[0miTime\u001b[0m\u001b[1;33m]\u001b[0m \u001b[1;33m=\u001b[0m \u001b[0mmeasurement_model\u001b[0m\u001b[1;33m(\u001b[0m\u001b[0mnp\u001b[0m\u001b[1;33m.\u001b[0m\u001b[0matleast_2d\u001b[0m\u001b[1;33m(\u001b[0m\u001b[0mstates\u001b[0m\u001b[1;33m[\u001b[0m\u001b[1;33m:\u001b[0m\u001b[1;33m,\u001b[0m \u001b[0miTime\u001b[0m\u001b[1;33m]\u001b[0m\u001b[1;33m)\u001b[0m\u001b[1;33m)\u001b[0m\u001b[1;33m\u001b[0m\u001b[1;33m\u001b[0m\u001b[0m\n\u001b[1;32m----> 8\u001b[1;33m     \u001b[0mestimate\u001b[0m\u001b[1;33m[\u001b[0m\u001b[1;33m:\u001b[0m\u001b[1;33m,\u001b[0m\u001b[0miTime\u001b[0m\u001b[1;33m]\u001b[0m \u001b[1;33m=\u001b[0m \u001b[0menkf\u001b[0m\u001b[1;33m.\u001b[0m\u001b[0massimilate_data\u001b[0m\u001b[1;33m(\u001b[0m\u001b[0mmeasurements\u001b[0m\u001b[1;33m[\u001b[0m\u001b[1;33m:\u001b[0m\u001b[1;33m,\u001b[0m \u001b[0miTime\u001b[0m\u001b[1;33m]\u001b[0m\u001b[1;33m,\u001b[0m \u001b[1;36m1\u001b[0m\u001b[1;33m)\u001b[0m\u001b[1;33m\u001b[0m\u001b[1;33m\u001b[0m\u001b[0m\n\u001b[0m",
      "\u001b[1;32m<ipython-input-357-09b8f0bb34fe>\u001b[0m in \u001b[0;36massimilate_data\u001b[1;34m(self, measurment, time_step)\u001b[0m\n\u001b[0;32m    112\u001b[0m         \u001b[0mself\u001b[0m\u001b[1;33m.\u001b[0m\u001b[0m_forecast_expected_measurement\u001b[0m\u001b[1;33m(\u001b[0m\u001b[1;33m)\u001b[0m\u001b[1;33m\u001b[0m\u001b[1;33m\u001b[0m\u001b[0m\n\u001b[0;32m    113\u001b[0m         \u001b[0mself\u001b[0m\u001b[1;33m.\u001b[0m\u001b[0m_forecast_expected_measurement_covariance\u001b[0m\u001b[1;33m(\u001b[0m\u001b[1;33m)\u001b[0m\u001b[1;33m\u001b[0m\u001b[1;33m\u001b[0m\u001b[0m\n\u001b[1;32m--> 114\u001b[1;33m         \u001b[0mself\u001b[0m\u001b[1;33m.\u001b[0m\u001b[0m_estimate_cross_covariance\u001b[0m\u001b[1;33m(\u001b[0m\u001b[1;33m)\u001b[0m\u001b[1;33m\u001b[0m\u001b[1;33m\u001b[0m\u001b[0m\n\u001b[0m\u001b[0;32m    115\u001b[0m         \u001b[0mself\u001b[0m\u001b[1;33m.\u001b[0m\u001b[0m_estimate_kalman_gain\u001b[0m\u001b[1;33m(\u001b[0m\u001b[1;33m)\u001b[0m\u001b[1;33m\u001b[0m\u001b[1;33m\u001b[0m\u001b[0m\n\u001b[0;32m    116\u001b[0m         \u001b[0mself\u001b[0m\u001b[1;33m.\u001b[0m\u001b[0m_update_state_and_covariance_using_measurment\u001b[0m\u001b[1;33m(\u001b[0m\u001b[0mmeasurment\u001b[0m\u001b[1;33m)\u001b[0m\u001b[1;33m\u001b[0m\u001b[1;33m\u001b[0m\u001b[0m\n",
      "\u001b[1;32m<ipython-input-357-09b8f0bb34fe>\u001b[0m in \u001b[0;36m_estimate_cross_covariance\u001b[1;34m(self)\u001b[0m\n\u001b[0;32m     89\u001b[0m         \u001b[0mself\u001b[0m\u001b[1;33m.\u001b[0m\u001b[0m_current_cross_covariance\u001b[0m \u001b[1;33m/=\u001b[0m \u001b[0mself\u001b[0m\u001b[1;33m.\u001b[0m\u001b[0m_num_ensemble_members\u001b[0m\u001b[1;33m\u001b[0m\u001b[1;33m\u001b[0m\u001b[0m\n\u001b[0;32m     90\u001b[0m \u001b[1;33m\u001b[0m\u001b[0m\n\u001b[1;32m---> 91\u001b[1;33m         \u001b[0mself\u001b[0m\u001b[1;33m.\u001b[0m\u001b[0m_current_cross_covariance\u001b[0m \u001b[1;33m-=\u001b[0m \u001b[0mnp\u001b[0m\u001b[1;33m.\u001b[0m\u001b[0mmean\u001b[0m\u001b[1;33m(\u001b[0m\u001b[0mself\u001b[0m\u001b[1;33m.\u001b[0m\u001b[0m_current_ensemble\u001b[0m\u001b[1;33m,\u001b[0m \u001b[0maxis\u001b[0m \u001b[1;33m=\u001b[0m \u001b[1;36m1\u001b[0m\u001b[1;33m)\u001b[0m\u001b[1;33m@\u001b[0m\u001b[0mnp\u001b[0m\u001b[1;33m.\u001b[0m\u001b[0mmean\u001b[0m\u001b[1;33m(\u001b[0m\u001b[0mself\u001b[0m\u001b[1;33m.\u001b[0m\u001b[0m_current_ensemble_measurements\u001b[0m\u001b[1;33m)\u001b[0m\u001b[1;33m\u001b[0m\u001b[1;33m\u001b[0m\u001b[0m\n\u001b[0m\u001b[0;32m     92\u001b[0m         \u001b[1;32mpass\u001b[0m\u001b[1;33m\u001b[0m\u001b[1;33m\u001b[0m\u001b[0m\n\u001b[0;32m     93\u001b[0m \u001b[1;33m\u001b[0m\u001b[0m\n",
      "\u001b[1;31mValueError\u001b[0m: matmul: Input operand 1 does not have enough dimensions (has 0, gufunc core with signature (n?,k),(k,m?)->(n?,m?) requires 1)"
     ]
    }
   ],
   "source": [
    "for iTime, time in enumerate(times):\n",
    "    if time == 1:\n",
    "        states[:, iTime] = initial_state\n",
    "        estimate[:, iTime] = initial_state\n",
    "    else:\n",
    "        states[:, iTime] = evolution(states[:, iTime - 1], time)\n",
    "    measurements[:, iTime] = measurement_model(np.atleast_2d(states[:, iTime]))\n",
    "    estimate[:,iTime] = enkf.assimilate_data(measurements[:, iTime], 1)"
   ]
  },
  {
   "cell_type": "code",
   "execution_count": 356,
   "metadata": {},
   "outputs": [
    {
     "name": "stdout",
     "output_type": "stream",
     "text": [
      "<function evolution at 0x0000013D5FCAB708>\n"
     ]
    }
   ],
   "source": [
    "print(enkf._evolution_operator)"
   ]
  },
  {
   "cell_type": "code",
   "execution_count": 172,
   "metadata": {},
   "outputs": [
    {
     "name": "stdout",
     "output_type": "stream",
     "text": [
      "100\n"
     ]
    }
   ],
   "source": [
    "print(enkf._num_ensemble_members)"
   ]
  },
  {
   "cell_type": "code",
   "execution_count": 206,
   "metadata": {},
   "outputs": [
    {
     "name": "stdout",
     "output_type": "stream",
     "text": [
      "None\n"
     ]
    }
   ],
   "source": [
    "print(enkf._num_state_dimensions)"
   ]
  },
  {
   "cell_type": "code",
   "execution_count": 207,
   "metadata": {},
   "outputs": [
    {
     "name": "stdout",
     "output_type": "stream",
     "text": [
      "100\n"
     ]
    }
   ],
   "source": [
    "print(enkf._num_ensemble_members)"
   ]
  },
  {
   "cell_type": "code",
   "execution_count": 66,
   "metadata": {},
   "outputs": [
    {
     "data": {
      "text/plain": [
       "(40, 40)"
      ]
     },
     "execution_count": 66,
     "metadata": {},
     "output_type": "execute_result"
    }
   ],
   "source": [
    "cova = np.zeros([40,40])\n",
    "cova.shape"
   ]
  },
  {
   "cell_type": "code",
   "execution_count": 67,
   "metadata": {},
   "outputs": [
    {
     "name": "stdout",
     "output_type": "stream",
     "text": [
      "[[1.         0.9        0.81       ... 0.02027556 0.018248   0.0164232 ]\n",
      " [0.9        1.         0.9        ... 0.0225284  0.02027556 0.018248  ]\n",
      " [0.81       0.9        1.         ... 0.02503156 0.0225284  0.02027556]\n",
      " ...\n",
      " [0.02027556 0.0225284  0.02503156 ... 1.         0.9        0.81      ]\n",
      " [0.018248   0.02027556 0.0225284  ... 0.9        1.         0.9       ]\n",
      " [0.0164232  0.018248   0.02027556 ... 0.81       0.9        1.        ]]\n"
     ]
    }
   ],
   "source": [
    "for i in range(40):\n",
    "    for j in range(40):\n",
    "        cova[i,j] = 0.9**(abs(i - j))\n",
    "        \n",
    "print(cova)"
   ]
  },
  {
   "cell_type": "code",
   "execution_count": 68,
   "metadata": {},
   "outputs": [
    {
     "data": {
      "text/plain": [
       "<matplotlib.colorbar.Colorbar at 0x13d5c694d88>"
      ]
     },
     "execution_count": 68,
     "metadata": {},
     "output_type": "execute_result"
    },
    {
     "data": {
      "image/png": "[encoded data removed]",
      "text/plain": [
       "<Figure size 864x864 with 2 Axes>"
      ]
     },
     "metadata": {
      "needs_background": "light"
     },
     "output_type": "display_data"
    }
   ],
   "source": [
    "plt.figure(figsize=[12,12])\n",
    "plt.matshow(cova, fignum=1)\n",
    "plt.colorbar()"
   ]
  },
  {
   "cell_type": "code",
   "execution_count": null,
   "metadata": {},
   "outputs": [],
   "source": []
  },
  {
   "cell_type": "code",
   "execution_count": 102,
   "metadata": {},
   "outputs": [],
   "source": []
  },
  {
   "cell_type": "code",
   "execution_count": 105,
   "metadata": {},
   "outputs": [],
   "source": []
  },
  {
   "cell_type": "code",
   "execution_count": 106,
   "metadata": {},
   "outputs": [
    {
     "data": {
      "text/plain": [
       "Text(0, 0.5, 'Measurement')"
      ]
     },
     "execution_count": 106,
     "metadata": {},
     "output_type": "execute_result"
    },
    {
     "data": {
      "image/png": "[encoded data removed]",
      "text/plain": [
       "<Figure size 1080x720 with 2 Axes>"
      ]
     },
     "metadata": {
      "needs_background": "light"
     },
     "output_type": "display_data"
    }
   ],
   "source": [
    "times = np.array(range(1, 51))\n",
    "initial_state = 0\n",
    "states = np.zeros([1, 50])\n",
    "measurements = np.zeros_like(states)\n",
    "for iTime, time in enumerate(times):\n",
    "    if time == 1:\n",
    "        states[:, iTime] = initial_state\n",
    "    else:\n",
    "        states[:, iTime] = evolution(states[0, iTime - 1], time)\n",
    "    measurements[:, iTime] = measurement_model(states[0, iTime])\n",
    "\n",
    "fig, ax = plt.subplots(nrows = 1, ncols = 2, sharex = True, figsize = [15, 10])\n",
    "ax[0].scatter(times, states[0], edgecolors = 'black', s = 30)\n",
    "ax[1].scatter(times, measurements[0], edgecolors = 'black', s = 30)\n",
    "for axis in ax:\n",
    "    axis.set_xlabel(\"Time\", fontsize = 20)\n",
    "\n",
    "ax[0].set_ylabel(\"State\", fontsize = 20)\n",
    "ax[1].set_ylabel(\"Measurement\", fontsize = 20)"
   ]
  },
  {
   "cell_type": "code",
   "execution_count": null,
   "metadata": {},
   "outputs": [],
   "source": []
  },
  {
   "cell_type": "code",
   "execution_count": null,
   "metadata": {},
   "outputs": [],
   "source": []
  },
  {
   "cell_type": "code",
   "execution_count": null,
   "metadata": {},
   "outputs": [],
   "source": []
  },
  {
   "cell_type": "code",
   "execution_count": null,
   "metadata": {},
   "outputs": [],
   "source": []
  },
  {
   "cell_type": "code",
   "execution_count": null,
   "metadata": {},
   "outputs": [],
   "source": []
  },
  {
   "cell_type": "code",
   "execution_count": null,
   "metadata": {},
   "outputs": [],
   "source": []
  },
  {
   "cell_type": "code",
   "execution_count": null,
   "metadata": {},
   "outputs": [],
   "source": []
  },
  {
   "cell_type": "code",
   "execution_count": null,
   "metadata": {},
   "outputs": [],
   "source": []
  },
  {
   "cell_type": "code",
   "execution_count": null,
   "metadata": {},
   "outputs": [],
   "source": []
  },
  {
   "cell_type": "code",
   "execution_count": null,
   "metadata": {},
   "outputs": [],
   "source": []
  },
  {
   "cell_type": "code",
   "execution_count": null,
   "metadata": {},
   "outputs": [],
   "source": []
  },
  {
   "cell_type": "code",
   "execution_count": null,
   "metadata": {},
   "outputs": [],
   "source": []
  }
 ],
 "metadata": {
  "kernelspec": {
   "display_name": "Python 3",
   "language": "python",
   "name": "python3"
  },
  "language_info": {
   "codemirror_mode": {
    "name": "ipython",
    "version": 3
   },
   "file_extension": ".py",
   "mimetype": "text/x-python",
   "name": "python",
   "nbconvert_exporter": "python",
   "pygments_lexer": "ipython3",
   "version": "3.7.4"
  }
 },
 "nbformat": 4,
 "nbformat_minor": 2
}
