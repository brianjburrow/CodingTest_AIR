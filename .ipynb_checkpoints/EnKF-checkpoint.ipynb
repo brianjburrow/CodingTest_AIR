{
 "cells": [
  {
   "cell_type": "markdown",
   "metadata": {},
   "source": [
    "# Ensemble Kalman Filtering\n",
    "A little note: doing linear algebra with NumPy can be slightly annoying due to the fact that it automatically converts [1 x N] and [N x 1] arrays to row vectors.  In addition, some functions do not work on scalar values.  For instance np.linalg.inv(X) takes the inverse of matrix X.  If X is a 1D matrix, numpy converts it to a scalar automatically, and np.linalg.inv(X) does not work.  You must do np.linalg.inv(np.atleast_2d(X)) to get it to compute.  These are extra operations whenever working in 2-D, and makes the code super messy.  So, I am dividing the impelmentation into a 1-D and 2-D version.\n",
    "## Goals\n",
    "### Understand the Ensemble Kalman Filtering Algorithm (EnKF)\n",
    "### Understand the computational bottlenecks of EnKF\n",
    "### Understand the special cases for accelerating EnKF, and limitations of those approaches\n",
    "### Understand the numerical tricks for accelerating EnKF\n",
    "### Understand how to implement the EnKF and variants in Python"
   ]
  },
  {
   "cell_type": "code",
   "execution_count": 953,
   "metadata": {},
   "outputs": [],
   "source": [
    "import numpy as np\n",
    "import matplotlib.pyplot as plt\n",
    "\n",
    "%matplotlib inline\n",
    "\n",
    "from abc import ABCMeta, abstractmethod"
   ]
  },
  {
   "cell_type": "code",
   "execution_count": 954,
   "metadata": {},
   "outputs": [],
   "source": [
    "class ensemble_kalman_filter:\n",
    "    def __init__(self):\n",
    "        # Problem Dimensions, limit to 1-D currently\n",
    "        self._num_ensemble_members = None\n",
    "        \n",
    "        # State Estimate\n",
    "        self._current_state_estimate = None\n",
    "        \n",
    "        self._current_measurement_estimate = None\n",
    "        \n",
    "        self._current_state_covariance = None\n",
    "        \n",
    "        self._current_cross_covariance = None\n",
    "        \n",
    "        self._current_kalman_gain = None\n",
    "        \n",
    "        self._current_time = 1\n",
    "        \n",
    "        # Ensemble\n",
    "        self._current_ensemble = None\n",
    "        self._current_ensemble_measurements = None\n",
    "        \n",
    "        # Operators\n",
    "        self._evolution_operator = None\n",
    "        self._forward_operator = None\n",
    "        self._evolution_covariance = None\n",
    "        self._forward_covariance = None  \n",
    "        pass\n",
    "    \n",
    "    def initialize_problem(self, initial_state, \\\n",
    "                           initial_error, \\\n",
    "                           base_time_step, \\\n",
    "                           num_measurement_dimensions, \\\n",
    "                           ensemble_size, \\\n",
    "                           options = None):\n",
    "        # set the problem dimensions\n",
    "        self._num_ensemble_members = ensemble_size\n",
    "        self._current_state_estimate = initial_state\n",
    "        self._current_state_covariance = initial_error\n",
    "        self._num_measurement_dimensions = num_measurement_dimensions\n",
    "        pass\n",
    "    \n",
    "    def set_ensemble_size(self, nPoints):\n",
    "        self._num_ensemble_members = nPoints\n",
    "        pass\n",
    "    \n",
    "    def set_state_evolution_model(self, function_handle):\n",
    "        self._evolution_operator = function_handle\n",
    "        pass\n",
    "    \n",
    "    def set_state_evolution_model_covariance(self, covariance_matrix):\n",
    "        self._evolution_covariance = covariance_matrix\n",
    "        pass\n",
    "    \n",
    "    def set_forward_model(self, function_handle):\n",
    "        self._forward_operator = function_handle\n",
    "        pass\n",
    "    \n",
    "    def set_forward_model_covariance(self, covariance_matrix):\n",
    "        self._forward_covariance = covariance_matrix\n",
    "        pass\n",
    "    \n",
    "    def assimilate_data(self, measurment, time):\n",
    "        self._generate_ensemble()\n",
    "        self._evolve_system(time)\n",
    "        self._simulate_measurements()\n",
    "        self._forecast_expected_state()\n",
    "        self._forecast_expected_state_covariance()\n",
    "        self._forecast_expected_measurement()\n",
    "        self._forecast_expected_measurement_covariance()\n",
    "        self._estimate_cross_covariance()\n",
    "        self._estimate_kalman_gain()\n",
    "        self._update_state_and_covariance_using_measurement(measurment)\n",
    "        \n",
    "        return self._current_state_estimate, self._current_state_covariance\n",
    "    \n",
    "    @abstractmethod\n",
    "    def _generate_ensemble(self):\n",
    "        pass\n",
    "    @abstractmethod\n",
    "    def _evolve_system(self, time):\n",
    "        pass\n",
    "    @abstractmethod\n",
    "    def _simulate_measurements(self):\n",
    "        pass\n",
    "    @abstractmethod\n",
    "    def _forecast_expected_state(self):\n",
    "        pass\n",
    "    @abstractmethod\n",
    "    def _forecast_expected_state_covariance(self):\n",
    "        pass\n",
    "    @abstractmethod\n",
    "    def _forecast_expected_measurement(self):\n",
    "        pass\n",
    "    @abstractmethod\n",
    "    def _forecast_expected_measurement_covariance(self):\n",
    "        pass\n",
    "    @abstractmethod\n",
    "    def _estimate_cross_covariance(self):\n",
    "        pass\n",
    "    @abstractmethod\n",
    "    def _estimate_kalman_gain(self):\n",
    "        pass\n",
    "    @abstractmethod\n",
    "    def _update_state_and_covariance_using_measurement(self, measurement):\n",
    "        pass\n",
    "    \n",
    "    "
   ]
  },
  {
   "cell_type": "code",
   "execution_count": 955,
   "metadata": {},
   "outputs": [],
   "source": [
    "# Basic EnKF algorithm in one dimension\n",
    "class ensemble_kalman_filter_1d(ensemble_kalman_filter):\n",
    "    \n",
    "    def _generate_ensemble(self):\n",
    "        self._current_ensemble = np.random.normal(self._current_state_estimate, \\\n",
    "                                                  self._current_state_covariance**0.5, \\\n",
    "                                                  size = self._num_ensemble_members)\n",
    "        pass\n",
    "    \n",
    "    def _evolve_system(self, time):\n",
    "        self._current_ensemble = self._evolution_operator(self._current_ensemble, time, nSamples = self._num_ensemble_members)\n",
    "        pass\n",
    "    \n",
    "    def _simulate_measurements(self):\n",
    "        self._current_ensemble_measurements = self._forward_operator(self._current_ensemble, noise = False)\n",
    "        pass\n",
    "    \n",
    "    def _forecast_expected_state(self):\n",
    "        self._current_state_estimate = np.mean(self._current_ensemble)\n",
    "        pass\n",
    "    \n",
    "    def _forecast_expected_state_covariance(self):\n",
    "        self._current_state_covariance = np.var(self._current_ensemble)\n",
    "        pass\n",
    "    \n",
    "    def _forecast_expected_measurement(self):\n",
    "        self._current_measurement_estimate = np.mean(self._current_ensemble_measurements)\n",
    "        pass\n",
    "    \n",
    "    def _forecast_expected_measurement_covariance(self):\n",
    "        self._current_measurement_covariance = self._forward_covariance + np.var(self._current_ensemble_measurements)\n",
    "        pass\n",
    "    \n",
    "    def _estimate_cross_covariance(self):\n",
    "        self._current_cross_covariance  = 0\n",
    "        for i in range(self._num_ensemble_members):\n",
    "            self._current_cross_covariance  += (self._current_ensemble[i] - self._current_state_estimate)*(self._current_ensemble_measurements[i] - self._current_measurement_estimate)\n",
    "        \n",
    "        self._current_cross_covariance /= self._num_ensemble_members\n",
    "        pass\n",
    "    \n",
    "    def _estimate_kalman_gain(self):\n",
    "        self._current_kalman_gain = self._current_cross_covariance/self._current_measurement_covariance\n",
    "        pass\n",
    "    \n",
    "    def _update_state_and_covariance_using_measurement(self, measurement):\n",
    "        # update expected value\n",
    "        self._current_state_estimate += self._current_kalman_gain*(measurement - self._current_measurement_estimate)  \n",
    "        # update error (covariance) estimate\n",
    "        self._current_state_covariance -= self._current_kalman_gain * self._current_measurement_covariance * self._current_kalman_gain\n",
    "        pass"
   ]
  },
  {
   "cell_type": "code",
   "execution_count": 956,
   "metadata": {},
   "outputs": [],
   "source": [
    "enkf = ensemble_kalman_filter_1d()"
   ]
  },
  {
   "cell_type": "code",
   "execution_count": 957,
   "metadata": {},
   "outputs": [],
   "source": [
    "def evolution(state, time, nSamples = 1):\n",
    "    new_state = state/2.0 + 25.0*state/(1 + state**2) + 8.0*np.cos(1.2 * time)\n",
    "    noise = np.random.normal(0, 10**0.5, size = nSamples)\n",
    "    return new_state + noise\n"
   ]
  },
  {
   "cell_type": "code",
   "execution_count": 958,
   "metadata": {},
   "outputs": [],
   "source": [
    "def measurement_model(state, noise = True, n_measurement_dims = 1, nSamples = 1):\n",
    "    precise_measurement = (state**2.0) / 20.0\n",
    "    if noise:\n",
    "        precise_measurement += np.random.normal(0, 1, size = nSamples)\n",
    "    return precise_measurement"
   ]
  },
  {
   "cell_type": "code",
   "execution_count": 959,
   "metadata": {},
   "outputs": [],
   "source": [
    "enkf.set_forward_model(measurement_model)\n",
    "enkf.set_forward_model_covariance(1) \n",
    "\n",
    "enkf.set_ensemble_size(10000)\n",
    "\n",
    "enkf.set_state_evolution_model(evolution)\n",
    "enkf.set_state_evolution_model_covariance(10)\n"
   ]
  },
  {
   "cell_type": "code",
   "execution_count": 960,
   "metadata": {},
   "outputs": [],
   "source": [
    "times = np.array(range(1, 71))\n",
    "initial_state = 0\n",
    "initial_state_covariance = 10\n",
    "states = np.zeros([1, 70])\n",
    "measurements = np.zeros_like(states)\n",
    "estimate = np.zeros_like(states)\n",
    "error = np.zeros(70)\n",
    "enkf.initialize_problem(initial_state, initial_state_covariance, 1, 1, 100)"
   ]
  },
  {
   "cell_type": "code",
   "execution_count": 961,
   "metadata": {},
   "outputs": [],
   "source": [
    "for iTime, time in enumerate(times):\n",
    "    if time == 1:\n",
    "        states[:, iTime] = initial_state\n",
    "        estimate[:, iTime] = initial_state\n",
    "    else:\n",
    "        states[:, iTime] = evolution(states[:, iTime - 1], time, nSamples = 1)\n",
    "    measurements[:, iTime] = measurement_model(states[:, iTime])\n",
    "    estimate[:,iTime], error[iTime] = enkf.assimilate_data(measurements[:, iTime], time)"
   ]
  },
  {
   "cell_type": "code",
   "execution_count": 962,
   "metadata": {},
   "outputs": [
    {
     "data": {
      "text/plain": [
       "<matplotlib.legend.Legend at 0x13d64e70788>"
      ]
     },
     "execution_count": 962,
     "metadata": {},
     "output_type": "execute_result"
    },
    {
     "data": {
      "image/png": "[encoded data removed]",
      "text/plain": [
       "<Figure size 1080x720 with 2 Axes>"
      ]
     },
     "metadata": {
      "needs_background": "light"
     },
     "output_type": "display_data"
    }
   ],
   "source": [
    "fig, ax = plt.subplots(nrows = 2, ncols = 1, sharex = True, figsize = [15, 10])\n",
    "ax[0].scatter(times, states[0], edgecolors = 'black', s = 30)\n",
    "ax[0].errorbar(times, estimate[0], yerr = 1.*error)\n",
    "ax[1].scatter(times, measurements[0], edgecolors = 'black', s = 30)\n",
    "for axis in ax:\n",
    "    axis.set_xlabel(\"Time\", fontsize = 20)\n",
    "\n",
    "ax[0].set_ylabel(\"State\", fontsize = 20)\n",
    "ax[1].set_ylabel(\"Measurement\", fontsize = 20)\n",
    "ax[0].legend([\"Truth\", \"Estimate with Errorbars\"])"
   ]
  },
  {
   "cell_type": "markdown",
   "metadata": {},
   "source": [
    "Things are slightly different in multiple dimensions.  Specifically:\n",
    "we must use np.random.multivariate_normal to generate samples.  The syntax, and the "
   ]
  },
  {
   "cell_type": "code",
   "execution_count": 963,
   "metadata": {},
   "outputs": [
    {
     "data": {
      "text/plain": [
       "array([[-0.64762675, -0.50293305,  2.13993214],\n",
       "       [ 2.21390963,  1.13714951,  1.54418437],\n",
       "       [ 0.33828615,  0.08041322, -1.33993276],\n",
       "       [-0.29577467,  0.20192097,  0.6450013 ]])"
      ]
     },
     "execution_count": 963,
     "metadata": {},
     "output_type": "execute_result"
    }
   ],
   "source": [
    "mean_value = np.zeros(3)\n",
    "covariance = np.eye(3)\n",
    "\n",
    "random_multivariate_samples = np.random.multivariate_normal(mean_value, covariance, size = 4)\n",
    "random_multivariate_samples"
   ]
  },
  {
   "cell_type": "markdown",
   "metadata": {},
   "source": [
    "This is contrary to typical linear algebra operations, but consistent with most machine learning implementations, which considers sample matrices as [nSamples x nDim] or [nSamples x nFeatures] depending on terminology."
   ]
  },
  {
   "cell_type": "code",
   "execution_count": 942,
   "metadata": {},
   "outputs": [
    {
     "name": "stdout",
     "output_type": "stream",
     "text": [
      "[[0 1 2]\n",
      " [3 4 5]\n",
      " [6 7 8]]\n",
      "[1 2 3]\n"
     ]
    }
   ],
   "source": [
    "A = np.arange(9).reshape([3,3])\n",
    "x = np.array([1, 2, 3])\n",
    "print(A)\n",
    "print(x)"
   ]
  },
  {
   "cell_type": "code",
   "execution_count": 943,
   "metadata": {},
   "outputs": [
    {
     "data": {
      "text/plain": [
       "array([[ 0,  2,  6],\n",
       "       [ 3,  8, 15],\n",
       "       [ 6, 14, 24]])"
      ]
     },
     "execution_count": 943,
     "metadata": {},
     "output_type": "execute_result"
    }
   ],
   "source": [
    "A*x"
   ]
  },
  {
   "cell_type": "code",
   "execution_count": 944,
   "metadata": {},
   "outputs": [
    {
     "data": {
      "text/plain": [
       "array([[ 0,  2,  6],\n",
       "       [ 3,  8, 15],\n",
       "       [ 6, 14, 24]])"
      ]
     },
     "execution_count": 944,
     "metadata": {},
     "output_type": "execute_result"
    }
   ],
   "source": [
    "A*x.T"
   ]
  },
  {
   "cell_type": "code",
   "execution_count": 945,
   "metadata": {},
   "outputs": [
    {
     "data": {
      "text/plain": [
       "array([ 8, 26, 44])"
      ]
     },
     "execution_count": 945,
     "metadata": {},
     "output_type": "execute_result"
    }
   ],
   "source": [
    "np.dot(A, x)"
   ]
  },
  {
   "cell_type": "code",
   "execution_count": 946,
   "metadata": {},
   "outputs": [
    {
     "data": {
      "text/plain": [
       "1.0953852908903137"
      ]
     },
     "execution_count": 946,
     "metadata": {},
     "output_type": "execute_result"
    }
   ],
   "source": [
    "np.var(random_multivariate_samples)"
   ]
  },
  {
   "cell_type": "markdown",
   "metadata": {},
   "source": [
    "Not exactly what we were expecting."
   ]
  },
  {
   "cell_type": "code",
   "execution_count": 947,
   "metadata": {},
   "outputs": [
    {
     "data": {
      "text/plain": [
       "array([[ 0.23824432, -0.19693956, -0.54361789, -0.44995206],\n",
       "       [-0.19693956,  0.36145727,  0.43577343, -0.12587565],\n",
       "       [-0.54361789,  0.43577343,  1.24133958,  1.06075681],\n",
       "       [-0.44995206, -0.12587565,  1.06075681,  2.09725401]])"
      ]
     },
     "execution_count": 947,
     "metadata": {},
     "output_type": "execute_result"
    }
   ],
   "source": [
    "np.cov(random_multivariate_samples)"
   ]
  },
  {
   "cell_type": "markdown",
   "metadata": {},
   "source": [
    "Also not what I was expecting"
   ]
  },
  {
   "cell_type": "code",
   "execution_count": 948,
   "metadata": {},
   "outputs": [
    {
     "data": {
      "text/plain": [
       "array([[ 2.28727522e+00, -1.57502425e-01,  9.61150415e-01],\n",
       "       [-1.57502425e-01,  1.55306466e-02, -2.18656894e-03],\n",
       "       [ 9.61150415e-01, -2.18656894e-03,  1.36230441e+00]])"
      ]
     },
     "execution_count": 948,
     "metadata": {},
     "output_type": "execute_result"
    }
   ],
   "source": [
    "np.cov(random_multivariate_samples.T)"
   ]
  },
  {
   "cell_type": "markdown",
   "metadata": {},
   "source": [
    "So, even NumPy is not consistent with its own idea of sizing random variable arrays.  It is important to understand how to implement linear algebra operations in Numpy, and to not get caught off guard by its broadcasting rules.  From the NumPy documentation:\n",
    "\" numpy.cov(X) : X is a 1-D or 2-D array containing multiple variables and observations.  Each row of X represents a variable, and each column a single observation of all those variables.\"\n",
    "\n",
    "So, it is expecting an array of [nFeatures x nSamples], but the multivariate_normal random number generator returns [nSamples x nFeatures].  We must keep this in mind whenever writing our function calls."
   ]
  },
  {
   "cell_type": "code",
   "execution_count": 949,
   "metadata": {},
   "outputs": [
    {
     "data": {
      "text/plain": [
       "0.17594856240929588"
      ]
     },
     "execution_count": 949,
     "metadata": {},
     "output_type": "execute_result"
    }
   ],
   "source": [
    "np.mean(random_multivariate_samples)"
   ]
  },
  {
   "cell_type": "code",
   "execution_count": 951,
   "metadata": {},
   "outputs": [
    {
     "data": {
      "text/plain": [
       "array([ 1.24494686,  0.16632243, -0.51502349, -0.19245155])"
      ]
     },
     "execution_count": 951,
     "metadata": {},
     "output_type": "execute_result"
    }
   ],
   "source": [
    "np.mean(random_multivariate_samples, axis = 1)"
   ]
  },
  {
   "cell_type": "code",
   "execution_count": 952,
   "metadata": {},
   "outputs": [
    {
     "data": {
      "text/plain": [
       "array([-0.2706797 ,  0.74430469,  0.0542207 ])"
      ]
     },
     "execution_count": 952,
     "metadata": {},
     "output_type": "execute_result"
    }
   ],
   "source": [
    "np.mean(random_multivariate_samples, axis = 0)"
   ]
  },
  {
   "cell_type": "markdown",
   "metadata": {},
   "source": [
    "We will also need to subtract the mean value from the covariance matrix.  Lets get the dimensions correct for this"
   ]
  },
  {
   "cell_type": "code",
   "execution_count": 967,
   "metadata": {},
   "outputs": [
    {
     "data": {
      "text/plain": [
       "array([[0, 1, 2],\n",
       "       [3, 4, 5],\n",
       "       [6, 7, 8]])"
      ]
     },
     "execution_count": 967,
     "metadata": {},
     "output_type": "execute_result"
    }
   ],
   "source": [
    "A = np.arange(9).reshape([3,3])\n",
    "b = np.array([1, 2, 3])\n",
    "A"
   ]
  },
  {
   "cell_type": "code",
   "execution_count": 968,
   "metadata": {},
   "outputs": [
    {
     "data": {
      "text/plain": [
       "array([1, 2, 3])"
      ]
     },
     "execution_count": 968,
     "metadata": {},
     "output_type": "execute_result"
    }
   ],
   "source": [
    "b"
   ]
  },
  {
   "cell_type": "code",
   "execution_count": 969,
   "metadata": {},
   "outputs": [
    {
     "data": {
      "text/plain": [
       "array([[-1, -1, -1],\n",
       "       [ 2,  2,  2],\n",
       "       [ 5,  5,  5]])"
      ]
     },
     "execution_count": 969,
     "metadata": {},
     "output_type": "execute_result"
    }
   ],
   "source": [
    "A - b"
   ]
  },
  {
   "cell_type": "code",
   "execution_count": 970,
   "metadata": {},
   "outputs": [
    {
     "data": {
      "text/plain": [
       "array([[-1, -1, -1],\n",
       "       [ 2,  2,  2],\n",
       "       [ 5,  5,  5]])"
      ]
     },
     "execution_count": 970,
     "metadata": {},
     "output_type": "execute_result"
    }
   ],
   "source": [
    "A - b.T"
   ]
  },
  {
   "cell_type": "code",
   "execution_count": 974,
   "metadata": {},
   "outputs": [
    {
     "data": {
      "text/plain": [
       "array([[-1,  0,  1],\n",
       "       [ 1,  2,  3],\n",
       "       [ 3,  4,  5]])"
      ]
     },
     "execution_count": 974,
     "metadata": {},
     "output_type": "execute_result"
    }
   ],
   "source": [
    "A - b.reshape([b.shape[0], 1])"
   ]
  },
  {
   "cell_type": "code",
   "execution_count": 1126,
   "metadata": {},
   "outputs": [
    {
     "name": "stdout",
     "output_type": "stream",
     "text": [
      "[-0.09766396  0.33058938]\n",
      "[-0.27017359 -0.11005618 -0.56539946]\n"
     ]
    }
   ],
   "source": [
    "nSamples = 10\n",
    "nStateDim = 2\n",
    "nMeasDim = 3\n",
    "\n",
    "state_samples = np.random.multivariate_normal([0,0], np.eye(2), nSamples)\n",
    "meas_samples = np.random.multivariate_normal([0,0,0], np.eye(3), nSamples)\n",
    "\n",
    "state_mean = np.mean(state_samples, axis = 0)\n",
    "meas_mean = np.mean(meas_samples, axis = 0)\n",
    "\n",
    "print(state_mean)\n",
    "print(meas_mean)"
   ]
  },
  {
   "cell_type": "code",
   "execution_count": 1124,
   "metadata": {},
   "outputs": [
    {
     "data": {
      "text/plain": [
       "array([ 0.28506526, -1.23933356])"
      ]
     },
     "execution_count": 1124,
     "metadata": {},
     "output_type": "execute_result"
    }
   ],
   "source": [
    "state_samples[1,:]"
   ]
  },
  {
   "cell_type": "code",
   "execution_count": 1127,
   "metadata": {},
   "outputs": [
    {
     "data": {
      "text/plain": [
       "array([-1.25175952,  1.90126124, -0.76948927])"
      ]
     },
     "execution_count": 1127,
     "metadata": {},
     "output_type": "execute_result"
    }
   ],
   "source": [
    "meas_samples[1,:]"
   ]
  },
  {
   "cell_type": "code",
   "execution_count": 1128,
   "metadata": {},
   "outputs": [
    {
     "data": {
      "text/plain": [
       "array([-0.83291139,  0.82050764])"
      ]
     },
     "execution_count": 1128,
     "metadata": {},
     "output_type": "execute_result"
    }
   ],
   "source": [
    "state_samples[1,:] - state_mean"
   ]
  },
  {
   "cell_type": "code",
   "execution_count": 1129,
   "metadata": {},
   "outputs": [
    {
     "data": {
      "text/plain": [
       "array([-0.98158593,  2.01131742, -0.20408981])"
      ]
     },
     "execution_count": 1129,
     "metadata": {},
     "output_type": "execute_result"
    }
   ],
   "source": [
    "meas_samples[1,:] - meas_mean"
   ]
  },
  {
   "cell_type": "code",
   "execution_count": 1131,
   "metadata": {},
   "outputs": [
    {
     "ename": "ValueError",
     "evalue": "operands could not be broadcast together with shapes (2,) (3,) ",
     "output_type": "error",
     "traceback": [
      "\u001b[1;31m---------------------------------------------------------------------------\u001b[0m",
      "\u001b[1;31mValueError\u001b[0m                                Traceback (most recent call last)",
      "\u001b[1;32m<ipython-input-1131-d97104e6b7b0>\u001b[0m in \u001b[0;36m<module>\u001b[1;34m\u001b[0m\n\u001b[1;32m----> 1\u001b[1;33m \u001b[1;33m(\u001b[0m\u001b[0mstate_samples\u001b[0m\u001b[1;33m[\u001b[0m\u001b[1;36m1\u001b[0m\u001b[1;33m,\u001b[0m\u001b[1;33m:\u001b[0m\u001b[1;33m]\u001b[0m \u001b[1;33m-\u001b[0m \u001b[0mstate_mean\u001b[0m\u001b[1;33m)\u001b[0m\u001b[1;33m*\u001b[0m\u001b[1;33m(\u001b[0m\u001b[0mmeas_samples\u001b[0m\u001b[1;33m[\u001b[0m\u001b[1;36m1\u001b[0m\u001b[1;33m,\u001b[0m\u001b[1;33m:\u001b[0m\u001b[1;33m]\u001b[0m \u001b[1;33m-\u001b[0m \u001b[0mmeas_mean\u001b[0m\u001b[1;33m)\u001b[0m\u001b[1;33m\u001b[0m\u001b[1;33m\u001b[0m\u001b[0m\n\u001b[0m",
      "\u001b[1;31mValueError\u001b[0m: operands could not be broadcast together with shapes (2,) (3,) "
     ]
    }
   ],
   "source": [
    "(state_samples[1,:] - state_mean)*(meas_samples[1,:] - meas_mean)"
   ]
  },
  {
   "cell_type": "code",
   "execution_count": 1132,
   "metadata": {},
   "outputs": [
    {
     "ename": "ValueError",
     "evalue": "matmul: Input operand 1 has a mismatch in its core dimension 0, with gufunc signature (n?,k),(k,m?)->(n?,m?) (size 3 is different from 2)",
     "output_type": "error",
     "traceback": [
      "\u001b[1;31m---------------------------------------------------------------------------\u001b[0m",
      "\u001b[1;31mValueError\u001b[0m                                Traceback (most recent call last)",
      "\u001b[1;32m<ipython-input-1132-d2751f5f7839>\u001b[0m in \u001b[0;36m<module>\u001b[1;34m\u001b[0m\n\u001b[1;32m----> 1\u001b[1;33m \u001b[1;33m(\u001b[0m\u001b[0mstate_samples\u001b[0m\u001b[1;33m[\u001b[0m\u001b[1;36m1\u001b[0m\u001b[1;33m,\u001b[0m\u001b[1;33m:\u001b[0m\u001b[1;33m]\u001b[0m \u001b[1;33m-\u001b[0m \u001b[0mstate_mean\u001b[0m\u001b[1;33m)\u001b[0m\u001b[1;33m@\u001b[0m\u001b[1;33m(\u001b[0m\u001b[0mmeas_samples\u001b[0m\u001b[1;33m[\u001b[0m\u001b[1;36m1\u001b[0m\u001b[1;33m,\u001b[0m\u001b[1;33m:\u001b[0m\u001b[1;33m]\u001b[0m \u001b[1;33m-\u001b[0m \u001b[0mmeas_mean\u001b[0m\u001b[1;33m)\u001b[0m\u001b[1;33m\u001b[0m\u001b[1;33m\u001b[0m\u001b[0m\n\u001b[0m",
      "\u001b[1;31mValueError\u001b[0m: matmul: Input operand 1 has a mismatch in its core dimension 0, with gufunc signature (n?,k),(k,m?)->(n?,m?) (size 3 is different from 2)"
     ]
    }
   ],
   "source": [
    "(state_samples[1,:] - state_mean)@(meas_samples[1,:] - meas_mean)"
   ]
  },
  {
   "cell_type": "code",
   "execution_count": 1134,
   "metadata": {},
   "outputs": [
    {
     "ename": "ValueError",
     "evalue": "operands could not be broadcast together with shapes (2,) (3,) ",
     "output_type": "error",
     "traceback": [
      "\u001b[1;31m---------------------------------------------------------------------------\u001b[0m",
      "\u001b[1;31mValueError\u001b[0m                                Traceback (most recent call last)",
      "\u001b[1;32m<ipython-input-1134-21714efda429>\u001b[0m in \u001b[0;36m<module>\u001b[1;34m\u001b[0m\n\u001b[1;32m----> 1\u001b[1;33m \u001b[1;33m(\u001b[0m\u001b[0mstate_samples\u001b[0m\u001b[1;33m[\u001b[0m\u001b[1;36m1\u001b[0m\u001b[1;33m,\u001b[0m\u001b[1;33m:\u001b[0m\u001b[1;33m]\u001b[0m \u001b[1;33m-\u001b[0m \u001b[0mstate_mean\u001b[0m\u001b[1;33m)\u001b[0m\u001b[1;33m.\u001b[0m\u001b[0mT\u001b[0m\u001b[1;33m*\u001b[0m\u001b[1;33m(\u001b[0m\u001b[0mmeas_samples\u001b[0m\u001b[1;33m[\u001b[0m\u001b[1;36m1\u001b[0m\u001b[1;33m,\u001b[0m\u001b[1;33m:\u001b[0m\u001b[1;33m]\u001b[0m \u001b[1;33m-\u001b[0m \u001b[0mmeas_mean\u001b[0m\u001b[1;33m)\u001b[0m\u001b[1;33m\u001b[0m\u001b[1;33m\u001b[0m\u001b[0m\n\u001b[0m",
      "\u001b[1;31mValueError\u001b[0m: operands could not be broadcast together with shapes (2,) (3,) "
     ]
    }
   ],
   "source": [
    "(state_samples[1,:] - state_mean).T*(meas_samples[1,:] - meas_mean)"
   ]
  },
  {
   "cell_type": "code",
   "execution_count": 1135,
   "metadata": {},
   "outputs": [
    {
     "ename": "ValueError",
     "evalue": "matmul: Input operand 1 has a mismatch in its core dimension 0, with gufunc signature (n?,k),(k,m?)->(n?,m?) (size 3 is different from 2)",
     "output_type": "error",
     "traceback": [
      "\u001b[1;31m---------------------------------------------------------------------------\u001b[0m",
      "\u001b[1;31mValueError\u001b[0m                                Traceback (most recent call last)",
      "\u001b[1;32m<ipython-input-1135-27627061ffb3>\u001b[0m in \u001b[0;36m<module>\u001b[1;34m\u001b[0m\n\u001b[1;32m----> 1\u001b[1;33m \u001b[1;33m(\u001b[0m\u001b[0mstate_samples\u001b[0m\u001b[1;33m[\u001b[0m\u001b[1;36m1\u001b[0m\u001b[1;33m,\u001b[0m\u001b[1;33m:\u001b[0m\u001b[1;33m]\u001b[0m \u001b[1;33m-\u001b[0m \u001b[0mstate_mean\u001b[0m\u001b[1;33m)\u001b[0m\u001b[1;33m.\u001b[0m\u001b[0mT\u001b[0m\u001b[1;33m@\u001b[0m\u001b[1;33m(\u001b[0m\u001b[0mmeas_samples\u001b[0m\u001b[1;33m[\u001b[0m\u001b[1;36m1\u001b[0m\u001b[1;33m,\u001b[0m\u001b[1;33m:\u001b[0m\u001b[1;33m]\u001b[0m \u001b[1;33m-\u001b[0m \u001b[0mmeas_mean\u001b[0m\u001b[1;33m)\u001b[0m\u001b[1;33m\u001b[0m\u001b[1;33m\u001b[0m\u001b[0m\n\u001b[0m",
      "\u001b[1;31mValueError\u001b[0m: matmul: Input operand 1 has a mismatch in its core dimension 0, with gufunc signature (n?,k),(k,m?)->(n?,m?) (size 3 is different from 2)"
     ]
    }
   ],
   "source": [
    "(state_samples[1,:] - state_mean).T@(meas_samples[1,:] - meas_mean)"
   ]
  },
  {
   "cell_type": "code",
   "execution_count": 1137,
   "metadata": {},
   "outputs": [
    {
     "data": {
      "text/plain": [
       "array([[ 0.8175741 , -1.67524918,  0.16998873],\n",
       "       [-0.80539876,  1.65030131, -0.16745725]])"
      ]
     },
     "execution_count": 1137,
     "metadata": {},
     "output_type": "execute_result"
    }
   ],
   "source": [
    "(state_samples[1,:] - state_mean).reshape([2,1])@(meas_samples[1,:] - meas_mean).reshape([1,3])"
   ]
  },
  {
   "cell_type": "markdown",
   "metadata": {},
   "source": [
    "\n",
    "(self._current_ensemble[i,:] - self._current_state_estimate).reshape([self._numStateDimensions, 1])\n",
    "\n",
    "(self._current_ensemble_measurements[i,:] - self._current_measurement_estimate).reshape([1, self._numMeasurementDimensions])"
   ]
  },
  {
   "cell_type": "code",
   "execution_count": null,
   "metadata": {},
   "outputs": [],
   "source": []
  },
  {
   "cell_type": "code",
   "execution_count": 1533,
   "metadata": {},
   "outputs": [],
   "source": [
    "# Basic EnKF algorithm in multiple dimensions\n",
    "class ensemble_kalman_filter_multivariate(ensemble_kalman_filter_1d):\n",
    "    # All comments describe changes from the ensemble_kalman_filter_1d implementation.  \n",
    "    \n",
    "    def __init__(self, numStateDimensions, numMeasurementDimensions):\n",
    "        super().__init__() # inherit the superclass's __init__attributes\n",
    "        # add two new attributes\n",
    "        self._numStateDimensions = numStateDimensions\n",
    "        self._numMeasurementDimensions = numMeasurementDimensions\n",
    "        pass\n",
    "    \n",
    "    def _generate_ensemble(self):\n",
    "        # change random sampler to multivariate_normal.  Returns nSample x nStateDimension sample matrix \n",
    "        self._current_ensemble = np.random.multivariate_normal(self._current_state_estimate, \\\n",
    "                                                  self._current_state_covariance, \\\n",
    "                                                  size = self._num_ensemble_members)\n",
    "        pass\n",
    "    \n",
    "    def _forecast_expected_state(self):\n",
    "        # random sampler returns nSample x nStateDimension sample matrix, so we must take mean over axis = 0\n",
    "        self._current_state_estimate = np.mean(self._current_ensemble, axis = 0)\n",
    "        pass\n",
    "    \n",
    "    def _forecast_expected_state_covariance(self):\n",
    "        # random sampler returns nSample x nStateDimension sample matrix, so we must covariance of the transpose\n",
    "        # b/c of what np.cov expects [nStateDimension x nSample]\n",
    "        self._current_state_covariance = np.cov(self._current_ensemble.T)\n",
    "        pass\n",
    "    \n",
    "    def _forecast_expected_measurement(self):\n",
    "        # For consistancy with transposes and taking means, we assume that\n",
    "        # our forward model returns an\n",
    "        # nSample x nMeasurementDimension sample matrix, \n",
    "        # so we must take mean over axis = 0\n",
    "        self._current_measurement_estimate = np.mean(self._current_ensemble_measurements, axis = 0)\n",
    "        pass\n",
    "    \n",
    "    def _forecast_expected_measurement_covariance(self):\n",
    "        # For consistancy with transposes and taking means, we assume that\n",
    "        # our forward model returns an\n",
    "        # nSample x nMeasurementDimension sample matrix, \n",
    "        # so we must take np.cov of the transpose of our ensemble measurements\n",
    "        self._current_measurement_covariance = self._forward_covariance + np.cov(self._current_ensemble_measurements.T)\n",
    "        pass\n",
    "    \n",
    "    def _estimate_cross_covariance(self):\n",
    "        # recall, _current_ensemble is [nSamples x nStateDimensions] for indexing\n",
    "        # _current_state_estimate is a row vector with nStateDimensions entries\n",
    "        # _current_ensemble_measurements is [nSamples x nMeasurementDimensions]\n",
    "        # _current_measurement_estimate is a row vector with nMeasurementDimensions entries\n",
    "        # must reshape\n",
    "        \n",
    "        # _estimate_cross_covariance is the last time the ensemble is used before being redrawn\n",
    "        # thus we can overwrite it for these calculations to save memory\n",
    "        \n",
    "        self._current_cross_covariance  = np.zeros([self._numStateDimensions, self._numMeasurementDimensions])\n",
    "        \n",
    "        for i in range(self._num_ensemble_members):\n",
    "            self._current_cross_covariance  += (self._current_ensemble[i,:] - self._current_state_estimate).reshape([self._numStateDimensions, 1])@(self._current_ensemble_measurements[i,:] - self._current_measurement_estimate).reshape([1, self._numMeasurementDimensions])\n",
    "        \n",
    "        self._current_cross_covariance /= self._num_ensemble_members # elementwise division by a scalar\n",
    "        pass\n",
    "    \n",
    "    def _estimate_kalman_gain(self):\n",
    "        # Now we are dealing with matrix math instead of scalar math.  We make approprate changes\n",
    "        self._current_kalman_gain = self._current_cross_covariance @ np.linalg.inv(self._current_measurement_covariance)\n",
    "        pass\n",
    "    \n",
    "    def _update_state_and_covariance_using_measurement(self, measurement):\n",
    "        # update expected value\n",
    "        temp = self._current_kalman_gain@(np.atleast_2d(measurement).T - np.atleast_2d(self._current_measurement_estimate).T)  \n",
    "\n",
    "        self._current_state_estimate = self._current_state_estimate + temp[0]\n",
    "        # update error (covariance) estimate\n",
    "        self._current_state_covariance -= self._current_kalman_gain @ self._current_measurement_covariance @ self._current_kalman_gain.T\n",
    "        pass"
   ]
  },
  {
   "cell_type": "code",
   "execution_count": 1534,
   "metadata": {},
   "outputs": [],
   "source": [
    "def evolution_2d(state, time, nSamples = 1):\n",
    "    new_state = state/2.0 + 25.0*state/(1 + state**2) + 8.0*np.cos(1.2 * time)\n",
    "    \n",
    "    noise = np.random.multivariate_normal(np.zeros(2), 10*np.eye(2), size = nSamples)\n",
    "    return new_state + noise\n",
    "\n",
    "def measurement_model_2d_plus_equals(state, noise = True, n_measurement_dims = 2, nSamples = 1):\n",
    "    precise_measurement = (state**2.0) / 20.0\n",
    "    if noise:\n",
    "        precise_measurement +=  np.random.multivariate_normal(np.zeros(2), np.eye(2), size = nSamples)\n",
    "    return precise_measurement\n",
    "\n",
    "def measurement_model_2d(state, noise = True, n_measurement_dims = 2, nSamples = 1):\n",
    "    precise_measurement = (state**2.0) / 20.0\n",
    "    if noise:\n",
    "        precise_measurement  = precise_measurement + np.random.multivariate_normal(np.zeros(2), np.eye(2), size = nSamples)\n",
    "    return precise_measurement"
   ]
  },
  {
   "cell_type": "code",
   "execution_count": 1535,
   "metadata": {},
   "outputs": [],
   "source": [
    "# recall, our ensemble will be of [nSamples x nDimensions], as will be the multivariate_normal samples"
   ]
  },
  {
   "cell_type": "code",
   "execution_count": 1536,
   "metadata": {},
   "outputs": [
    {
     "ename": "ValueError",
     "evalue": "non-broadcastable output operand with shape (2,) doesn't match the broadcast shape (1,2)",
     "output_type": "error",
     "traceback": [
      "\u001b[1;31m---------------------------------------------------------------------------\u001b[0m",
      "\u001b[1;31mValueError\u001b[0m                                Traceback (most recent call last)",
      "\u001b[1;32m<ipython-input-1536-7b3fda0818ed>\u001b[0m in \u001b[0;36m<module>\u001b[1;34m\u001b[0m\n\u001b[1;32m----> 1\u001b[1;33m \u001b[0mmeasurement_model_2d_plus_equals\u001b[0m\u001b[1;33m(\u001b[0m\u001b[0mnp\u001b[0m\u001b[1;33m.\u001b[0m\u001b[0marray\u001b[0m\u001b[1;33m(\u001b[0m\u001b[1;33m[\u001b[0m\u001b[1;36m1\u001b[0m\u001b[1;33m,\u001b[0m \u001b[1;36m1\u001b[0m\u001b[1;33m]\u001b[0m\u001b[1;33m)\u001b[0m\u001b[1;33m)\u001b[0m\u001b[1;33m\u001b[0m\u001b[1;33m\u001b[0m\u001b[0m\n\u001b[0m",
      "\u001b[1;32m<ipython-input-1534-c06e4bd2c452>\u001b[0m in \u001b[0;36mmeasurement_model_2d_plus_equals\u001b[1;34m(state, noise, n_measurement_dims, nSamples)\u001b[0m\n\u001b[0;32m      8\u001b[0m     \u001b[0mprecise_measurement\u001b[0m \u001b[1;33m=\u001b[0m \u001b[1;33m(\u001b[0m\u001b[0mstate\u001b[0m\u001b[1;33m**\u001b[0m\u001b[1;36m2.0\u001b[0m\u001b[1;33m)\u001b[0m \u001b[1;33m/\u001b[0m \u001b[1;36m20.0\u001b[0m\u001b[1;33m\u001b[0m\u001b[1;33m\u001b[0m\u001b[0m\n\u001b[0;32m      9\u001b[0m     \u001b[1;32mif\u001b[0m \u001b[0mnoise\u001b[0m\u001b[1;33m:\u001b[0m\u001b[1;33m\u001b[0m\u001b[1;33m\u001b[0m\u001b[0m\n\u001b[1;32m---> 10\u001b[1;33m         \u001b[0mprecise_measurement\u001b[0m \u001b[1;33m+=\u001b[0m  \u001b[0mnp\u001b[0m\u001b[1;33m.\u001b[0m\u001b[0mrandom\u001b[0m\u001b[1;33m.\u001b[0m\u001b[0mmultivariate_normal\u001b[0m\u001b[1;33m(\u001b[0m\u001b[0mnp\u001b[0m\u001b[1;33m.\u001b[0m\u001b[0mzeros\u001b[0m\u001b[1;33m(\u001b[0m\u001b[1;36m2\u001b[0m\u001b[1;33m)\u001b[0m\u001b[1;33m,\u001b[0m \u001b[0mnp\u001b[0m\u001b[1;33m.\u001b[0m\u001b[0meye\u001b[0m\u001b[1;33m(\u001b[0m\u001b[1;36m2\u001b[0m\u001b[1;33m)\u001b[0m\u001b[1;33m,\u001b[0m \u001b[0msize\u001b[0m \u001b[1;33m=\u001b[0m \u001b[0mnSamples\u001b[0m\u001b[1;33m)\u001b[0m\u001b[1;33m\u001b[0m\u001b[1;33m\u001b[0m\u001b[0m\n\u001b[0m\u001b[0;32m     11\u001b[0m     \u001b[1;32mreturn\u001b[0m \u001b[0mprecise_measurement\u001b[0m\u001b[1;33m\u001b[0m\u001b[1;33m\u001b[0m\u001b[0m\n\u001b[0;32m     12\u001b[0m \u001b[1;33m\u001b[0m\u001b[0m\n",
      "\u001b[1;31mValueError\u001b[0m: non-broadcastable output operand with shape (2,) doesn't match the broadcast shape (1,2)"
     ]
    }
   ],
   "source": [
    "measurement_model_2d_plus_equals(np.array([1, 1]))"
   ]
  },
  {
   "cell_type": "code",
   "execution_count": 1537,
   "metadata": {},
   "outputs": [
    {
     "data": {
      "text/plain": [
       "array([[1.0613558 , 1.29350182]])"
      ]
     },
     "execution_count": 1537,
     "metadata": {},
     "output_type": "execute_result"
    }
   ],
   "source": [
    "measurement_model_2d(np.array([1, 1]))"
   ]
  },
  {
   "cell_type": "code",
   "execution_count": 1538,
   "metadata": {},
   "outputs": [],
   "source": [
    "enkf_mv = ensemble_kalman_filter_multivariate(2, 2)"
   ]
  },
  {
   "cell_type": "code",
   "execution_count": 1545,
   "metadata": {},
   "outputs": [],
   "source": [
    "enkf_mv.set_forward_model(measurement_model_2d)\n",
    "enkf_mv.set_forward_model_covariance(np.eye(2)) \n",
    "\n",
    "enkf_mv.set_ensemble_size(100)\n",
    "\n",
    "enkf_mv.set_state_evolution_model(evolution_2d)\n",
    "enkf_mv.set_state_evolution_model_covariance(10*np.eye(2))\n"
   ]
  },
  {
   "cell_type": "code",
   "execution_count": 1546,
   "metadata": {},
   "outputs": [],
   "source": [
    "times = np.array(range(1, 71))\n",
    "initial_state = np.array([-5,10])\n",
    "initial_state_covariance = 10*np.eye(2)\n",
    "states = np.zeros([2, 70])\n",
    "measurements = np.zeros_like(states)\n",
    "estimate = np.zeros_like(states)\n",
    "error = np.zeros([2,2,70])\n",
    "enkf_mv.initialize_problem(initial_state, initial_state_covariance, 1, 1, 100)"
   ]
  },
  {
   "cell_type": "code",
   "execution_count": 1547,
   "metadata": {},
   "outputs": [],
   "source": [
    "for iTime, time in enumerate(times):\n",
    "    if time == 1:\n",
    "        states[:, iTime] = initial_state\n",
    "        estimate[:, iTime] = initial_state\n",
    "    else:\n",
    "        states[:, iTime] = evolution_2d(states[:, iTime - 1], time, nSamples = 1)\n",
    "    measurements[:, iTime] = measurement_model_2d(states[:, iTime])\n",
    "    estimate[:,iTime], error[:,:, iTime] = enkf_mv.assimilate_data(measurements[:, iTime], time)"
   ]
  },
  {
   "cell_type": "code",
   "execution_count": 1548,
   "metadata": {},
   "outputs": [
    {
     "data": {
      "text/plain": [
       "[<matplotlib.lines.Line2D at 0x13d6e707108>]"
      ]
     },
     "execution_count": 1548,
     "metadata": {},
     "output_type": "execute_result"
    },
    {
     "data": {
      "image/png": "[encoded data removed]",
      "text/plain": [
       "<Figure size 432x288 with 1 Axes>"
      ]
     },
     "metadata": {
      "needs_background": "light"
     },
     "output_type": "display_data"
    }
   ],
   "source": [
    "plt.plot(estimate[0])\n",
    "plt.plot(estimate[1])"
   ]
  },
  {
   "cell_type": "code",
   "execution_count": 1549,
   "metadata": {},
   "outputs": [
    {
     "data": {
      "text/plain": [
       "(2, 2, 70)"
      ]
     },
     "execution_count": 1549,
     "metadata": {},
     "output_type": "execute_result"
    }
   ],
   "source": [
    "error.shape"
   ]
  },
  {
   "cell_type": "code",
   "execution_count": 1552,
   "metadata": {},
   "outputs": [
    {
     "data": {
      "text/plain": [
       "[<matplotlib.lines.Line2D at 0x13d6fd36088>]"
      ]
     },
     "execution_count": 1552,
     "metadata": {},
     "output_type": "execute_result"
    },
    {
     "data": {
      "image/png": "[encoded data removed]",
      "text/plain": [
       "<Figure size 1080x1440 with 4 Axes>"
      ]
     },
     "metadata": {
      "needs_background": "light"
     },
     "output_type": "display_data"
    }
   ],
   "source": [
    "fig, axes = plt.subplots(nrows = 4, ncols = 1, figsize = [15, 20], sharey = True)\n",
    "\n",
    "axes[0].errorbar(times, estimate[0], yerr = error[0,0,:])\n",
    "axes[0].scatter(times, states[0])\n",
    "\n",
    "axes[1].errorbar(times, estimate[1], yerr = error[1,1,:])\n",
    "axes[1].scatter(times, states[1])\n",
    "\n",
    "axes[2].plot(times, abs(states[1] - states[0]))\n",
    "\n",
    "axes[3].plot(times, abs(estimate[0] - estimate[1]))"
   ]
  },
  {
   "cell_type": "code",
   "execution_count": null,
   "metadata": {},
   "outputs": [],
   "source": []
  },
  {
   "cell_type": "code",
   "execution_count": null,
   "metadata": {},
   "outputs": [],
   "source": []
  },
  {
   "cell_type": "code",
   "execution_count": null,
   "metadata": {},
   "outputs": [],
   "source": []
  },
  {
   "cell_type": "code",
   "execution_count": null,
   "metadata": {},
   "outputs": [],
   "source": []
  },
  {
   "cell_type": "code",
   "execution_count": null,
   "metadata": {},
   "outputs": [],
   "source": []
  },
  {
   "cell_type": "code",
   "execution_count": null,
   "metadata": {},
   "outputs": [],
   "source": []
  },
  {
   "cell_type": "code",
   "execution_count": 67,
   "metadata": {},
   "outputs": [
    {
     "name": "stdout",
     "output_type": "stream",
     "text": [
      "[[1.         0.9        0.81       ... 0.02027556 0.018248   0.0164232 ]\n",
      " [0.9        1.         0.9        ... 0.0225284  0.02027556 0.018248  ]\n",
      " [0.81       0.9        1.         ... 0.02503156 0.0225284  0.02027556]\n",
      " ...\n",
      " [0.02027556 0.0225284  0.02503156 ... 1.         0.9        0.81      ]\n",
      " [0.018248   0.02027556 0.0225284  ... 0.9        1.         0.9       ]\n",
      " [0.0164232  0.018248   0.02027556 ... 0.81       0.9        1.        ]]\n"
     ]
    }
   ],
   "source": [
    "for i in range(40):\n",
    "    for j in range(40):\n",
    "        cova[i,j] = 0.9**(abs(i - j))\n",
    "        \n",
    "print(cova)"
   ]
  },
  {
   "cell_type": "code",
   "execution_count": 68,
   "metadata": {},
   "outputs": [
    {
     "data": {
      "text/plain": [
       "<matplotlib.colorbar.Colorbar at 0x13d5c694d88>"
      ]
     },
     "execution_count": 68,
     "metadata": {},
     "output_type": "execute_result"
    },
    {
     "data": {
      "image/png": "[encoded data removed]",
      "text/plain": [
       "<Figure size 864x864 with 2 Axes>"
      ]
     },
     "metadata": {
      "needs_background": "light"
     },
     "output_type": "display_data"
    }
   ],
   "source": [
    "plt.figure(figsize=[12,12])\n",
    "plt.matshow(cova, fignum=1)\n",
    "plt.colorbar()"
   ]
  },
  {
   "cell_type": "code",
   "execution_count": null,
   "metadata": {},
   "outputs": [],
   "source": []
  },
  {
   "cell_type": "code",
   "execution_count": 102,
   "metadata": {},
   "outputs": [],
   "source": []
  },
  {
   "cell_type": "code",
   "execution_count": 105,
   "metadata": {},
   "outputs": [],
   "source": []
  },
  {
   "cell_type": "code",
   "execution_count": 106,
   "metadata": {},
   "outputs": [
    {
     "data": {
      "text/plain": [
       "Text(0, 0.5, 'Measurement')"
      ]
     },
     "execution_count": 106,
     "metadata": {},
     "output_type": "execute_result"
    },
    {
     "data": {
      "image/png": "[encoded data removed]",
      "text/plain": [
       "<Figure size 1080x720 with 2 Axes>"
      ]
     },
     "metadata": {
      "needs_background": "light"
     },
     "output_type": "display_data"
    }
   ],
   "source": [
    "times = np.array(range(1, 51))\n",
    "initial_state = 0\n",
    "states = np.zeros([1, 50])\n",
    "measurements = np.zeros_like(states)\n",
    "for iTime, time in enumerate(times):\n",
    "    if time == 1:\n",
    "        states[:, iTime] = initial_state\n",
    "    else:\n",
    "        states[:, iTime] = evolution(states[0, iTime - 1], time)\n",
    "    measurements[:, iTime] = measurement_model(states[0, iTime])\n",
    "\n",
    "fig, ax = plt.subplots(nrows = 1, ncols = 2, sharex = True, figsize = [15, 10])\n",
    "ax[0].scatter(times, states[0], edgecolors = 'black', s = 30)\n",
    "ax[1].scatter(times, measurements[0], edgecolors = 'black', s = 30)\n",
    "for axis in ax:\n",
    "    axis.set_xlabel(\"Time\", fontsize = 20)\n",
    "\n",
    "ax[0].set_ylabel(\"State\", fontsize = 20)\n",
    "ax[1].set_ylabel(\"Measurement\", fontsize = 20)"
   ]
  },
  {
   "cell_type": "code",
   "execution_count": null,
   "metadata": {},
   "outputs": [],
   "source": []
  },
  {
   "cell_type": "code",
   "execution_count": null,
   "metadata": {},
   "outputs": [],
   "source": []
  },
  {
   "cell_type": "code",
   "execution_count": null,
   "metadata": {},
   "outputs": [],
   "source": []
  },
  {
   "cell_type": "code",
   "execution_count": null,
   "metadata": {},
   "outputs": [],
   "source": []
  },
  {
   "cell_type": "code",
   "execution_count": null,
   "metadata": {},
   "outputs": [],
   "source": []
  },
  {
   "cell_type": "code",
   "execution_count": null,
   "metadata": {},
   "outputs": [],
   "source": []
  },
  {
   "cell_type": "code",
   "execution_count": null,
   "metadata": {},
   "outputs": [],
   "source": []
  },
  {
   "cell_type": "code",
   "execution_count": null,
   "metadata": {},
   "outputs": [],
   "source": []
  },
  {
   "cell_type": "code",
   "execution_count": null,
   "metadata": {},
   "outputs": [],
   "source": []
  },
  {
   "cell_type": "code",
   "execution_count": null,
   "metadata": {},
   "outputs": [],
   "source": []
  },
  {
   "cell_type": "code",
   "execution_count": null,
   "metadata": {},
   "outputs": [],
   "source": []
  },
  {
   "cell_type": "code",
   "execution_count": null,
   "metadata": {},
   "outputs": [],
   "source": []
  }
 ],
 "metadata": {
  "kernelspec": {
   "display_name": "Python 3",
   "language": "python",
   "name": "python3"
  },
  "language_info": {
   "codemirror_mode": {
    "name": "ipython",
    "version": 3
   },
   "file_extension": ".py",
   "mimetype": "text/x-python",
   "name": "python",
   "nbconvert_exporter": "python",
   "pygments_lexer": "ipython3",
   "version": "3.7.4"
  }
 },
 "nbformat": 4,
 "nbformat_minor": 2
}
