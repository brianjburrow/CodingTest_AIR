{
 "cells": [
  {
   "cell_type": "markdown",
   "metadata": {},
   "source": [
    "# Background Knowledge:\n",
    "\n",
    "As a species, we are surprisingly fragile in the face of natural perils like hailstorms, floods, and high winds.  As a result, we have developed the built environment to largely separate us from normal variations in temperature, atmospheric pressure, wind, rain, and lightning.  However, the use of the phrase \"normal\" variations should underscore the statistical nature of these phenomenon.  Every year, natural disasters occur on every continent on this planet.  Many go unnoticed, as they occur in undeveloped regions on the planet.  However, when these events do intersect with the built environment, they test the limitations of our infrastructure.  Hurricanes, floods, earthquakes, and many other natural perils significantly impact a large number of structures whenever they pass over developed regions. Due to the rarity of these events and the expense of constructing indestructable structures, buildings are rarely designed to accomodate the conditions that occur during these events.  \n",
    "\n",
    "Most engineered structures are developed with design criterion that specifically reference the occurance rate of these events, e.g., 100 year storms, 1000 year floods, 10000 year earthquakes, etc.   Building structures to withstand stressful events requires an increase in design time and an increase in materials and labor, which ultimately creates a situation that requires a tradeoff: safety versus development cost.  From an engineering perspective, the useful lifecycle of a building can be quantified in decades, whereas the occurance rate for large natural disasters is typically quantified in centuries or even millennia.  Thus, we are really making a decision under uncertainty: what is the probability that my structure will undergo the  conditions that occur during a category five hurricane for example.  Many people look at the odds, decide their lifespan is short and wallet light, and gamble on the construction quality of their homes.  Thus, the insurance industry arose to manage the risk incurred due to optimistic construction codes and homebuyers.  \n",
    "\n",
    "Policy makers depend on these estimates to make recommendations on building codes: i.e., the minimum structural properties required for a building to be considered safe to occupy.  However, due to the importance of these structures in our lives, people often hedge their bets by purchasing insurance against natural disasters, and in turn, the insurance companies need to quantify these event probabilies in order to price their policies correctly.  In the early eighties and nineties, these probabilities were estimated from very limited datasets.  However, with the advent of satellite imagery, sophisicated measurement devices, and large scale data collection and processing, the ability to quantify this uncertainty has improved significantly.  Entire companies have been developed who model the natural disasters using state of the art physics models, machine learning, data visualization techniques, and physical experiments.  Still, the infrequent nature of these disasters leaves much room for uncertainty, and the computational cost associated with the modeling stage makes it difficult to know if the statistics that we compute from these simulations have converged.  \n",
    "\n",
    "Especially challenging is the fact that the scales that these events occur on vary drastically, and the insurance policies which a company wishes to sell operate on scales as small as individual houses, and as large as worldwide corporate policies.  For instance, we may be able to model the probability of having ten or more hurricanes in the Atlantic basin during a single season, but how well are we modeling the probability of a category five earthquake making landfall on a specific city along the South Carolina coastline.  The idea is that the smaller the scale that we consider, the lower the probability of an event occuring on that specific spot, and the less frequently a specific event occurs, the harder it is to estimate the probability that the event will occur.  Assessing the quality of these estimates is the purpose of this document.\n"
   ]
  },
  {
   "cell_type": "markdown",
   "metadata": {},
   "source": [
    "## Goal: Assess Catalog Convergence:\n",
    "\n",
    "This notebook is being developed to assess the convergence criterion for the stochastic catalogs developed by A.I.R.  This is a test dataset which is used for assessing coding skills, and does not represent actual datasets used by the company.  The data used for this exercise have been separated into several files.  These datasets need to be reduced to the relevant information for our analysis, and then joined into a single dataset for processing.  The requirements of this process are simply to be able to process the data on a single work pc with 16 GB of memory.\n",
    "\n",
    "This document will be broken into several stages:\n",
    "\n",
    "1. Initial data processing and queries, which consists of assessing data types and memory requirments to load in the entire dataset.\n",
    "\n",
    "2. Loading in the parts of the dataset relevant to the computations needed, and appending the partitioned datasets into a single dataset.\n",
    "\n",
    "3. Analyzing the datasets in chunks to produce useful plots.\n",
    "\n",
    "4. Assessing the convergence of the plots.\n",
    "\n",
    "This project was developed using:\n",
    "\n",
    "1. Python 3: version 3.7.4\n",
    "2. 12 GB of physical storage for the datasets (can we stream from GITHUB?)\n",
    "3. Python package: Pandas 0.25.1\n",
    "4. Python package: numpy  1.16.5"
   ]
  },
  {
   "cell_type": "code",
   "execution_count": 40,
   "metadata": {},
   "outputs": [
    {
     "name": "stdout",
     "output_type": "stream",
     "text": [
      "3.7.4\n",
      "0.25.1\n",
      "1.16.5\n",
      "0.9.0\n"
     ]
    }
   ],
   "source": [
    "## Software Requirements\n",
    "from platform import python_version\n",
    "print(python_version())\n",
    "\n",
    "import pandas as pd \n",
    "print(pd.__version__)\n",
    "\n",
    "import numpy as np \n",
    "print(np.__version__)\n",
    "\n",
    "from matplotlib import pyplot as plt\n",
    "\n",
    "import glob\n",
    "\n",
    "import time\n",
    "\n",
    "import seaborn\n",
    "print(seaborn.__version__)\n",
    "\n",
    "%matplotlib inline"
   ]
  },
  {
   "cell_type": "markdown",
   "metadata": {},
   "source": [
    "## Data Exploration\n",
    "\n",
    "Loss statistics, i.e., how statistics that estimate much money an insurance company might lose in a single year, are estimated using mathematical models of individual natural disasters.  For example, a company may have separate models for earthquakes in the United States, typhoons in Japan, and landslides in China.  This spatial discretization is extremely necessary due to the physical nature of the events; a hurricane is extremely unlikely to occur in northern Canada compared to southern Florida in the US.  \n",
    "\n",
    "Loss statistics are computed from stochastic catalogs, which are Monte Carlo style simulations that account for uncertainty in the model parameters: frequency of events, location of the event, magnitude of the event, etc.  To accurately estimate these statistics, we take advantage of the Law of Large numbers; whenever studying stochastic events, the larger the number of random samples you can simulate, the more confident you can be in the value of the statistics of the sample.  We require a large number of Monte Carlo samples to estimate rare event probabilities.  The approach taken in this is to generate stochastic catalogs, where a year's worth of natural disasters are simulated ten thousand to one-hundred thousand times.  "
   ]
  },
  {
   "cell_type": "code",
   "execution_count": 2,
   "metadata": {},
   "outputs": [],
   "source": [
    "# dataset assumed to follow the form \"./relative_path/dataset_path_prefix_%d.csv\"%file_number\n",
    "dataset_path_prefix = \"./10K/10k_20180312_part_\"\n",
    "\n",
    "num_files = 3           # number of parts the dataset is partitioned into\n",
    "\n",
    "num_catalog_years = 10000"
   ]
  },
  {
   "cell_type": "code",
   "execution_count": 3,
   "metadata": {},
   "outputs": [
    {
     "name": "stdout",
     "output_type": "stream",
     "text": [
      "<class 'pandas.core.frame.DataFrame'>\n",
      "RangeIndex: 763413 entries, 0 to 763412\n",
      "Data columns (total 41 columns):\n",
      "CatalogTypeCode       763413 non-null object\n",
      "EventID               763413 non-null int64\n",
      "ModelCode             763413 non-null int64\n",
      "YearID                763413 non-null int64\n",
      "LobSID                763413 non-null int64\n",
      "UserLineOfBusiness    763413 non-null int64\n",
      "CountryCode           763413 non-null int64\n",
      "CrestaCode            763413 non-null int64\n",
      "GroundUpLoss          763413 non-null float64\n",
      "GroundUpSD            763413 non-null float64\n",
      "GroundUpMaxLoss       763413 non-null float64\n",
      "GroundUpLoss_A        763413 non-null float64\n",
      "GroundUpSD_A          763413 non-null float64\n",
      "GroundUpMaxLoss_A     763413 non-null float64\n",
      "GroundUpLoss_B        763413 non-null int64\n",
      "GroundUpSD_B          763413 non-null int64\n",
      "GroundUpMaxLoss_B     763413 non-null int64\n",
      "GroundUpLoss_C        763413 non-null float64\n",
      "GroundUpSD_C          763413 non-null float64\n",
      "GroundUpMaxLoss_C     763413 non-null float64\n",
      "GroundUpLoss_D        763413 non-null float64\n",
      "GroundUpSD_D          763413 non-null float64\n",
      "GroundUpMaxLoss_D     763413 non-null float64\n",
      "LobSID.1              763413 non-null int64\n",
      "CountryCode.1         763413 non-null int64\n",
      "CrestaCode.1          763413 non-null int64\n",
      "GrossLoss             763413 non-null float64\n",
      "GrossSD               763413 non-null float64\n",
      "GrossMaxLoss          763413 non-null float64\n",
      "GrossLoss_A           763413 non-null float64\n",
      "GrossSD_A             763413 non-null float64\n",
      "GrossMaxLoss_A        763413 non-null float64\n",
      "GrossLoss_B           763413 non-null int64\n",
      "GrossSD_B             763413 non-null int64\n",
      "GrossMaxLoss_B        763413 non-null int64\n",
      "GrossLoss_C           763413 non-null float64\n",
      "GrossSD_C             763413 non-null float64\n",
      "GrossMaxLoss_C        763413 non-null float64\n",
      "GrossLoss_D           763413 non-null float64\n",
      "GrossSD_D             763413 non-null float64\n",
      "GrossMaxLoss_D        763413 non-null float64\n",
      "dtypes: float64(24), int64(16), object(1)\n",
      "memory usage: 276.7 MB\n"
     ]
    }
   ],
   "source": [
    "## Do some basic analysis of the dataset using Pandas API\n",
    "file_num   = 1    # we only want to read in one file for now\n",
    "\n",
    "filename = \"%s%d.csv\"%(dataset_path_prefix, file_num)\n",
    "cat_part_1 = pd.read_csv(\"%s%d.csv\"%(dataset_path_prefix, file_num))\n",
    "\n",
    "cat_part_1.info(memory_usage = 'deep')  # print out some basic information about the DataFrame"
   ]
  },
  {
   "cell_type": "markdown",
   "metadata": {},
   "source": [
    "Looking at the output of the DataFrame.info() call, we can see that the memory usage for part 1 of the dataframe is 276.7 MB.  This is not too bad for one file, and we only have three files for the 10K catalog.  However, for the 100K catalog, we have 100 files.  If they are the same size, this will be a massive use of memory whenever we read in the entire dataset.  Lets look at some ways to reduce this memory consumption.  \n",
    "\n",
    "The first is to consider what we need for our analysis.  Our first goal is to construct a year loss table, which consists of two columns: the YearID, and the GoundUpLoss.  There are 10K years in this DataFrame, but 763413 rows which each have a year.  Therefore, there must be multiple entries per year in the catalog.  Thus, we will likely be summing all of the losses for individual years.  \n",
    "\n",
    "Our second goal is actually just repetitions of the first goal.  We want to study convergence of the catalog based on location.  I.e., how does the convergence vary with spatial resolution.  Remember, earlier we mentioned that some insurance companies only sell policies to specific regions.  Therefore they do not care about convergence globally, they care about convergence of the catalog in the regions which they insure.  Thus, we will need to be able to partition this dataset by region.  The two columns that give us location based information are \"CrestaCode\" and \"CountryCode\".  Lets select a subset of our  data.\n",
    "\n"
   ]
  },
  {
   "cell_type": "code",
   "execution_count": 4,
   "metadata": {},
   "outputs": [
    {
     "data": {
      "text/html": [
       "<div>\n",
       "<style scoped>\n",
       "    .dataframe tbody tr th:only-of-type {\n",
       "        vertical-align: middle;\n",
       "    }\n",
       "\n",
       "    .dataframe tbody tr th {\n",
       "        vertical-align: top;\n",
       "    }\n",
       "\n",
       "    .dataframe thead th {\n",
       "        text-align: right;\n",
       "    }\n",
       "</style>\n",
       "<table border=\"1\" class=\"dataframe\">\n",
       "  <thead>\n",
       "    <tr style=\"text-align: right;\">\n",
       "      <th></th>\n",
       "      <th>YearID</th>\n",
       "      <th>CountryCode</th>\n",
       "      <th>CrestaCode</th>\n",
       "    </tr>\n",
       "  </thead>\n",
       "  <tbody>\n",
       "    <tr>\n",
       "      <td>0</td>\n",
       "      <td>1</td>\n",
       "      <td>1</td>\n",
       "      <td>48171</td>\n",
       "    </tr>\n",
       "    <tr>\n",
       "      <td>1</td>\n",
       "      <td>1</td>\n",
       "      <td>1</td>\n",
       "      <td>48171</td>\n",
       "    </tr>\n",
       "    <tr>\n",
       "      <td>2</td>\n",
       "      <td>1</td>\n",
       "      <td>1</td>\n",
       "      <td>35009</td>\n",
       "    </tr>\n",
       "    <tr>\n",
       "      <td>3</td>\n",
       "      <td>1</td>\n",
       "      <td>1</td>\n",
       "      <td>35009</td>\n",
       "    </tr>\n",
       "    <tr>\n",
       "      <td>4</td>\n",
       "      <td>1</td>\n",
       "      <td>1</td>\n",
       "      <td>40021</td>\n",
       "    </tr>\n",
       "  </tbody>\n",
       "</table>\n",
       "</div>"
      ],
      "text/plain": [
       "   YearID  CountryCode  CrestaCode\n",
       "0       1            1       48171\n",
       "1       1            1       48171\n",
       "2       1            1       35009\n",
       "3       1            1       35009\n",
       "4       1            1       40021"
      ]
     },
     "execution_count": 4,
     "metadata": {},
     "output_type": "execute_result"
    }
   ],
   "source": [
    "columns_to_keep = [\"YearID\", \"CountryCode\", \"CrestaCode\"]\n",
    "\n",
    "cat_part_1_reduced = cat_part_1.loc[:, columns_to_keep]\n",
    "\n",
    "cat_part_1_reduced.head()"
   ]
  },
  {
   "cell_type": "code",
   "execution_count": 5,
   "metadata": {},
   "outputs": [
    {
     "name": "stdout",
     "output_type": "stream",
     "text": [
      "<class 'pandas.core.frame.DataFrame'>\n",
      "RangeIndex: 763413 entries, 0 to 763412\n",
      "Data columns (total 3 columns):\n",
      "YearID         763413 non-null int64\n",
      "CountryCode    763413 non-null int64\n",
      "CrestaCode     763413 non-null int64\n",
      "dtypes: int64(3)\n",
      "memory usage: 17.5 MB\n"
     ]
    }
   ],
   "source": [
    "cat_part_1_reduced.info(memory_usage = 'deep')"
   ]
  },
  {
   "cell_type": "markdown",
   "metadata": {},
   "source": [
    "So, knowing what we want to do with our analysis, we have reduced the size of a single dataset from ~280 MB per file to 17.5MB per file.  This could still be large if the catalog size grows much larger, and there are still some optimizations that we might be able to take advantage of.  Specifically, the datatypes are int64, which is the largest int type that we could use.  Lets take a look and see if we can downcast those types to something that is more memory efficient."
   ]
  },
  {
   "cell_type": "code",
   "execution_count": 6,
   "metadata": {},
   "outputs": [
    {
     "data": {
      "text/html": [
       "<div>\n",
       "<style scoped>\n",
       "    .dataframe tbody tr th:only-of-type {\n",
       "        vertical-align: middle;\n",
       "    }\n",
       "\n",
       "    .dataframe tbody tr th {\n",
       "        vertical-align: top;\n",
       "    }\n",
       "\n",
       "    .dataframe thead th {\n",
       "        text-align: right;\n",
       "    }\n",
       "</style>\n",
       "<table border=\"1\" class=\"dataframe\">\n",
       "  <thead>\n",
       "    <tr style=\"text-align: right;\">\n",
       "      <th></th>\n",
       "      <th>YearID</th>\n",
       "      <th>CountryCode</th>\n",
       "      <th>CrestaCode</th>\n",
       "    </tr>\n",
       "  </thead>\n",
       "  <tbody>\n",
       "    <tr>\n",
       "      <td>count</td>\n",
       "      <td>763413.000000</td>\n",
       "      <td>763413.0</td>\n",
       "      <td>763413.000000</td>\n",
       "    </tr>\n",
       "    <tr>\n",
       "      <td>mean</td>\n",
       "      <td>1498.934315</td>\n",
       "      <td>1.0</td>\n",
       "      <td>26575.889114</td>\n",
       "    </tr>\n",
       "    <tr>\n",
       "      <td>std</td>\n",
       "      <td>867.109178</td>\n",
       "      <td>0.0</td>\n",
       "      <td>19073.176333</td>\n",
       "    </tr>\n",
       "    <tr>\n",
       "      <td>min</td>\n",
       "      <td>1.000000</td>\n",
       "      <td>1.0</td>\n",
       "      <td>4001.000000</td>\n",
       "    </tr>\n",
       "    <tr>\n",
       "      <td>25%</td>\n",
       "      <td>753.000000</td>\n",
       "      <td>1.0</td>\n",
       "      <td>6069.000000</td>\n",
       "    </tr>\n",
       "    <tr>\n",
       "      <td>50%</td>\n",
       "      <td>1496.000000</td>\n",
       "      <td>1.0</td>\n",
       "      <td>30095.000000</td>\n",
       "    </tr>\n",
       "    <tr>\n",
       "      <td>75%</td>\n",
       "      <td>2253.000000</td>\n",
       "      <td>1.0</td>\n",
       "      <td>41045.000000</td>\n",
       "    </tr>\n",
       "    <tr>\n",
       "      <td>max</td>\n",
       "      <td>3000.000000</td>\n",
       "      <td>1.0</td>\n",
       "      <td>56045.000000</td>\n",
       "    </tr>\n",
       "  </tbody>\n",
       "</table>\n",
       "</div>"
      ],
      "text/plain": [
       "              YearID  CountryCode     CrestaCode\n",
       "count  763413.000000     763413.0  763413.000000\n",
       "mean     1498.934315          1.0   26575.889114\n",
       "std       867.109178          0.0   19073.176333\n",
       "min         1.000000          1.0    4001.000000\n",
       "25%       753.000000          1.0    6069.000000\n",
       "50%      1496.000000          1.0   30095.000000\n",
       "75%      2253.000000          1.0   41045.000000\n",
       "max      3000.000000          1.0   56045.000000"
      ]
     },
     "execution_count": 6,
     "metadata": {},
     "output_type": "execute_result"
    }
   ],
   "source": [
    "cat_part_1_reduced.describe()"
   ]
  },
  {
   "cell_type": "markdown",
   "metadata": {},
   "source": [
    "Note: the country codes are all the same, indicating that all of these locations are in the United States.  Thus, this column is not providing much information.  Secondly, CrestaCode takes only positive values, and the values are never larger than five digits.  The year ID is similarly limited to positive values and we know that it takes values between 1 and the number of catalog years (either 10K or 100K in this example).  We should be able to downcast these datatypes to more efficient types.\n",
    "\n"
   ]
  },
  {
   "cell_type": "code",
   "execution_count": 7,
   "metadata": {},
   "outputs": [
    {
     "name": "stdout",
     "output_type": "stream",
     "text": [
      "<class 'pandas.core.frame.DataFrame'>\n",
      "RangeIndex: 763413 entries, 0 to 763412\n",
      "Data columns (total 2 columns):\n",
      "YearID        763413 non-null uint16\n",
      "CrestaCode    763413 non-null uint16\n",
      "dtypes: uint16(2)\n",
      "memory usage: 2.9 MB\n"
     ]
    }
   ],
   "source": [
    "cat_part_1_reduced = cat_part_1_reduced.drop(\"CountryCode\", axis = 1)  # remove the CountryCode column\n",
    "\n",
    "cat_part_1_reduced = cat_part_1_reduced.apply(pd.to_numeric, downcast = 'unsigned')\n",
    "\n",
    "cat_part_1_reduced.info(memory_usage='deep')"
   ]
  },
  {
   "cell_type": "markdown",
   "metadata": {},
   "source": [
    "Now we have reduced the dataset from ~280 MB down to 2.9 MB per file.  Now, we are going to want to be able to states and counties, which is the information that the CrestaCode gives us.  These are five digit numbers, where the first two numbers are the state code, and the last three numbers are the county code.  Unfortunately, when they are represented as unsigned integers, some of the values only have four digits because the leading zeros are dropped.\n",
    "\n",
    "Let us create a new column that contains the state codes from the CrestaCode block."
   ]
  },
  {
   "cell_type": "code",
   "execution_count": 8,
   "metadata": {},
   "outputs": [
    {
     "name": "stdout",
     "output_type": "stream",
     "text": [
      "count     763413\n",
      "unique       741\n",
      "top        06065\n",
      "freq       26963\n",
      "Name: StateID, dtype: object\n",
      "YearID        uint16\n",
      "CrestaCode    uint16\n",
      "StateID       object\n",
      "dtype: object\n",
      "<class 'pandas.core.frame.DataFrame'>\n",
      "RangeIndex: 763413 entries, 0 to 763412\n",
      "Data columns (total 3 columns):\n",
      "YearID        763413 non-null uint16\n",
      "CrestaCode    763413 non-null uint16\n",
      "StateID       763413 non-null object\n",
      "dtypes: object(1), uint16(2)\n",
      "memory usage: 48.1 MB\n",
      "None\n"
     ]
    }
   ],
   "source": [
    "cat_part_1_reduced[\"StateID\"] = cat_part_1_reduced[\"CrestaCode\"].astype(str).apply(lambda x: x.zfill(5))\n",
    "\n",
    "print(cat_part_1_reduced[\"StateID\"].describe())\n",
    "\n",
    "print(cat_part_1_reduced.dtypes)\n",
    "\n",
    "print(cat_part_1_reduced.info(memory_usage = \"deep\"))"
   ]
  },
  {
   "cell_type": "markdown",
   "metadata": {},
   "source": [
    "Now we have increased the size dramatically by introducing a column of objects.  Note that there are only 741 unique values in the StateID column.  Lets remove the last three digits of the CrestaCodes contained in StateID, and then convert back to unsigned integers to save space."
   ]
  },
  {
   "cell_type": "code",
   "execution_count": 9,
   "metadata": {},
   "outputs": [
    {
     "name": "stdout",
     "output_type": "stream",
     "text": [
      "count    763413.000000\n",
      "mean         26.497213\n",
      "std          19.044647\n",
      "min           4.000000\n",
      "25%           6.000000\n",
      "50%          30.000000\n",
      "75%          41.000000\n",
      "max          56.000000\n",
      "Name: StateID, dtype: float64\n",
      "<class 'pandas.core.frame.DataFrame'>\n",
      "RangeIndex: 763413 entries, 0 to 763412\n",
      "Data columns (total 3 columns):\n",
      "YearID        763413 non-null uint16\n",
      "CrestaCode    763413 non-null uint16\n",
      "StateID       763413 non-null uint8\n",
      "dtypes: uint16(2), uint8(1)\n",
      "memory usage: 3.6 MB\n",
      "None\n"
     ]
    }
   ],
   "source": [
    "cat_part_1_reduced[\"StateID\"] = pd.to_numeric(cat_part_1_reduced[\"StateID\"].apply(lambda x: x[0:2]), downcast = 'unsigned')\n",
    "\n",
    "print(cat_part_1_reduced[\"StateID\"].describe())\n",
    "\n",
    "print(cat_part_1_reduced.info(memory_usage = 'deep'))"
   ]
  },
  {
   "cell_type": "markdown",
   "metadata": {},
   "source": [
    "In the above cell we removed the final three values of the cresta code, which denotes the county values.  That provided us with a Series of strings that contained the state code.  Since Pandas represents strings as object types, the memory usage is much higher than necessary to represent unsigned, two digit integers.  Thus, we also converted the strings to numeric and downcast them to uint8, which is one of the most memory efficient types that we can use."
   ]
  },
  {
   "cell_type": "markdown",
   "metadata": {},
   "source": [
    "Now, we need to do this for every file in our dataset, so lets write a function to do the repetitive task."
   ]
  },
  {
   "cell_type": "code",
   "execution_count": 10,
   "metadata": {},
   "outputs": [],
   "source": [
    "def read_and_reduce_dataset(filename):\n",
    "    columns_to_keep = [\"YearID\", \"CrestaCode\", \"GroundUpLoss\"]\n",
    "    \n",
    "    dataset = pd.read_csv(filename, usecols = columns_to_keep)\n",
    "    dataset = dataset.apply(pd.to_numeric, downcast = 'unsigned')\n",
    "    \n",
    "    dataset[\"StateID\"] = dataset.loc[:, \"CrestaCode\"].astype(str).apply(lambda x: x.zfill(5))\n",
    "    dataset.loc[:,\"StateID\"] = pd.to_numeric(dataset.loc[:,\"StateID\"].apply(lambda x: x[0:2]), downcast = 'unsigned')\n",
    "    return(dataset)"
   ]
  },
  {
   "cell_type": "code",
   "execution_count": 11,
   "metadata": {},
   "outputs": [
    {
     "name": "stdout",
     "output_type": "stream",
     "text": [
      "Reading in a single dataset takes 2.189761 seconds\n",
      "<class 'pandas.core.frame.DataFrame'>\n",
      "RangeIndex: 763413 entries, 0 to 763412\n",
      "Data columns (total 4 columns):\n",
      "YearID          763413 non-null uint16\n",
      "CrestaCode      763413 non-null uint16\n",
      "GroundUpLoss    763413 non-null float64\n",
      "StateID         763413 non-null uint8\n",
      "dtypes: float64(1), uint16(2), uint8(1)\n",
      "memory usage: 9.5 MB\n",
      "None\n"
     ]
    },
    {
     "data": {
      "text/html": [
       "<div>\n",
       "<style scoped>\n",
       "    .dataframe tbody tr th:only-of-type {\n",
       "        vertical-align: middle;\n",
       "    }\n",
       "\n",
       "    .dataframe tbody tr th {\n",
       "        vertical-align: top;\n",
       "    }\n",
       "\n",
       "    .dataframe thead th {\n",
       "        text-align: right;\n",
       "    }\n",
       "</style>\n",
       "<table border=\"1\" class=\"dataframe\">\n",
       "  <thead>\n",
       "    <tr style=\"text-align: right;\">\n",
       "      <th></th>\n",
       "      <th>YearID</th>\n",
       "      <th>CrestaCode</th>\n",
       "      <th>GroundUpLoss</th>\n",
       "      <th>StateID</th>\n",
       "    </tr>\n",
       "  </thead>\n",
       "  <tbody>\n",
       "    <tr>\n",
       "      <td>0</td>\n",
       "      <td>1</td>\n",
       "      <td>48171</td>\n",
       "      <td>3.243530e+05</td>\n",
       "      <td>48</td>\n",
       "    </tr>\n",
       "    <tr>\n",
       "      <td>1</td>\n",
       "      <td>1</td>\n",
       "      <td>48171</td>\n",
       "      <td>1.924000e+03</td>\n",
       "      <td>48</td>\n",
       "    </tr>\n",
       "    <tr>\n",
       "      <td>2</td>\n",
       "      <td>1</td>\n",
       "      <td>35009</td>\n",
       "      <td>3.854790e+02</td>\n",
       "      <td>35</td>\n",
       "    </tr>\n",
       "    <tr>\n",
       "      <td>3</td>\n",
       "      <td>1</td>\n",
       "      <td>35009</td>\n",
       "      <td>1.640490e+00</td>\n",
       "      <td>35</td>\n",
       "    </tr>\n",
       "    <tr>\n",
       "      <td>4</td>\n",
       "      <td>1</td>\n",
       "      <td>40021</td>\n",
       "      <td>1.635040e+06</td>\n",
       "      <td>40</td>\n",
       "    </tr>\n",
       "  </tbody>\n",
       "</table>\n",
       "</div>"
      ],
      "text/plain": [
       "   YearID  CrestaCode  GroundUpLoss  StateID\n",
       "0       1       48171  3.243530e+05       48\n",
       "1       1       48171  1.924000e+03       48\n",
       "2       1       35009  3.854790e+02       35\n",
       "3       1       35009  1.640490e+00       35\n",
       "4       1       40021  1.635040e+06       40"
      ]
     },
     "execution_count": 11,
     "metadata": {},
     "output_type": "execute_result"
    }
   ],
   "source": [
    "start_time = time.time()\n",
    "new_dataset = read_and_reduce_dataset(filename)\n",
    "print(\"Reading in a single dataset takes %f seconds\"%(time.time() - start_time))\n",
    "print(new_dataset.info(memory_usage='deep'))\n",
    "new_dataset.head()"
   ]
  },
  {
   "cell_type": "markdown",
   "metadata": {},
   "source": [
    "You will notice that we added an additional column, the ground up loss.  We had not specified that column in previous steps, because I knew that I would not downcast this value.  Specifically, the ground up loss is a float64, and we will be computing statistics on the GroundUpLoss.  We do not want to lose any precision for these calculations, which can easily happen when computing standard deviations.  This is mentioned specifically in the numpy.sd documentation, which states that standard deviation calculations can be innacurate when using float32 datatypes.  Notice, we applied the downcast to the entire dataset, but the GroundUpLoss was not affected because it cannot be cast to an unsigned integer type, however it is always useful to check anyway!  Unfortunately, the addition of this single column has increased our memory usage from 3.6 MB per file to 9.5 MB per file, with a processing time of ~2.3 seconds per file.\n",
    "\n",
    "Lets build our entire dataset."
   ]
  },
  {
   "cell_type": "code",
   "execution_count": 12,
   "metadata": {},
   "outputs": [
    {
     "name": "stdout",
     "output_type": "stream",
     "text": [
      "['./10K/10k_20180312_part_1.csv', './10K/10k_20180312_part_2.csv', './10K/10k_20180312_part_3.csv']\n",
      "Reading in entire dataset takes 7.355976 seconds\n",
      "<class 'pandas.core.frame.DataFrame'>\n",
      "RangeIndex: 2557951 entries, 0 to 2557950\n",
      "Data columns (total 4 columns):\n",
      "YearID          uint16\n",
      "CrestaCode      uint16\n",
      "GroundUpLoss    float64\n",
      "StateID         uint8\n",
      "dtypes: float64(1), uint16(2), uint8(1)\n",
      "memory usage: 31.7 MB\n",
      "None\n"
     ]
    }
   ],
   "source": [
    "fileset = [\"%s%d.csv\"%(dataset_path_prefix, index) for index in np.arange(1, num_files + 1)]\n",
    "print(fileset)\n",
    "start_time = time.time()\n",
    "full_dataset = pd.concat([read_and_reduce_dataset(file) for file in fileset], ignore_index = True)\n",
    "print(\"Reading in entire dataset takes %f seconds\"%(time.time() - start_time))\n",
    "print(full_dataset.info(memory_usage='deep'))"
   ]
  },
  {
   "cell_type": "markdown",
   "metadata": {},
   "source": [
    "## Data Analysis\n",
    "\n",
    "Now that we can quickly read in our entire dataset into the specified form, we need to actually compute the statistics of the catalog.  Specifically, we will be generating a loss table, which aggregates all of the estimated GroundUpLosses that occur during a particular calatog year.  Since we have 10,000 catalog years in this particular catalog, the loss table will have 10K entries.  This type of analysis requires creating subsets of the original dataset, and aggregating certain parts of a particular column based on the value of another column.  In the end, we would like to convert our three column dataframe with 2557951 rows into a two column dataframe with 10K rows.  Each row should contain the sum of Ground up losses for a particular catalog year and a particular spatial resolution and location.  For example, to build a loss table for StateID = 48, we only want to sum GroundUpLosses that occur in that particular state, and ignore all others.\n",
    "\n",
    "This is not a type of data analysis that you should perform using Numpy arithmatic, because it cannot be easily vectorized.  Instead, this is the exact situation that a pivot table was created for.  A pivot table is a small table that summarizes the results contained in a larger dataset.  These summary statistics can be any valid statistic that describes the data contained in the subset of interest.   Because we are taking a large dataset and reducing it, the statistical function we select is called the aggregation function, which is simply a way of grouping rows of a dataframe together and computing a single summary value for those rows. Pandas has an efficient implementation of pivot tables, pivot_table, that we can take advantage of.\n",
    "\n",
    "In this example, we will create a loss table for all states.  We will index our table by the YearID, creating rows that are equal to the catalog year that particular GroundUpLosses occured in.  And we will create columns that contain the sum of all GroundUpLosses that occured in each state during a particular calendar year."
   ]
  },
  {
   "cell_type": "code",
   "execution_count": 13,
   "metadata": {},
   "outputs": [
    {
     "name": "stdout",
     "output_type": "stream",
     "text": [
      "Creating the pivot table with np.sum as the agg func takes 0.258962 seconds.\n",
      "Creating the pivot table with Python's sum as the agg func takes 0.272007 seconds.\n"
     ]
    }
   ],
   "source": [
    "start_time = time.time()\n",
    "loss_table_states  = pd.pivot_table(full_dataset.drop('CrestaCode', axis = 1), index = \"YearID\", columns = \"StateID\", values = \"GroundUpLoss\",aggfunc = np.sum)\n",
    "print(\"Creating the pivot table with np.sum as the agg func takes %f seconds.\"%(time.time() - start_time))\n",
    "\n",
    "start_time = time.time()\n",
    "loss_table_states  = pd.pivot_table(full_dataset.drop('CrestaCode', axis = 1), index = \"YearID\", columns = \"StateID\", values = \"GroundUpLoss\",aggfunc = sum)\n",
    "print(\"Creating the pivot table with Python's sum as the agg func takes %f seconds.\"%(time.time() - start_time))\n"
   ]
  },
  {
   "cell_type": "code",
   "execution_count": 14,
   "metadata": {},
   "outputs": [
    {
     "name": "stdout",
     "output_type": "stream",
     "text": [
      "<class 'pandas.core.frame.DataFrame'>\n",
      "UInt64Index: 10000 entries, 1 to 10000\n",
      "Data columns (total 13 columns):\n",
      "4     9323 non-null float64\n",
      "6     10000 non-null float64\n",
      "8     8958 non-null float64\n",
      "16    7456 non-null float64\n",
      "30    8933 non-null float64\n",
      "32    6894 non-null float64\n",
      "35    8123 non-null float64\n",
      "40    9986 non-null float64\n",
      "41    8625 non-null float64\n",
      "48    9881 non-null float64\n",
      "49    5608 non-null float64\n",
      "53    9365 non-null float64\n",
      "56    8035 non-null float64\n",
      "dtypes: float64(13)\n",
      "memory usage: 1.1 MB\n",
      "None\n",
      "StateID            4             6             8             16            30  \\\n",
      "count    9.323000e+03  1.000000e+04  8.958000e+03  7.456000e+03  8.933000e+03   \n",
      "mean     2.559206e+08  2.288897e+09  1.522426e+08  7.498234e+07  5.624960e+07   \n",
      "std      7.112907e+08  3.474815e+09  5.137712e+08  3.016228e+08  1.299149e+08   \n",
      "min      5.839110e-01  2.435049e+05  5.910460e-01  5.873530e-01  5.863060e-01   \n",
      "25%      6.562328e+06  4.347917e+08  5.217152e+06  1.417161e+06  3.162463e+06   \n",
      "50%      3.653546e+07  1.161388e+09  2.371782e+07  7.309311e+06  1.388434e+07   \n",
      "75%      1.835523e+08  2.727697e+09  9.643828e+07  3.694706e+07  5.147352e+07   \n",
      "max      1.606453e+10  6.576088e+10  1.262526e+10  9.949241e+09  2.782272e+09   \n",
      "\n",
      "StateID            32            35            40            41            48  \\\n",
      "count    6.894000e+03  8.123000e+03  9.986000e+03  8.625000e+03  9.881000e+03   \n",
      "mean     1.430816e+08  6.422382e+07  1.177519e+08  6.967734e+07  1.577154e+08   \n",
      "std      3.959399e+08  2.499167e+08  1.893969e+08  1.908601e+08  4.951562e+08   \n",
      "min      6.080340e-01  5.889260e-01  1.120890e+01  8.134900e-01  1.085680e+00   \n",
      "25%      2.743718e+06  1.588220e+06  2.280248e+07  2.552035e+06  1.386269e+07   \n",
      "50%      1.673411e+07  8.431948e+06  5.525148e+07  1.301991e+07  4.398182e+07   \n",
      "75%      9.911972e+07  3.836328e+07  1.333609e+08  5.284487e+07  1.374668e+08   \n",
      "max      7.968949e+09  6.662881e+09  3.296932e+09  6.158314e+09  2.169827e+10   \n",
      "\n",
      "StateID            49            53            56  \n",
      "count    5.608000e+03  9.365000e+03  8.035000e+03  \n",
      "mean     8.265234e+07  1.541054e+08  3.989759e+07  \n",
      "std      2.789897e+08  3.515285e+08  1.398292e+08  \n",
      "min      6.389230e-01  6.453680e-01  5.954230e-01  \n",
      "25%      1.622115e+06  9.793748e+06  1.177775e+06  \n",
      "50%      8.442449e+06  3.978415e+07  4.967885e+06  \n",
      "75%      4.911785e+07  1.402670e+08  2.083988e+07  \n",
      "max      8.468034e+09  7.565151e+09  3.195854e+09  \n"
     ]
    }
   ],
   "source": [
    "print(loss_table_states.info(memory_usage='deep'))\n",
    "\n",
    "print(loss_table_states.describe())"
   ]
  },
  {
   "cell_type": "markdown",
   "metadata": {},
   "source": [
    "Looking at the above, the pivot table requires 1.1MB of memory to store, has 13 columns which are the 13 unique state codes contained in the dataset.  "
   ]
  },
  {
   "cell_type": "code",
   "execution_count": 15,
   "metadata": {},
   "outputs": [
    {
     "data": {
      "text/html": [
       "<div>\n",
       "<style scoped>\n",
       "    .dataframe tbody tr th:only-of-type {\n",
       "        vertical-align: middle;\n",
       "    }\n",
       "\n",
       "    .dataframe tbody tr th {\n",
       "        vertical-align: top;\n",
       "    }\n",
       "\n",
       "    .dataframe thead th {\n",
       "        text-align: right;\n",
       "    }\n",
       "</style>\n",
       "<table border=\"1\" class=\"dataframe\">\n",
       "  <thead>\n",
       "    <tr style=\"text-align: right;\">\n",
       "      <th>StateID</th>\n",
       "      <th>4</th>\n",
       "      <th>6</th>\n",
       "      <th>8</th>\n",
       "      <th>16</th>\n",
       "      <th>30</th>\n",
       "      <th>32</th>\n",
       "      <th>35</th>\n",
       "      <th>40</th>\n",
       "      <th>41</th>\n",
       "      <th>48</th>\n",
       "      <th>49</th>\n",
       "      <th>53</th>\n",
       "      <th>56</th>\n",
       "    </tr>\n",
       "    <tr>\n",
       "      <th>YearID</th>\n",
       "      <th></th>\n",
       "      <th></th>\n",
       "      <th></th>\n",
       "      <th></th>\n",
       "      <th></th>\n",
       "      <th></th>\n",
       "      <th></th>\n",
       "      <th></th>\n",
       "      <th></th>\n",
       "      <th></th>\n",
       "      <th></th>\n",
       "      <th></th>\n",
       "      <th></th>\n",
       "    </tr>\n",
       "  </thead>\n",
       "  <tbody>\n",
       "    <tr>\n",
       "      <td>1</td>\n",
       "      <td>1.745931e+07</td>\n",
       "      <td>2.770872e+09</td>\n",
       "      <td>1.012670e+07</td>\n",
       "      <td>4.662517e+06</td>\n",
       "      <td>10220431.5</td>\n",
       "      <td>NaN</td>\n",
       "      <td>7.676548e+06</td>\n",
       "      <td>1.164236e+08</td>\n",
       "      <td>1.220875e+07</td>\n",
       "      <td>1.519489e+08</td>\n",
       "      <td>648164.16</td>\n",
       "      <td>7.127282e+08</td>\n",
       "      <td>5.996420e+06</td>\n",
       "    </tr>\n",
       "    <tr>\n",
       "      <td>2</td>\n",
       "      <td>1.462768e+08</td>\n",
       "      <td>3.056520e+08</td>\n",
       "      <td>NaN</td>\n",
       "      <td>5.768658e+05</td>\n",
       "      <td>NaN</td>\n",
       "      <td>NaN</td>\n",
       "      <td>1.130717e+06</td>\n",
       "      <td>1.248806e+08</td>\n",
       "      <td>NaN</td>\n",
       "      <td>3.466474e+07</td>\n",
       "      <td>NaN</td>\n",
       "      <td>2.753115e+08</td>\n",
       "      <td>1.112858e+06</td>\n",
       "    </tr>\n",
       "    <tr>\n",
       "      <td>3</td>\n",
       "      <td>3.193161e+07</td>\n",
       "      <td>2.405179e+08</td>\n",
       "      <td>7.516624e+02</td>\n",
       "      <td>5.527672e+05</td>\n",
       "      <td>4435315.0</td>\n",
       "      <td>3.896147e+08</td>\n",
       "      <td>9.064230e+06</td>\n",
       "      <td>5.860247e+07</td>\n",
       "      <td>5.638125e+06</td>\n",
       "      <td>9.688161e+07</td>\n",
       "      <td>17195335.60</td>\n",
       "      <td>4.139732e+07</td>\n",
       "      <td>1.111818e+08</td>\n",
       "    </tr>\n",
       "    <tr>\n",
       "      <td>4</td>\n",
       "      <td>1.214921e+09</td>\n",
       "      <td>6.073755e+08</td>\n",
       "      <td>3.761395e+06</td>\n",
       "      <td>1.211955e+07</td>\n",
       "      <td>NaN</td>\n",
       "      <td>NaN</td>\n",
       "      <td>3.417262e+06</td>\n",
       "      <td>4.264110e+08</td>\n",
       "      <td>2.855041e+06</td>\n",
       "      <td>6.587626e+07</td>\n",
       "      <td>NaN</td>\n",
       "      <td>3.635959e+06</td>\n",
       "      <td>6.154971e+04</td>\n",
       "    </tr>\n",
       "    <tr>\n",
       "      <td>5</td>\n",
       "      <td>1.871788e+07</td>\n",
       "      <td>1.815619e+09</td>\n",
       "      <td>6.287765e+07</td>\n",
       "      <td>4.079936e+08</td>\n",
       "      <td>NaN</td>\n",
       "      <td>1.055812e+06</td>\n",
       "      <td>3.892102e+07</td>\n",
       "      <td>8.725775e+06</td>\n",
       "      <td>1.730932e+07</td>\n",
       "      <td>8.909275e+06</td>\n",
       "      <td>NaN</td>\n",
       "      <td>7.730143e+07</td>\n",
       "      <td>2.277814e+05</td>\n",
       "    </tr>\n",
       "  </tbody>\n",
       "</table>\n",
       "</div>"
      ],
      "text/plain": [
       "StateID            4             6             8             16          30  \\\n",
       "YearID                                                                        \n",
       "1        1.745931e+07  2.770872e+09  1.012670e+07  4.662517e+06  10220431.5   \n",
       "2        1.462768e+08  3.056520e+08           NaN  5.768658e+05         NaN   \n",
       "3        3.193161e+07  2.405179e+08  7.516624e+02  5.527672e+05   4435315.0   \n",
       "4        1.214921e+09  6.073755e+08  3.761395e+06  1.211955e+07         NaN   \n",
       "5        1.871788e+07  1.815619e+09  6.287765e+07  4.079936e+08         NaN   \n",
       "\n",
       "StateID            32            35            40            41            48  \\\n",
       "YearID                                                                          \n",
       "1                 NaN  7.676548e+06  1.164236e+08  1.220875e+07  1.519489e+08   \n",
       "2                 NaN  1.130717e+06  1.248806e+08           NaN  3.466474e+07   \n",
       "3        3.896147e+08  9.064230e+06  5.860247e+07  5.638125e+06  9.688161e+07   \n",
       "4                 NaN  3.417262e+06  4.264110e+08  2.855041e+06  6.587626e+07   \n",
       "5        1.055812e+06  3.892102e+07  8.725775e+06  1.730932e+07  8.909275e+06   \n",
       "\n",
       "StateID           49            53            56  \n",
       "YearID                                            \n",
       "1          648164.16  7.127282e+08  5.996420e+06  \n",
       "2                NaN  2.753115e+08  1.112858e+06  \n",
       "3        17195335.60  4.139732e+07  1.111818e+08  \n",
       "4                NaN  3.635959e+06  6.154971e+04  \n",
       "5                NaN  7.730143e+07  2.277814e+05  "
      ]
     },
     "execution_count": 15,
     "metadata": {},
     "output_type": "execute_result"
    }
   ],
   "source": [
    "loss_table_states.head()"
   ]
  },
  {
   "cell_type": "code",
   "execution_count": 16,
   "metadata": {},
   "outputs": [
    {
     "data": {
      "text/html": [
       "<div>\n",
       "<style scoped>\n",
       "    .dataframe tbody tr th:only-of-type {\n",
       "        vertical-align: middle;\n",
       "    }\n",
       "\n",
       "    .dataframe tbody tr th {\n",
       "        vertical-align: top;\n",
       "    }\n",
       "\n",
       "    .dataframe thead th {\n",
       "        text-align: right;\n",
       "    }\n",
       "</style>\n",
       "<table border=\"1\" class=\"dataframe\">\n",
       "  <thead>\n",
       "    <tr style=\"text-align: right;\">\n",
       "      <th>StateID</th>\n",
       "      <th>4</th>\n",
       "      <th>6</th>\n",
       "      <th>8</th>\n",
       "      <th>16</th>\n",
       "      <th>30</th>\n",
       "      <th>32</th>\n",
       "      <th>35</th>\n",
       "      <th>40</th>\n",
       "      <th>41</th>\n",
       "      <th>48</th>\n",
       "      <th>49</th>\n",
       "      <th>53</th>\n",
       "      <th>56</th>\n",
       "    </tr>\n",
       "    <tr>\n",
       "      <th>YearID</th>\n",
       "      <th></th>\n",
       "      <th></th>\n",
       "      <th></th>\n",
       "      <th></th>\n",
       "      <th></th>\n",
       "      <th></th>\n",
       "      <th></th>\n",
       "      <th></th>\n",
       "      <th></th>\n",
       "      <th></th>\n",
       "      <th></th>\n",
       "      <th></th>\n",
       "      <th></th>\n",
       "    </tr>\n",
       "  </thead>\n",
       "  <tbody>\n",
       "    <tr>\n",
       "      <td>1</td>\n",
       "      <td>1.745931e+07</td>\n",
       "      <td>2.770872e+09</td>\n",
       "      <td>1.012670e+07</td>\n",
       "      <td>4.662517e+06</td>\n",
       "      <td>10220431.5</td>\n",
       "      <td>0.000000e+00</td>\n",
       "      <td>7.676548e+06</td>\n",
       "      <td>1.164236e+08</td>\n",
       "      <td>1.220875e+07</td>\n",
       "      <td>1.519489e+08</td>\n",
       "      <td>648164.16</td>\n",
       "      <td>7.127282e+08</td>\n",
       "      <td>5.996420e+06</td>\n",
       "    </tr>\n",
       "    <tr>\n",
       "      <td>2</td>\n",
       "      <td>1.462768e+08</td>\n",
       "      <td>3.056520e+08</td>\n",
       "      <td>0.000000e+00</td>\n",
       "      <td>5.768658e+05</td>\n",
       "      <td>0.0</td>\n",
       "      <td>0.000000e+00</td>\n",
       "      <td>1.130717e+06</td>\n",
       "      <td>1.248806e+08</td>\n",
       "      <td>0.000000e+00</td>\n",
       "      <td>3.466474e+07</td>\n",
       "      <td>0.00</td>\n",
       "      <td>2.753115e+08</td>\n",
       "      <td>1.112858e+06</td>\n",
       "    </tr>\n",
       "    <tr>\n",
       "      <td>3</td>\n",
       "      <td>3.193161e+07</td>\n",
       "      <td>2.405179e+08</td>\n",
       "      <td>7.516624e+02</td>\n",
       "      <td>5.527672e+05</td>\n",
       "      <td>4435315.0</td>\n",
       "      <td>3.896147e+08</td>\n",
       "      <td>9.064230e+06</td>\n",
       "      <td>5.860247e+07</td>\n",
       "      <td>5.638125e+06</td>\n",
       "      <td>9.688161e+07</td>\n",
       "      <td>17195335.60</td>\n",
       "      <td>4.139732e+07</td>\n",
       "      <td>1.111818e+08</td>\n",
       "    </tr>\n",
       "    <tr>\n",
       "      <td>4</td>\n",
       "      <td>1.214921e+09</td>\n",
       "      <td>6.073755e+08</td>\n",
       "      <td>3.761395e+06</td>\n",
       "      <td>1.211955e+07</td>\n",
       "      <td>0.0</td>\n",
       "      <td>0.000000e+00</td>\n",
       "      <td>3.417262e+06</td>\n",
       "      <td>4.264110e+08</td>\n",
       "      <td>2.855041e+06</td>\n",
       "      <td>6.587626e+07</td>\n",
       "      <td>0.00</td>\n",
       "      <td>3.635959e+06</td>\n",
       "      <td>6.154971e+04</td>\n",
       "    </tr>\n",
       "    <tr>\n",
       "      <td>5</td>\n",
       "      <td>1.871788e+07</td>\n",
       "      <td>1.815619e+09</td>\n",
       "      <td>6.287765e+07</td>\n",
       "      <td>4.079936e+08</td>\n",
       "      <td>0.0</td>\n",
       "      <td>1.055812e+06</td>\n",
       "      <td>3.892102e+07</td>\n",
       "      <td>8.725775e+06</td>\n",
       "      <td>1.730932e+07</td>\n",
       "      <td>8.909275e+06</td>\n",
       "      <td>0.00</td>\n",
       "      <td>7.730143e+07</td>\n",
       "      <td>2.277814e+05</td>\n",
       "    </tr>\n",
       "  </tbody>\n",
       "</table>\n",
       "</div>"
      ],
      "text/plain": [
       "StateID            4             6             8             16          30  \\\n",
       "YearID                                                                        \n",
       "1        1.745931e+07  2.770872e+09  1.012670e+07  4.662517e+06  10220431.5   \n",
       "2        1.462768e+08  3.056520e+08  0.000000e+00  5.768658e+05         0.0   \n",
       "3        3.193161e+07  2.405179e+08  7.516624e+02  5.527672e+05   4435315.0   \n",
       "4        1.214921e+09  6.073755e+08  3.761395e+06  1.211955e+07         0.0   \n",
       "5        1.871788e+07  1.815619e+09  6.287765e+07  4.079936e+08         0.0   \n",
       "\n",
       "StateID            32            35            40            41            48  \\\n",
       "YearID                                                                          \n",
       "1        0.000000e+00  7.676548e+06  1.164236e+08  1.220875e+07  1.519489e+08   \n",
       "2        0.000000e+00  1.130717e+06  1.248806e+08  0.000000e+00  3.466474e+07   \n",
       "3        3.896147e+08  9.064230e+06  5.860247e+07  5.638125e+06  9.688161e+07   \n",
       "4        0.000000e+00  3.417262e+06  4.264110e+08  2.855041e+06  6.587626e+07   \n",
       "5        1.055812e+06  3.892102e+07  8.725775e+06  1.730932e+07  8.909275e+06   \n",
       "\n",
       "StateID           49            53            56  \n",
       "YearID                                            \n",
       "1          648164.16  7.127282e+08  5.996420e+06  \n",
       "2               0.00  2.753115e+08  1.112858e+06  \n",
       "3        17195335.60  4.139732e+07  1.111818e+08  \n",
       "4               0.00  3.635959e+06  6.154971e+04  \n",
       "5               0.00  7.730143e+07  2.277814e+05  "
      ]
     },
     "execution_count": 16,
     "metadata": {},
     "output_type": "execute_result"
    }
   ],
   "source": [
    "loss_table_states = loss_table_states.fillna(0)          # Remove the NaN values that occur whenever an event did not occur.\n",
    "loss_table_states.head()"
   ]
  },
  {
   "cell_type": "code",
   "execution_count": 43,
   "metadata": {},
   "outputs": [
    {
     "data": {
      "image/png": "[encoded data removed]",
      "text/plain": [
       "<Figure size 432x288 with 1 Axes>"
      ]
     },
     "metadata": {
      "needs_background": "light"
     },
     "output_type": "display_data"
    }
   ],
   "source": [
    "ax =  loss_table_states.reset_index().plot.scatter(\"YearID\", 48)\n",
    "\n",
    "ax.set_ylabel(\"GroundUpLoss per Year\")\n",
    "ax.set_title(\"CrestaCode State 48\")\n",
    "plt.show()"
   ]
  },
  {
   "cell_type": "markdown",
   "metadata": {},
   "source": [
    "The total ground up losses per year are useful pieces of information from a Financial standpoint.  Looking at the above plot, it's easy to see that annual GroundUpLoss can be tough to interpret on their own. Thus we want to construct a function that will compute some more informative statistics for us.\n"
   ]
  },
  {
   "cell_type": "code",
   "execution_count": 44,
   "metadata": {},
   "outputs": [],
   "source": [
    "def create_loss_statistic_table(GroundUpLossPerYear):\n",
    "    num_years = len(GroundUpLossPerYear)\n",
    "    column_names = [\"AAL\", \"STD\", \"STDERR\", \"COV\"] # Average Annual Loss, Cumulative Standard Deviation, Cumulative Standard Error, Cumulative Coefficient of Variation\n",
    "    dataframe = pd.DataFrame(data = np.zeros([num_years, 4]), index = np.arange(1, num_years + 1), columns = column_names)\n",
    "    \n",
    "    dataframe.loc[:, \"AAL\"]    = GroundUpLossPerYear.expanding(1).mean()\n",
    "    dataframe.loc[2:, \"STD\"]    = GroundUpLossPerYear.expanding(1).std()\n",
    "    dataframe.loc[2:, \"STDERR\"] = dataframe.loc[2:,\"STD\"] / np.sqrt(np.arange(2, num_years + 1))\n",
    "    dataframe.loc[2:, \"COV\"]    = dataframe.loc[2:,\"STDERR\"] / dataframe.loc[2:, \"AAL\"]\n",
    "    \n",
    "    return(dataframe.fillna(0))\n",
    "\n"
   ]
  },
  {
   "cell_type": "code",
   "execution_count": 45,
   "metadata": {},
   "outputs": [
    {
     "name": "stdout",
     "output_type": "stream",
     "text": [
      "Creating AAL table takes 0.015589 seconds.\n",
      "<class 'pandas.core.frame.DataFrame'>\n",
      "Int64Index: 10000 entries, 1 to 10000\n",
      "Data columns (total 4 columns):\n",
      "AAL       10000 non-null float64\n",
      "STD       10000 non-null float64\n",
      "STDERR    10000 non-null float64\n",
      "COV       10000 non-null float64\n",
      "dtypes: float64(4)\n",
      "memory usage: 710.6 KB\n",
      "None\n"
     ]
    },
    {
     "data": {
      "text/html": [
       "<div>\n",
       "<style scoped>\n",
       "    .dataframe tbody tr th:only-of-type {\n",
       "        vertical-align: middle;\n",
       "    }\n",
       "\n",
       "    .dataframe tbody tr th {\n",
       "        vertical-align: top;\n",
       "    }\n",
       "\n",
       "    .dataframe thead th {\n",
       "        text-align: right;\n",
       "    }\n",
       "</style>\n",
       "<table border=\"1\" class=\"dataframe\">\n",
       "  <thead>\n",
       "    <tr style=\"text-align: right;\">\n",
       "      <th></th>\n",
       "      <th>AAL</th>\n",
       "      <th>STD</th>\n",
       "      <th>STDERR</th>\n",
       "      <th>COV</th>\n",
       "    </tr>\n",
       "  </thead>\n",
       "  <tbody>\n",
       "    <tr>\n",
       "      <td>1</td>\n",
       "      <td>1.519489e+08</td>\n",
       "      <td>0.000000e+00</td>\n",
       "      <td>0.000000e+00</td>\n",
       "      <td>0.000000</td>\n",
       "    </tr>\n",
       "    <tr>\n",
       "      <td>2</td>\n",
       "      <td>9.330683e+07</td>\n",
       "      <td>8.293244e+07</td>\n",
       "      <td>5.864209e+07</td>\n",
       "      <td>0.628487</td>\n",
       "    </tr>\n",
       "    <tr>\n",
       "      <td>3</td>\n",
       "      <td>9.449842e+07</td>\n",
       "      <td>5.867840e+07</td>\n",
       "      <td>3.387799e+07</td>\n",
       "      <td>0.358503</td>\n",
       "    </tr>\n",
       "    <tr>\n",
       "      <td>4</td>\n",
       "      <td>8.734288e+07</td>\n",
       "      <td>5.000243e+07</td>\n",
       "      <td>2.500122e+07</td>\n",
       "      <td>0.286242</td>\n",
       "    </tr>\n",
       "    <tr>\n",
       "      <td>5</td>\n",
       "      <td>7.165616e+07</td>\n",
       "      <td>5.572745e+07</td>\n",
       "      <td>2.492207e+07</td>\n",
       "      <td>0.347801</td>\n",
       "    </tr>\n",
       "  </tbody>\n",
       "</table>\n",
       "</div>"
      ],
      "text/plain": [
       "            AAL           STD        STDERR       COV\n",
       "1  1.519489e+08  0.000000e+00  0.000000e+00  0.000000\n",
       "2  9.330683e+07  8.293244e+07  5.864209e+07  0.628487\n",
       "3  9.449842e+07  5.867840e+07  3.387799e+07  0.358503\n",
       "4  8.734288e+07  5.000243e+07  2.500122e+07  0.286242\n",
       "5  7.165616e+07  5.572745e+07  2.492207e+07  0.347801"
      ]
     },
     "execution_count": 45,
     "metadata": {},
     "output_type": "execute_result"
    }
   ],
   "source": [
    "start_time = time.time()\n",
    "aal_table = create_loss_statistic_table(loss_table_states.loc[:, 48])\n",
    "print(\"Creating AAL table takes %f seconds.\"%(time.time() - start_time))\n",
    "\n",
    "print(aal_table.info(memory_usage='deep'))\n",
    "\n",
    "aal_table.head()"
   ]
  },
  {
   "cell_type": "markdown",
   "metadata": {},
   "source": [
    "Generating the above table is extremely fast for a single state, and can be used to plot useful information about the convergence of the stochastic catalog for that particular state.  In particular, we consider a catalog to be converged at a particular year if the coefficient of variation (COV) is < 0.05. "
   ]
  },
  {
   "cell_type": "code",
   "execution_count": 48,
   "metadata": {},
   "outputs": [
    {
     "data": {
      "image/png": "[encoded data removed]",
      "text/plain": [
       "<Figure size 432x288 with 1 Axes>"
      ]
     },
     "metadata": {
      "needs_background": "light"
     },
     "output_type": "display_data"
    }
   ],
   "source": [
    "years = loss_table_states.reset_index().loc[:,\"YearID\"].to_numpy()\n",
    "\n",
    "plt.plot(years, aal_table.COV, label = \"Computed from Loss Data\")\n",
    "\n",
    "plt.plot([0, 10000], [0.05, 0.05], c = 'red', linestyle = \":\", label = \"Convergence Line\")  # place convergence line\n",
    "\n",
    "plt.xlabel(\"YearID\")\n",
    "\n",
    "plt.ylabel(\"Coefficient of Variation\")\n",
    "\n",
    "plt.title(\"CrestaCode State 48\")\n",
    "\n",
    "plt.legend()\n",
    "\n",
    "plt.show()\n"
   ]
  },
  {
   "cell_type": "code",
   "execution_count": 49,
   "metadata": {},
   "outputs": [
    {
     "name": "stdout",
     "output_type": "stream",
     "text": [
      "Creating all AAL table takes 0.083777 seconds.\n"
     ]
    }
   ],
   "source": [
    "start_time = time.time()\n",
    "\n",
    "aal_table_set = [create_loss_statistic_table(loss_table_states.loc[:, state_num]) for state_num in loss_table_states.columns]\n",
    "\n",
    "print(\"Creating all AAL table takes %f seconds.\"%(time.time() - start_time))"
   ]
  },
  {
   "cell_type": "markdown",
   "metadata": {},
   "source": [
    "Now we have a list of Data.Frames with identical columns and indices.  Lets concatenate them by their index number so that we can compute averages and standard deviations across all states."
   ]
  },
  {
   "cell_type": "code",
   "execution_count": 50,
   "metadata": {},
   "outputs": [
    {
     "name": "stdout",
     "output_type": "stream",
     "text": [
      "<class 'pandas.core.frame.DataFrame'>\n",
      "Int64Index: 130000 entries, 1 to 10000\n",
      "Data columns (total 4 columns):\n",
      "AAL       130000 non-null float64\n",
      "STD       130000 non-null float64\n",
      "STDERR    130000 non-null float64\n",
      "COV       130000 non-null float64\n",
      "dtypes: float64(4)\n",
      "memory usage: 5.0 MB\n",
      "None\n"
     ]
    }
   ],
   "source": [
    "aal_tables = pd.concat(aal_table_set) # keeps original row index\n",
    "print(aal_tables.info())              # show that it keeps original row index"
   ]
  },
  {
   "cell_type": "markdown",
   "metadata": {},
   "source": [
    "Now lets group by the indices and take the average of each column."
   ]
  },
  {
   "cell_type": "code",
   "execution_count": 56,
   "metadata": {},
   "outputs": [
    {
     "name": "stdout",
     "output_type": "stream",
     "text": [
      "<class 'pandas.core.frame.DataFrame'>\n",
      "Int64Index: 10000 entries, 1 to 10000\n",
      "Data columns (total 4 columns):\n",
      "AAL       10000 non-null float64\n",
      "STD       10000 non-null float64\n",
      "STDERR    10000 non-null float64\n",
      "COV       10000 non-null float64\n",
      "dtypes: float64(4)\n",
      "memory usage: 390.6 KB\n",
      "None\n"
     ]
    },
    {
     "data": {
      "image/png": "[encoded data removed]",
      "text/plain": [
       "<Figure size 432x288 with 1 Axes>"
      ]
     },
     "metadata": {
      "needs_background": "light"
     },
     "output_type": "display_data"
    }
   ],
   "source": [
    "aal_tables_average = aal_tables.groupby(aal_tables.index).mean()\n",
    "aal_tables_std     = aal_tables.groupby(aal_tables.index).std()\n",
    "print(aal_tables_average.info())\n",
    "plt.plot(years[3:], aal_tables_average.loc[4:,\"COV\"], label = \"Average CoV\")\n",
    "plt.plot(years[3:], aal_tables_average.loc[4:,\"COV\"] + 2*aal_tables_std.loc[4:, \"COV\"], c = 'red', label = \"Symmetric Error Bars\", linestyle = \":\")\n",
    "plt.plot(years[3:], aal_tables_average.loc[4:,\"COV\"] - 2*aal_tables_std.loc[4:, \"COV\"], c = 'red', label = None, linestyle = \":\")\n",
    "\n",
    "plt.xlabel(\"YearID\")\n",
    "plt.ylabel(\"Coefficient of Variation\")\n",
    "plt.title(\"Average Coefficient of Variation over 13 States\")\n",
    "plt.legend()\n",
    "plt.show()"
   ]
  },
  {
   "cell_type": "markdown",
   "metadata": {},
   "source": [
    "Looking at the above plot, we can se that the stochastic catalog approaches the convergence criterion fairly quickly on average, and even the second standard deviation from the mean approaches convergence quickly as well.  However, one should be careful when thinking about this result, because the plots are unlikely to be normally distributed due to the truncation of the coefficient of variation at one and at zero.  Looking at the \"error bars\", we can see that these bounds are violated by the standard deviation.  Instead, let's look at the percentage of states whose catalogs have converged by a particular year."
   ]
  },
  {
   "cell_type": "code",
   "execution_count": 57,
   "metadata": {},
   "outputs": [
    {
     "data": {
      "text/html": [
       "<div>\n",
       "<style scoped>\n",
       "    .dataframe tbody tr th:only-of-type {\n",
       "        vertical-align: middle;\n",
       "    }\n",
       "\n",
       "    .dataframe tbody tr th {\n",
       "        vertical-align: top;\n",
       "    }\n",
       "\n",
       "    .dataframe thead th {\n",
       "        text-align: right;\n",
       "    }\n",
       "</style>\n",
       "<table border=\"1\" class=\"dataframe\">\n",
       "  <thead>\n",
       "    <tr style=\"text-align: right;\">\n",
       "      <th></th>\n",
       "      <th>AAL</th>\n",
       "      <th>STD</th>\n",
       "      <th>STDERR</th>\n",
       "      <th>COV</th>\n",
       "      <th>Converged</th>\n",
       "    </tr>\n",
       "  </thead>\n",
       "  <tbody>\n",
       "    <tr>\n",
       "      <td>1</td>\n",
       "      <td>1.745931e+07</td>\n",
       "      <td>0.000000e+00</td>\n",
       "      <td>0.000000e+00</td>\n",
       "      <td>0.000000</td>\n",
       "      <td>0</td>\n",
       "    </tr>\n",
       "    <tr>\n",
       "      <td>2</td>\n",
       "      <td>8.186803e+07</td>\n",
       "      <td>9.108769e+07</td>\n",
       "      <td>6.440872e+07</td>\n",
       "      <td>0.786738</td>\n",
       "      <td>0</td>\n",
       "    </tr>\n",
       "    <tr>\n",
       "      <td>3</td>\n",
       "      <td>6.522256e+07</td>\n",
       "      <td>7.056698e+07</td>\n",
       "      <td>4.074187e+07</td>\n",
       "      <td>0.624659</td>\n",
       "      <td>0</td>\n",
       "    </tr>\n",
       "    <tr>\n",
       "      <td>4</td>\n",
       "      <td>3.526471e+08</td>\n",
       "      <td>5.777293e+08</td>\n",
       "      <td>2.888647e+08</td>\n",
       "      <td>0.819132</td>\n",
       "      <td>0</td>\n",
       "    </tr>\n",
       "    <tr>\n",
       "      <td>5</td>\n",
       "      <td>2.858612e+08</td>\n",
       "      <td>5.221400e+08</td>\n",
       "      <td>2.335081e+08</td>\n",
       "      <td>0.816858</td>\n",
       "      <td>0</td>\n",
       "    </tr>\n",
       "    <tr>\n",
       "      <td>...</td>\n",
       "      <td>...</td>\n",
       "      <td>...</td>\n",
       "      <td>...</td>\n",
       "      <td>...</td>\n",
       "      <td>...</td>\n",
       "    </tr>\n",
       "    <tr>\n",
       "      <td>9996</td>\n",
       "      <td>3.206868e+07</td>\n",
       "      <td>1.263616e+08</td>\n",
       "      <td>1.263869e+06</td>\n",
       "      <td>0.039411</td>\n",
       "      <td>1</td>\n",
       "    </tr>\n",
       "    <tr>\n",
       "      <td>9997</td>\n",
       "      <td>3.206567e+07</td>\n",
       "      <td>1.263556e+08</td>\n",
       "      <td>1.263746e+06</td>\n",
       "      <td>0.039411</td>\n",
       "      <td>1</td>\n",
       "    </tr>\n",
       "    <tr>\n",
       "      <td>9998</td>\n",
       "      <td>3.206273e+07</td>\n",
       "      <td>1.263496e+08</td>\n",
       "      <td>1.263623e+06</td>\n",
       "      <td>0.039411</td>\n",
       "      <td>1</td>\n",
       "    </tr>\n",
       "    <tr>\n",
       "      <td>9999</td>\n",
       "      <td>3.206092e+07</td>\n",
       "      <td>1.263434e+08</td>\n",
       "      <td>1.263498e+06</td>\n",
       "      <td>0.039409</td>\n",
       "      <td>1</td>\n",
       "    </tr>\n",
       "    <tr>\n",
       "      <td>10000</td>\n",
       "      <td>3.205772e+07</td>\n",
       "      <td>1.263375e+08</td>\n",
       "      <td>1.263375e+06</td>\n",
       "      <td>0.039409</td>\n",
       "      <td>1</td>\n",
       "    </tr>\n",
       "  </tbody>\n",
       "</table>\n",
       "<p>130000 rows × 5 columns</p>\n",
       "</div>"
      ],
      "text/plain": [
       "                AAL           STD        STDERR       COV  Converged\n",
       "1      1.745931e+07  0.000000e+00  0.000000e+00  0.000000          0\n",
       "2      8.186803e+07  9.108769e+07  6.440872e+07  0.786738          0\n",
       "3      6.522256e+07  7.056698e+07  4.074187e+07  0.624659          0\n",
       "4      3.526471e+08  5.777293e+08  2.888647e+08  0.819132          0\n",
       "5      2.858612e+08  5.221400e+08  2.335081e+08  0.816858          0\n",
       "...             ...           ...           ...       ...        ...\n",
       "9996   3.206868e+07  1.263616e+08  1.263869e+06  0.039411          1\n",
       "9997   3.206567e+07  1.263556e+08  1.263746e+06  0.039411          1\n",
       "9998   3.206273e+07  1.263496e+08  1.263623e+06  0.039411          1\n",
       "9999   3.206092e+07  1.263434e+08  1.263498e+06  0.039409          1\n",
       "10000  3.205772e+07  1.263375e+08  1.263375e+06  0.039409          1\n",
       "\n",
       "[130000 rows x 5 columns]"
      ]
     },
     "execution_count": 57,
     "metadata": {},
     "output_type": "execute_result"
    }
   ],
   "source": [
    "aal_tables[\"Converged\"] = aal_tables.loc[:,\"COV\"] < 0.05\n",
    "\n",
    "aal_tables[\"Converged\"] = aal_tables[\"Converged\"].astype(int) # convert true/false to 0/1\n",
    "\n",
    "aal_tables.loc[1, \"Converged\"] = 0           # the first row is not meaningful\n",
    "\n",
    "aal_tables"
   ]
  },
  {
   "cell_type": "code",
   "execution_count": 58,
   "metadata": {},
   "outputs": [
    {
     "data": {
      "text/html": [
       "<div>\n",
       "<style scoped>\n",
       "    .dataframe tbody tr th:only-of-type {\n",
       "        vertical-align: middle;\n",
       "    }\n",
       "\n",
       "    .dataframe tbody tr th {\n",
       "        vertical-align: top;\n",
       "    }\n",
       "\n",
       "    .dataframe thead th {\n",
       "        text-align: right;\n",
       "    }\n",
       "</style>\n",
       "<table border=\"1\" class=\"dataframe\">\n",
       "  <thead>\n",
       "    <tr style=\"text-align: right;\">\n",
       "      <th></th>\n",
       "      <th>AAL</th>\n",
       "      <th>STD</th>\n",
       "      <th>STDERR</th>\n",
       "      <th>COV</th>\n",
       "      <th>Converged</th>\n",
       "    </tr>\n",
       "  </thead>\n",
       "  <tbody>\n",
       "    <tr>\n",
       "      <td>1</td>\n",
       "      <td>2.939209e+08</td>\n",
       "      <td>0.000000e+00</td>\n",
       "      <td>0.000000e+00</td>\n",
       "      <td>0.000000</td>\n",
       "      <td>0.000000</td>\n",
       "    </tr>\n",
       "    <tr>\n",
       "      <td>2</td>\n",
       "      <td>1.811761e+08</td>\n",
       "      <td>1.743787e+08</td>\n",
       "      <td>1.233044e+08</td>\n",
       "      <td>0.684941</td>\n",
       "      <td>0.153846</td>\n",
       "    </tr>\n",
       "    <tr>\n",
       "      <td>3</td>\n",
       "      <td>1.466049e+08</td>\n",
       "      <td>1.745471e+08</td>\n",
       "      <td>1.007748e+08</td>\n",
       "      <td>0.668564</td>\n",
       "      <td>0.000000</td>\n",
       "    </tr>\n",
       "    <tr>\n",
       "      <td>4</td>\n",
       "      <td>1.549620e+08</td>\n",
       "      <td>2.003918e+08</td>\n",
       "      <td>1.001959e+08</td>\n",
       "      <td>0.652877</td>\n",
       "      <td>0.000000</td>\n",
       "    </tr>\n",
       "    <tr>\n",
       "      <td>5</td>\n",
       "      <td>1.617798e+08</td>\n",
       "      <td>2.005383e+08</td>\n",
       "      <td>8.968345e+07</td>\n",
       "      <td>0.689452</td>\n",
       "      <td>0.000000</td>\n",
       "    </tr>\n",
       "    <tr>\n",
       "      <td>...</td>\n",
       "      <td>...</td>\n",
       "      <td>...</td>\n",
       "      <td>...</td>\n",
       "      <td>...</td>\n",
       "      <td>...</td>\n",
       "    </tr>\n",
       "    <tr>\n",
       "      <td>9996</td>\n",
       "      <td>2.674755e+08</td>\n",
       "      <td>5.496094e+08</td>\n",
       "      <td>5.497193e+06</td>\n",
       "      <td>0.031967</td>\n",
       "      <td>1.000000</td>\n",
       "    </tr>\n",
       "    <tr>\n",
       "      <td>9997</td>\n",
       "      <td>2.674688e+08</td>\n",
       "      <td>5.495828e+08</td>\n",
       "      <td>5.496653e+06</td>\n",
       "      <td>0.031966</td>\n",
       "      <td>1.000000</td>\n",
       "    </tr>\n",
       "    <tr>\n",
       "      <td>9998</td>\n",
       "      <td>2.674861e+08</td>\n",
       "      <td>5.495690e+08</td>\n",
       "      <td>5.496240e+06</td>\n",
       "      <td>0.031964</td>\n",
       "      <td>1.000000</td>\n",
       "    </tr>\n",
       "    <tr>\n",
       "      <td>9999</td>\n",
       "      <td>2.674802e+08</td>\n",
       "      <td>5.495440e+08</td>\n",
       "      <td>5.495715e+06</td>\n",
       "      <td>0.031963</td>\n",
       "      <td>1.000000</td>\n",
       "    </tr>\n",
       "    <tr>\n",
       "      <td>10000</td>\n",
       "      <td>2.674681e+08</td>\n",
       "      <td>5.495184e+08</td>\n",
       "      <td>5.495184e+06</td>\n",
       "      <td>0.031962</td>\n",
       "      <td>1.000000</td>\n",
       "    </tr>\n",
       "  </tbody>\n",
       "</table>\n",
       "<p>10000 rows × 5 columns</p>\n",
       "</div>"
      ],
      "text/plain": [
       "                AAL           STD        STDERR       COV  Converged\n",
       "1      2.939209e+08  0.000000e+00  0.000000e+00  0.000000   0.000000\n",
       "2      1.811761e+08  1.743787e+08  1.233044e+08  0.684941   0.153846\n",
       "3      1.466049e+08  1.745471e+08  1.007748e+08  0.668564   0.000000\n",
       "4      1.549620e+08  2.003918e+08  1.001959e+08  0.652877   0.000000\n",
       "5      1.617798e+08  2.005383e+08  8.968345e+07  0.689452   0.000000\n",
       "...             ...           ...           ...       ...        ...\n",
       "9996   2.674755e+08  5.496094e+08  5.497193e+06  0.031967   1.000000\n",
       "9997   2.674688e+08  5.495828e+08  5.496653e+06  0.031966   1.000000\n",
       "9998   2.674861e+08  5.495690e+08  5.496240e+06  0.031964   1.000000\n",
       "9999   2.674802e+08  5.495440e+08  5.495715e+06  0.031963   1.000000\n",
       "10000  2.674681e+08  5.495184e+08  5.495184e+06  0.031962   1.000000\n",
       "\n",
       "[10000 rows x 5 columns]"
      ]
     },
     "execution_count": 58,
     "metadata": {},
     "output_type": "execute_result"
    }
   ],
   "source": [
    "aal_table_grouped = aal_tables.groupby(aal_tables.index).mean()\n",
    "\n",
    "aal_table_grouped"
   ]
  },
  {
   "cell_type": "code",
   "execution_count": 62,
   "metadata": {},
   "outputs": [
    {
     "data": {
      "text/plain": [
       "Text(0, 0.5, 'Percentage of States Converged')"
      ]
     },
     "execution_count": 62,
     "metadata": {},
     "output_type": "execute_result"
    },
    {
     "data": {
      "image/png": "[encoded data removed]",
      "text/plain": [
       "<Figure size 432x288 with 1 Axes>"
      ]
     },
     "metadata": {
      "needs_background": "light"
     },
     "output_type": "display_data"
    }
   ],
   "source": [
    "plt.plot(years[:], aal_table_grouped.loc[:, \"Converged\"])\n",
    "plt.xlabel(\"YearID\")\n",
    "plt.ylabel(\"Percentage of States Converged\")"
   ]
  },
  {
   "cell_type": "markdown",
   "metadata": {},
   "source": [
    "The above plot shows the percentage of states whose catalog has converged by YearID.  It is a very odd looking plot, but it provides useful information and some insight into the convergence criterion itself.  The first thing to note: roughly twenty percent of our catalog meets the convergence criterion after just a few years.  Unfortunately, that percentage almost immediately drops to zero.  This underscores the statistical nature of the coefficient of variation.  For each year, we are estimating the coefficient of variation from a set of random samples.  If the random samples themselves change, then the estimate of the coefficient of variation will change as well.  This variation may cause the coefficient to oscillate above and below the threshold for convergence.  Thus, adding a new datapoint by considering an additional year may change our belief about the catalog's convergence.\n",
    "\n",
    "Here we only have 13 states, which is a fairly small sample size for estimating the percentage of states converged.  In addition, the coefficient of variation is a function of YearID.  It is likely to be highly sensitive to the data at low YearID counts, due to the limited datasize.  As the number of years in the catalog increase, we should expect the variability to decrease due to the law of large numbers.\n",
    "\n",
    "Lets bundle this analysis into a function so that we can analyze the convergence by county."
   ]
  },
  {
   "cell_type": "code",
   "execution_count": 63,
   "metadata": {},
   "outputs": [],
   "source": [
    "def perform_analysis_on_partitioned_catalog(fileset):\n",
    "    full_dataset = pd.concat([read_and_reduce_dataset(file) for file in fileset], ignore_index = True)\n",
    "    loss_table   = pd.pivot_table(full_dataset.drop('CrestaCode', axis = 1), index = \"YearID\", columns = \"StateID\", values = \"GroundUpLoss\",aggfunc = np.sum)\n",
    "    loss_table   = loss_table.fillna(0)    \n",
    "    \n",
    "    aal_tab_set = [create_loss_statistic_table(loss_table.loc[:, col]) for col in loss_table.columns]\n",
    "    aal_tab     = pd.concat(aal_tab_set) # keeps original row index\n",
    "    \n",
    "    aal_tab[\"Converged\"] = aal_tab.loc[:,\"COV\"] < 0.05\n",
    "    aal_tab[\"Converged\"] = aal_tab[\"Converged\"].astype(int) # convert true/false to 0/1\n",
    "    \n",
    "    aal_tab.loc[1, \"Converged\"] = 0     \n",
    "    \n",
    "    aal_tab_grouped = aal_tab.groupby(aal_tab.index).mean()\n",
    "    print(aal_tab_grouped)\n",
    "    return(aal_tab_grouped)\n"
   ]
  },
  {
   "cell_type": "code",
   "execution_count": 64,
   "metadata": {},
   "outputs": [
    {
     "name": "stdout",
     "output_type": "stream",
     "text": [
      "                AAL           STD        STDERR       COV  Converged\n",
      "1      2.939209e+08  0.000000e+00  0.000000e+00  0.000000   0.000000\n",
      "2      1.811761e+08  1.743787e+08  1.233044e+08  0.684941   0.153846\n",
      "3      1.466049e+08  1.745471e+08  1.007748e+08  0.668564   0.000000\n",
      "4      1.549620e+08  2.003918e+08  1.001959e+08  0.652877   0.000000\n",
      "5      1.617798e+08  2.005383e+08  8.968345e+07  0.689452   0.000000\n",
      "...             ...           ...           ...       ...        ...\n",
      "9996   2.674755e+08  5.496094e+08  5.497193e+06  0.031967   1.000000\n",
      "9997   2.674688e+08  5.495828e+08  5.496653e+06  0.031966   1.000000\n",
      "9998   2.674861e+08  5.495690e+08  5.496240e+06  0.031964   1.000000\n",
      "9999   2.674802e+08  5.495440e+08  5.495715e+06  0.031963   1.000000\n",
      "10000  2.674681e+08  5.495184e+08  5.495184e+06  0.031962   1.000000\n",
      "\n",
      "[10000 rows x 5 columns]\n",
      "Processing the 10K catalog took 7.803656 seconds\n"
     ]
    },
    {
     "data": {
      "text/html": [
       "<div>\n",
       "<style scoped>\n",
       "    .dataframe tbody tr th:only-of-type {\n",
       "        vertical-align: middle;\n",
       "    }\n",
       "\n",
       "    .dataframe tbody tr th {\n",
       "        vertical-align: top;\n",
       "    }\n",
       "\n",
       "    .dataframe thead th {\n",
       "        text-align: right;\n",
       "    }\n",
       "</style>\n",
       "<table border=\"1\" class=\"dataframe\">\n",
       "  <thead>\n",
       "    <tr style=\"text-align: right;\">\n",
       "      <th></th>\n",
       "      <th>AAL</th>\n",
       "      <th>STD</th>\n",
       "      <th>STDERR</th>\n",
       "      <th>COV</th>\n",
       "      <th>Converged</th>\n",
       "    </tr>\n",
       "  </thead>\n",
       "  <tbody>\n",
       "    <tr>\n",
       "      <td>1</td>\n",
       "      <td>2.939209e+08</td>\n",
       "      <td>0.000000e+00</td>\n",
       "      <td>0.000000e+00</td>\n",
       "      <td>0.000000</td>\n",
       "      <td>0.000000</td>\n",
       "    </tr>\n",
       "    <tr>\n",
       "      <td>2</td>\n",
       "      <td>1.811761e+08</td>\n",
       "      <td>1.743787e+08</td>\n",
       "      <td>1.233044e+08</td>\n",
       "      <td>0.684941</td>\n",
       "      <td>0.153846</td>\n",
       "    </tr>\n",
       "    <tr>\n",
       "      <td>3</td>\n",
       "      <td>1.466049e+08</td>\n",
       "      <td>1.745471e+08</td>\n",
       "      <td>1.007748e+08</td>\n",
       "      <td>0.668564</td>\n",
       "      <td>0.000000</td>\n",
       "    </tr>\n",
       "    <tr>\n",
       "      <td>4</td>\n",
       "      <td>1.549620e+08</td>\n",
       "      <td>2.003918e+08</td>\n",
       "      <td>1.001959e+08</td>\n",
       "      <td>0.652877</td>\n",
       "      <td>0.000000</td>\n",
       "    </tr>\n",
       "    <tr>\n",
       "      <td>5</td>\n",
       "      <td>1.617798e+08</td>\n",
       "      <td>2.005383e+08</td>\n",
       "      <td>8.968345e+07</td>\n",
       "      <td>0.689452</td>\n",
       "      <td>0.000000</td>\n",
       "    </tr>\n",
       "  </tbody>\n",
       "</table>\n",
       "</div>"
      ],
      "text/plain": [
       "            AAL           STD        STDERR       COV  Converged\n",
       "1  2.939209e+08  0.000000e+00  0.000000e+00  0.000000   0.000000\n",
       "2  1.811761e+08  1.743787e+08  1.233044e+08  0.684941   0.153846\n",
       "3  1.466049e+08  1.745471e+08  1.007748e+08  0.668564   0.000000\n",
       "4  1.549620e+08  2.003918e+08  1.001959e+08  0.652877   0.000000\n",
       "5  1.617798e+08  2.005383e+08  8.968345e+07  0.689452   0.000000"
      ]
     },
     "execution_count": 64,
     "metadata": {},
     "output_type": "execute_result"
    }
   ],
   "source": [
    "start_time = time.time()\n",
    "output = perform_analysis_on_partitioned_catalog(fileset)\n",
    "print(\"Processing the 10K catalog took %f seconds\"%(time.time() - start_time))\n",
    "\n",
    "output.head()"
   ]
  },
  {
   "cell_type": "code",
   "execution_count": 69,
   "metadata": {},
   "outputs": [
    {
     "data": {
      "text/plain": [
       "Text(0.5, 1.0, '10k Year Catalog')"
      ]
     },
     "execution_count": 69,
     "metadata": {},
     "output_type": "execute_result"
    },
    {
     "data": {
      "image/png": "[encoded data removed]",
      "text/plain": [
       "<Figure size 432x288 with 1 Axes>"
      ]
     },
     "metadata": {
      "needs_background": "light"
     },
     "output_type": "display_data"
    }
   ],
   "source": [
    "# And now we can verify that our output is still the same as before.\n",
    "plt.plot(years, output.Converged)\n",
    "plt.xlabel(\"YearID\")\n",
    "plt.ylabel(\"Percentage of States Converged\")\n",
    "plt.title(\"10k Year Catalog\")"
   ]
  },
  {
   "cell_type": "markdown",
   "metadata": {},
   "source": [
    "Lets try this with the 100K catalog."
   ]
  },
  {
   "cell_type": "code",
   "execution_count": 67,
   "metadata": {},
   "outputs": [],
   "source": [
    "dataset_path_prefix_100 = \"./100K/Unfiltered_100k_20190919_part_\"\n",
    "\n",
    "num_files_100 = 100           # number of parts the dataset is partitioned into\n",
    "\n",
    "num_catalog_years_100 = 100000\n",
    "\n",
    "fileset_100 = [\"%s%d.csv\"%(dataset_path_prefix_100, index) for index in np.arange(1, num_files_100 + 1)]"
   ]
  },
  {
   "cell_type": "code",
   "execution_count": 68,
   "metadata": {},
   "outputs": [
    {
     "name": "stdout",
     "output_type": "stream",
     "text": [
      "                 AAL           STD        STDERR       COV  Converged\n",
      "1       3.014223e+08  0.000000e+00  0.000000e+00  0.000000   0.000000\n",
      "2       1.883073e+08  1.713907e+08  1.211915e+08  0.677422   0.076923\n",
      "3       1.765957e+08  1.769188e+08  1.021441e+08  0.708341   0.000000\n",
      "4       2.057774e+08  1.928237e+08  9.641187e+07  0.653611   0.000000\n",
      "5       2.033838e+08  1.809004e+08  8.090111e+07  0.520041   0.000000\n",
      "...              ...           ...           ...       ...        ...\n",
      "99996   4.098960e+08  7.034156e+08  2.224440e+06  0.007380   1.000000\n",
      "99997   4.098979e+08  7.034139e+08  2.224424e+06  0.007380   1.000000\n",
      "99998   4.099023e+08  7.034150e+08  2.224416e+06  0.007380   1.000000\n",
      "99999   4.099005e+08  7.034122e+08  2.224396e+06  0.007380   1.000000\n",
      "100000  4.098987e+08  7.034092e+08  2.224375e+06  0.007380   1.000000\n",
      "\n",
      "[100000 rows x 5 columns]\n",
      "Processing the 100K catalog took 164.4024531841278 seconds\n"
     ]
    },
    {
     "data": {
      "text/html": [
       "<div>\n",
       "<style scoped>\n",
       "    .dataframe tbody tr th:only-of-type {\n",
       "        vertical-align: middle;\n",
       "    }\n",
       "\n",
       "    .dataframe tbody tr th {\n",
       "        vertical-align: top;\n",
       "    }\n",
       "\n",
       "    .dataframe thead th {\n",
       "        text-align: right;\n",
       "    }\n",
       "</style>\n",
       "<table border=\"1\" class=\"dataframe\">\n",
       "  <thead>\n",
       "    <tr style=\"text-align: right;\">\n",
       "      <th></th>\n",
       "      <th>AAL</th>\n",
       "      <th>STD</th>\n",
       "      <th>STDERR</th>\n",
       "      <th>COV</th>\n",
       "      <th>Converged</th>\n",
       "    </tr>\n",
       "  </thead>\n",
       "  <tbody>\n",
       "    <tr>\n",
       "      <td>1</td>\n",
       "      <td>3.014223e+08</td>\n",
       "      <td>0.000000e+00</td>\n",
       "      <td>0.000000e+00</td>\n",
       "      <td>0.000000</td>\n",
       "      <td>0.000000</td>\n",
       "    </tr>\n",
       "    <tr>\n",
       "      <td>2</td>\n",
       "      <td>1.883073e+08</td>\n",
       "      <td>1.713907e+08</td>\n",
       "      <td>1.211915e+08</td>\n",
       "      <td>0.677422</td>\n",
       "      <td>0.076923</td>\n",
       "    </tr>\n",
       "    <tr>\n",
       "      <td>3</td>\n",
       "      <td>1.765957e+08</td>\n",
       "      <td>1.769188e+08</td>\n",
       "      <td>1.021441e+08</td>\n",
       "      <td>0.708341</td>\n",
       "      <td>0.000000</td>\n",
       "    </tr>\n",
       "    <tr>\n",
       "      <td>4</td>\n",
       "      <td>2.057774e+08</td>\n",
       "      <td>1.928237e+08</td>\n",
       "      <td>9.641187e+07</td>\n",
       "      <td>0.653611</td>\n",
       "      <td>0.000000</td>\n",
       "    </tr>\n",
       "    <tr>\n",
       "      <td>5</td>\n",
       "      <td>2.033838e+08</td>\n",
       "      <td>1.809004e+08</td>\n",
       "      <td>8.090111e+07</td>\n",
       "      <td>0.520041</td>\n",
       "      <td>0.000000</td>\n",
       "    </tr>\n",
       "  </tbody>\n",
       "</table>\n",
       "</div>"
      ],
      "text/plain": [
       "            AAL           STD        STDERR       COV  Converged\n",
       "1  3.014223e+08  0.000000e+00  0.000000e+00  0.000000   0.000000\n",
       "2  1.883073e+08  1.713907e+08  1.211915e+08  0.677422   0.076923\n",
       "3  1.765957e+08  1.769188e+08  1.021441e+08  0.708341   0.000000\n",
       "4  2.057774e+08  1.928237e+08  9.641187e+07  0.653611   0.000000\n",
       "5  2.033838e+08  1.809004e+08  8.090111e+07  0.520041   0.000000"
      ]
     },
     "execution_count": 68,
     "metadata": {},
     "output_type": "execute_result"
    }
   ],
   "source": [
    "start_time = time.time()\n",
    "output_100k = perform_analysis_on_partitioned_catalog(fileset_100)\n",
    "print(\"Processing the 100K catalog took %s seconds\"%( (time.time() - start_time)) )\n",
    "\n",
    "output_100k.head()"
   ]
  },
  {
   "cell_type": "code",
   "execution_count": 70,
   "metadata": {},
   "outputs": [
    {
     "data": {
      "image/png": "[encoded data removed]",
      "text/plain": [
       "<Figure size 432x288 with 1 Axes>"
      ]
     },
     "metadata": {
      "needs_background": "light"
     },
     "output_type": "display_data"
    }
   ],
   "source": [
    "years = np.arange(1, num_catalog_years_100 + 1)\n",
    "plt.plot(years, output_100k.Converged)\n",
    "plt.xlabel(\"YearID\")\n",
    "plt.ylabel(\"Percentage of States Converged\")\n",
    "plt.title(\"100k Year Catalog\")\n",
    "plt.show()"
   ]
  },
  {
   "cell_type": "markdown",
   "metadata": {},
   "source": [
    "Above, we have repeated our analysis from the 10K catalog using the 100K catalog.  In the original set, convergence was reached prior to YearID 10,000.  The process for constructing the catalog is stochastic, so the event generation is random.  As a result, there will be some variability due to the stochastic nature of the simulation.  However, if the catalog was truely converged by YearID 10,000, then we would expect that any catalog that extends past 10,000 years should converge as well.  We should be careful when reading the phrase \"any catalog ...\"  Specifically, I mean that any random repetition of the same sampling procedure should be of similar quality to the catalog that we just studied.  That means considering the same states, the same climate, and the same peril.  A 10K catalog for atlantic hurricanes may converge for the eastern cost of the united states, however it may not converge for earthquakes on the east coast.  This analysis specifically applies to the simulation that we are currently considering.\n",
    "\n",
    "To underscore this point, let us consider the convergence of the same catalog by county, rather than by state."
   ]
  },
  {
   "cell_type": "code",
   "execution_count": 71,
   "metadata": {},
   "outputs": [],
   "source": [
    "def perform_analysis_on_partitioned_catalog_by_county(fileset):\n",
    "    full_dataset = pd.concat([read_and_reduce_dataset(file) for file in fileset], ignore_index = True)\n",
    "    loss_table   = pd.pivot_table(full_dataset.drop('StateID', axis = 1), index = \"YearID\", columns = \"CrestaCode\", values = \"GroundUpLoss\",aggfunc = np.sum)\n",
    "    loss_table   = loss_table.fillna(0)    \n",
    "    \n",
    "    aal_tab_set = [create_loss_statistic_table(loss_table.loc[:, col]) for col in loss_table.columns]\n",
    "    aal_tab     = pd.concat(aal_tab_set) # keeps original row index\n",
    "    \n",
    "    aal_tab[\"Converged\"] = aal_tab.loc[:,\"COV\"] < 0.05\n",
    "    aal_tab[\"Converged\"] = aal_tab[\"Converged\"].astype(int) # convert true/false to 0/1\n",
    "    \n",
    "    aal_tab.loc[1, \"Converged\"] = 0     \n",
    "    \n",
    "    aal_tab_grouped = aal_tab.groupby(aal_tab.index).mean()\n",
    "    print(aal_tab_grouped)\n",
    "    return(aal_tab_grouped)"
   ]
  },
  {
   "cell_type": "code",
   "execution_count": 72,
   "metadata": {},
   "outputs": [
    {
     "name": "stdout",
     "output_type": "stream",
     "text": [
      "                AAL           STD        STDERR       COV  Converged\n",
      "1      5.156507e+06  0.000000e+00  0.000000e+00  0.000000   0.000000\n",
      "2      3.178527e+06  4.379023e+06  3.096437e+06  0.104242   0.892038\n",
      "3      2.572016e+06  4.331223e+06  2.500633e+06  0.169337   0.823212\n",
      "4      2.718632e+06  5.224564e+06  2.612282e+06  0.197973   0.790823\n",
      "5      2.838241e+06  6.024756e+06  2.694353e+06  0.222826   0.763833\n",
      "...             ...           ...           ...       ...        ...\n",
      "9996   4.692553e+06  3.223684e+07  3.224329e+05  0.188064   0.032389\n",
      "9997   4.692435e+06  3.223544e+07  3.224027e+05  0.188059   0.032389\n",
      "9998   4.692738e+06  3.223539e+07  3.223861e+05  0.188051   0.032389\n",
      "9999   4.692634e+06  3.223420e+07  3.223581e+05  0.188050   0.032389\n",
      "10000  4.692423e+06  3.223285e+07  3.223285e+05  0.188042   0.032389\n",
      "\n",
      "[10000 rows x 5 columns]\n",
      "Processing the 10K catalog took 14.605042 seconds\n"
     ]
    }
   ],
   "source": [
    "start_time = time.time()\n",
    "output_10k_by_county = perform_analysis_on_partitioned_catalog_by_county(fileset)\n",
    "\n",
    "print(\"Processing the 10K catalog took %f seconds\"%(time.time() - start_time))"
   ]
  },
  {
   "cell_type": "code",
   "execution_count": 80,
   "metadata": {},
   "outputs": [
    {
     "data": {
      "image/png": "[encoded data removed]",
      "text/plain": [
       "<Figure size 432x288 with 1 Axes>"
      ]
     },
     "metadata": {
      "needs_background": "light"
     },
     "output_type": "display_data"
    },
    {
     "name": "stdout",
     "output_type": "stream",
     "text": [
      "            AAL           STD        STDERR       COV  Converged\n",
      "1  5.156507e+06  0.000000e+00  0.000000e+00  0.000000   0.000000\n",
      "2  3.178527e+06  4.379023e+06  3.096437e+06  0.104242   0.892038\n",
      "3  2.572016e+06  4.331223e+06  2.500633e+06  0.169337   0.823212\n",
      "4  2.718632e+06  5.224564e+06  2.612282e+06  0.197973   0.790823\n",
      "5  2.838241e+06  6.024756e+06  2.694353e+06  0.222826   0.763833\n"
     ]
    },
    {
     "data": {
      "text/html": [
       "<div>\n",
       "<style scoped>\n",
       "    .dataframe tbody tr th:only-of-type {\n",
       "        vertical-align: middle;\n",
       "    }\n",
       "\n",
       "    .dataframe tbody tr th {\n",
       "        vertical-align: top;\n",
       "    }\n",
       "\n",
       "    .dataframe thead th {\n",
       "        text-align: right;\n",
       "    }\n",
       "</style>\n",
       "<table border=\"1\" class=\"dataframe\">\n",
       "  <thead>\n",
       "    <tr style=\"text-align: right;\">\n",
       "      <th></th>\n",
       "      <th>AAL</th>\n",
       "      <th>STD</th>\n",
       "      <th>STDERR</th>\n",
       "      <th>COV</th>\n",
       "      <th>Converged</th>\n",
       "    </tr>\n",
       "  </thead>\n",
       "  <tbody>\n",
       "    <tr>\n",
       "      <td>9996</td>\n",
       "      <td>4.692553e+06</td>\n",
       "      <td>3.223684e+07</td>\n",
       "      <td>322432.914107</td>\n",
       "      <td>0.188064</td>\n",
       "      <td>0.032389</td>\n",
       "    </tr>\n",
       "    <tr>\n",
       "      <td>9997</td>\n",
       "      <td>4.692435e+06</td>\n",
       "      <td>3.223544e+07</td>\n",
       "      <td>322402.739401</td>\n",
       "      <td>0.188059</td>\n",
       "      <td>0.032389</td>\n",
       "    </tr>\n",
       "    <tr>\n",
       "      <td>9998</td>\n",
       "      <td>4.692738e+06</td>\n",
       "      <td>3.223539e+07</td>\n",
       "      <td>322386.135185</td>\n",
       "      <td>0.188051</td>\n",
       "      <td>0.032389</td>\n",
       "    </tr>\n",
       "    <tr>\n",
       "      <td>9999</td>\n",
       "      <td>4.692634e+06</td>\n",
       "      <td>3.223420e+07</td>\n",
       "      <td>322358.132796</td>\n",
       "      <td>0.188050</td>\n",
       "      <td>0.032389</td>\n",
       "    </tr>\n",
       "    <tr>\n",
       "      <td>10000</td>\n",
       "      <td>4.692423e+06</td>\n",
       "      <td>3.223285e+07</td>\n",
       "      <td>322328.544825</td>\n",
       "      <td>0.188042</td>\n",
       "      <td>0.032389</td>\n",
       "    </tr>\n",
       "  </tbody>\n",
       "</table>\n",
       "</div>"
      ],
      "text/plain": [
       "                AAL           STD         STDERR       COV  Converged\n",
       "9996   4.692553e+06  3.223684e+07  322432.914107  0.188064   0.032389\n",
       "9997   4.692435e+06  3.223544e+07  322402.739401  0.188059   0.032389\n",
       "9998   4.692738e+06  3.223539e+07  322386.135185  0.188051   0.032389\n",
       "9999   4.692634e+06  3.223420e+07  322358.132796  0.188050   0.032389\n",
       "10000  4.692423e+06  3.223285e+07  322328.544825  0.188042   0.032389"
      ]
     },
     "execution_count": 80,
     "metadata": {},
     "output_type": "execute_result"
    }
   ],
   "source": [
    "plt.plot(np.arange(1, 10001), output_10k_by_county.Converged)\n",
    "plt.ylim([0,1])\n",
    "plt.xlabel(\"YearID\")\n",
    "plt.ylabel(\"Percentage of Counties Converged\")\n",
    "plt.title(\"Analysis by County\")\n",
    "plt.show()\n",
    "\n",
    "print(output_10k_by_county.head())\n",
    "output_10k_by_county.tail()"
   ]
  },
  {
   "cell_type": "markdown",
   "metadata": {},
   "source": [
    "The analysis by county starts off promising, roughly 90 % of the catalog has converged by year 2!  However, looking at both the plot and the table, we see that this initial optimism is simply noise.  As the sample size grows, the trend starts to become clear: the percentage of counties that reach convergence starts very low, and steadily increases with YearID.  Unfortunately, this steady increase stops at a very low value.  Roughly 97 percent of the catalog fails to converge by 10,000 years.\n",
    "\n",
    "We changed the parameters by which we did our analysis, and thus the results changed as well.  We are trying to estimate rare event probabilities using random sampling.  An event that occurs once every 10 years will be expected to occur 1,000 times in a 10K catalog.  Of course, the random nature of the process means that a specific catalog may only have 950 of those events occur.  If that occurs, we would estimate the event probability as 0.095 rather than the actual value of 0.1.  Let's check the relative error."
   ]
  },
  {
   "cell_type": "code",
   "execution_count": 84,
   "metadata": {},
   "outputs": [
    {
     "data": {
      "text/plain": [
       "5.000000000000004"
      ]
     },
     "execution_count": 84,
     "metadata": {},
     "output_type": "execute_result"
    }
   ],
   "source": [
    "true_value = 0.1\n",
    "\n",
    "estimated_value = 0.095\n",
    "\n",
    "relative_error = 100*abs(true_value - estimated_value)/true_value\n",
    "\n",
    "relative_error"
   ]
  },
  {
   "cell_type": "markdown",
   "metadata": {},
   "source": [
    "This gives us a relative error of roughly five percent, which may not bee too bad for performing analysis with.  However, if we consider an event that occurs only once every twenty thousand years, we might not even get a single event in our catalog to estimate that probability.  In addition, the variance of our estimate is likely to be large due to the relatively small sample size.  \n",
    "\n",
    "This gives us a chance to reflect on what has changed from the state based analysis to the county based analysis: the spatial extent of a county versus a state.  For now, consider hurricanes that impact Richland County in the state of South Carolina.  Because Richland county is contained in the state of South Carolina, any hurricane that impacts Richland county also impacts South Carolina.  However, there are many possible hurricane paths that would impact South Carolina without crossing the boundary of Richland county.  Thus, the probability of a hurricane striking Richland County is smaller than the probability of a hurricane striking South Carolina.\n",
    "\n",
    "By considering a smaller spatial resolution, we are attempting to estimate much smaller probabilities using the same random sampling procedure.  The sample size used to estimate those rare event probabilities needs to be increased in order to have any confidence in our estimates.  So, let's repeat our analysis on the 100K catalog and see how much of an impact the larger sample size will make."
   ]
  },
  {
   "cell_type": "code",
   "execution_count": 85,
   "metadata": {},
   "outputs": [
    {
     "name": "stdout",
     "output_type": "stream",
     "text": [
      "                 AAL           STD        STDERR       COV  Converged\n",
      "1       5.288111e+06  0.000000e+00  0.000000e+00  0.000000   0.000000\n",
      "2       3.303637e+06  3.805790e+06  2.691100e+06  0.184406   0.800270\n",
      "3       3.098170e+06  4.177291e+06  2.411760e+06  0.270227   0.700405\n",
      "4       3.610130e+06  5.598642e+06  2.799321e+06  0.310611   0.654521\n",
      "5       3.568137e+06  6.020551e+06  2.692472e+06  0.333339   0.627530\n",
      "...              ...           ...           ...       ...        ...\n",
      "99996   7.191158e+06  4.059376e+07  1.283713e+05  0.045573   0.713900\n",
      "99997   7.191192e+06  4.059373e+07  1.283706e+05  0.045572   0.713900\n",
      "99998   7.191269e+06  4.059446e+07  1.283722e+05  0.045572   0.713900\n",
      "99999   7.191236e+06  4.059439e+07  1.283714e+05  0.045572   0.713900\n",
      "100000  7.191206e+06  4.059425e+07  1.283703e+05  0.045572   0.713900\n",
      "\n",
      "[100000 rows x 5 columns]\n",
      "Processing the 100K catalog took 3.798837 minutes\n"
     ]
    }
   ],
   "source": [
    "start_time = time.time()\n",
    "output_100k_by_county = perform_analysis_on_partitioned_catalog_by_county(fileset_100)\n",
    "print(\"Processing the 100K catalog took %f minutes\"%((time.time() - start_time)/60))\n"
   ]
  },
  {
   "cell_type": "code",
   "execution_count": 87,
   "metadata": {},
   "outputs": [
    {
     "data": {
      "image/png": "[encoded data removed]",
      "text/plain": [
       "<Figure size 432x288 with 1 Axes>"
      ]
     },
     "metadata": {
      "needs_background": "light"
     },
     "output_type": "display_data"
    },
    {
     "data": {
      "text/html": [
       "<div>\n",
       "<style scoped>\n",
       "    .dataframe tbody tr th:only-of-type {\n",
       "        vertical-align: middle;\n",
       "    }\n",
       "\n",
       "    .dataframe tbody tr th {\n",
       "        vertical-align: top;\n",
       "    }\n",
       "\n",
       "    .dataframe thead th {\n",
       "        text-align: right;\n",
       "    }\n",
       "</style>\n",
       "<table border=\"1\" class=\"dataframe\">\n",
       "  <thead>\n",
       "    <tr style=\"text-align: right;\">\n",
       "      <th></th>\n",
       "      <th>AAL</th>\n",
       "      <th>STD</th>\n",
       "      <th>STDERR</th>\n",
       "      <th>COV</th>\n",
       "      <th>Converged</th>\n",
       "    </tr>\n",
       "  </thead>\n",
       "  <tbody>\n",
       "    <tr>\n",
       "      <td>1</td>\n",
       "      <td>2.939209e+08</td>\n",
       "      <td>0.000000e+00</td>\n",
       "      <td>0.000000e+00</td>\n",
       "      <td>0.000000</td>\n",
       "      <td>0.000000</td>\n",
       "    </tr>\n",
       "    <tr>\n",
       "      <td>2</td>\n",
       "      <td>1.811761e+08</td>\n",
       "      <td>1.743787e+08</td>\n",
       "      <td>1.233044e+08</td>\n",
       "      <td>0.684941</td>\n",
       "      <td>0.153846</td>\n",
       "    </tr>\n",
       "    <tr>\n",
       "      <td>3</td>\n",
       "      <td>1.466049e+08</td>\n",
       "      <td>1.745471e+08</td>\n",
       "      <td>1.007748e+08</td>\n",
       "      <td>0.668564</td>\n",
       "      <td>0.000000</td>\n",
       "    </tr>\n",
       "    <tr>\n",
       "      <td>4</td>\n",
       "      <td>1.549620e+08</td>\n",
       "      <td>2.003918e+08</td>\n",
       "      <td>1.001959e+08</td>\n",
       "      <td>0.652877</td>\n",
       "      <td>0.000000</td>\n",
       "    </tr>\n",
       "    <tr>\n",
       "      <td>5</td>\n",
       "      <td>1.617798e+08</td>\n",
       "      <td>2.005383e+08</td>\n",
       "      <td>8.968345e+07</td>\n",
       "      <td>0.689452</td>\n",
       "      <td>0.000000</td>\n",
       "    </tr>\n",
       "  </tbody>\n",
       "</table>\n",
       "</div>"
      ],
      "text/plain": [
       "            AAL           STD        STDERR       COV  Converged\n",
       "1  2.939209e+08  0.000000e+00  0.000000e+00  0.000000   0.000000\n",
       "2  1.811761e+08  1.743787e+08  1.233044e+08  0.684941   0.153846\n",
       "3  1.466049e+08  1.745471e+08  1.007748e+08  0.668564   0.000000\n",
       "4  1.549620e+08  2.003918e+08  1.001959e+08  0.652877   0.000000\n",
       "5  1.617798e+08  2.005383e+08  8.968345e+07  0.689452   0.000000"
      ]
     },
     "execution_count": 87,
     "metadata": {},
     "output_type": "execute_result"
    }
   ],
   "source": [
    "plt.plot(np.arange(1, 100001), output_100k_by_county.Converged)\n",
    "plt.ylim([0,1])\n",
    "plt.xlabel(\"Years\")\n",
    "plt.ylabel(\"Percentage Converged\")\n",
    "plt.show()\n",
    "\n",
    "output.head()"
   ]
  },
  {
   "cell_type": "code",
   "execution_count": null,
   "metadata": {},
   "outputs": [],
   "source": []
  }
 ],
 "metadata": {
  "kernelspec": {
   "display_name": "Python 3",
   "language": "python",
   "name": "python3"
  },
  "language_info": {
   "codemirror_mode": {
    "name": "ipython",
    "version": 3
   },
   "file_extension": ".py",
   "mimetype": "text/x-python",
   "name": "python",
   "nbconvert_exporter": "python",
   "pygments_lexer": "ipython3",
   "version": "3.7.4"
  }
 },
 "nbformat": 4,
 "nbformat_minor": 2
}
